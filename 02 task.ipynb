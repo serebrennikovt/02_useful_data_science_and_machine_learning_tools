{
  "nbformat": 4,
  "nbformat_minor": 0,
  "metadata": {
    "kernelspec": {
      "name": "python3",
      "display_name": "Python 3",
      "language": "python"
    },
    "language_info": {
      "name": "python",
      "version": "3.6.13",
      "mimetype": "text/x-python",
      "codemirror_mode": {
        "name": "ipython",
        "version": 3
      },
      "pygments_lexer": "ipython3",
      "nbconvert_exporter": "python",
      "file_extension": ".py"
    },
    "toc": {
      "base_numbering": 1,
      "nav_menu": {},
      "number_sections": true,
      "sideBar": true,
      "skip_h1_title": false,
      "title_cell": "Table of Contents",
      "title_sidebar": "Contents",
      "toc_cell": false,
      "toc_position": {
        "height": "calc(100% - 180px)",
        "left": "10px",
        "top": "150px",
        "width": "238.927px"
      },
      "toc_section_display": true,
      "toc_window_display": true
    },
    "varInspector": {
      "cols": {
        "lenName": 16,
        "lenType": 16,
        "lenVar": 40
      },
      "kernels_config": {
        "python": {
          "delete_cmd_postfix": "",
          "delete_cmd_prefix": "del ",
          "library": "var_list.py",
          "varRefreshCmd": "print(var_dic_list())"
        },
        "r": {
          "delete_cmd_postfix": ") ",
          "delete_cmd_prefix": "rm(",
          "library": "var_list.r",
          "varRefreshCmd": "cat(var_dic_list()) "
        }
      },
      "types_to_exclude": [
        "module",
        "function",
        "builtin_function_or_method",
        "instance",
        "_Feature"
      ],
      "window_display": false
    },
    "colab": {
      "name": "Тимофей.ipynb",
      "provenance": [],
      "collapsed_sections": []
    }
  },
  "cells": [
    {
      "cell_type": "markdown",
      "metadata": {
        "_uuid": "21c25e4f8bb31570029fd6b069131a5d00f84cf1",
        "id": "T__sR_3yBb_f"
      },
      "source": [
        "## Домашнее задание 4"
      ]
    },
    {
      "cell_type": "code",
      "metadata": {
        "_uuid": "568eb2d31004b87d22e119112ae01a1e75105f1d",
        "trusted": false,
        "id": "rDnP5RPrBb_p"
      },
      "source": [
        "import pandas as pd\n",
        "import numpy as np\n",
        "import datetime"
      ],
      "execution_count": 1,
      "outputs": []
    },
    {
      "cell_type": "markdown",
      "metadata": {
        "id": "2SEDt_YiBb_v"
      },
      "source": [
        "Вам дан файл `students_data.csv` с информацией о студентах и их оценками. \n",
        "\n",
        "* Задания с 1 по 5 весят по 0.5 баллов каждое\n",
        "* Все остальные задания весят по 0.75"
      ]
    },
    {
      "cell_type": "code",
      "metadata": {
        "colab": {
          "base_uri": "https://localhost:8080/"
        },
        "id": "OmevpLppC79G",
        "outputId": "861cb77b-7fc2-4a80-9b9d-b2d917b0b2d1"
      },
      "source": [
        "from google.colab import drive\n",
        "drive.mount('/content/drive', force_remount=True)"
      ],
      "execution_count": 2,
      "outputs": [
        {
          "output_type": "stream",
          "name": "stdout",
          "text": [
            "Mounted at /content/drive\n"
          ]
        }
      ]
    },
    {
      "cell_type": "code",
      "metadata": {
        "colab": {
          "base_uri": "https://localhost:8080/",
          "height": 206
        },
        "id": "tGVGWUw8C8KY",
        "outputId": "27f5e176-4725-4372-911d-cd782dffddc0"
      },
      "source": [
        "df = pd.read_csv('/content/drive/My Drive/Work/students_data.csv')\n",
        "df.head()"
      ],
      "execution_count": 3,
      "outputs": [
        {
          "output_type": "execute_result",
          "data": {
            "text/html": [
              "<div>\n",
              "<style scoped>\n",
              "    .dataframe tbody tr th:only-of-type {\n",
              "        vertical-align: middle;\n",
              "    }\n",
              "\n",
              "    .dataframe tbody tr th {\n",
              "        vertical-align: top;\n",
              "    }\n",
              "\n",
              "    .dataframe thead th {\n",
              "        text-align: right;\n",
              "    }\n",
              "</style>\n",
              "<table border=\"1\" class=\"dataframe\">\n",
              "  <thead>\n",
              "    <tr style=\"text-align: right;\">\n",
              "      <th></th>\n",
              "      <th>index</th>\n",
              "      <th>gender</th>\n",
              "      <th>race/ethnicity</th>\n",
              "      <th>parental level of education</th>\n",
              "      <th>lunch</th>\n",
              "      <th>test preparation course</th>\n",
              "      <th>group</th>\n",
              "      <th>math score</th>\n",
              "      <th>reading score</th>\n",
              "      <th>writing score</th>\n",
              "    </tr>\n",
              "  </thead>\n",
              "  <tbody>\n",
              "    <tr>\n",
              "      <th>0</th>\n",
              "      <td>100</td>\n",
              "      <td>male</td>\n",
              "      <td>group B</td>\n",
              "      <td>some college</td>\n",
              "      <td>standard</td>\n",
              "      <td>none</td>\n",
              "      <td>group2</td>\n",
              "      <td>79</td>\n",
              "      <td>67</td>\n",
              "      <td>67</td>\n",
              "    </tr>\n",
              "    <tr>\n",
              "      <th>1</th>\n",
              "      <td>101</td>\n",
              "      <td>male</td>\n",
              "      <td>group D</td>\n",
              "      <td>bachelor's degree</td>\n",
              "      <td>standard</td>\n",
              "      <td>completed</td>\n",
              "      <td>group2</td>\n",
              "      <td>68</td>\n",
              "      <td>74</td>\n",
              "      <td>74</td>\n",
              "    </tr>\n",
              "    <tr>\n",
              "      <th>2</th>\n",
              "      <td>102</td>\n",
              "      <td>female</td>\n",
              "      <td>group D</td>\n",
              "      <td>associate's degree</td>\n",
              "      <td>standard</td>\n",
              "      <td>none</td>\n",
              "      <td>group2</td>\n",
              "      <td>85</td>\n",
              "      <td>91</td>\n",
              "      <td>89</td>\n",
              "    </tr>\n",
              "    <tr>\n",
              "      <th>3</th>\n",
              "      <td>103</td>\n",
              "      <td>male</td>\n",
              "      <td>group B</td>\n",
              "      <td>high school</td>\n",
              "      <td>standard</td>\n",
              "      <td>completed</td>\n",
              "      <td>group2</td>\n",
              "      <td>60</td>\n",
              "      <td>44</td>\n",
              "      <td>47</td>\n",
              "    </tr>\n",
              "    <tr>\n",
              "      <th>4</th>\n",
              "      <td>104</td>\n",
              "      <td>male</td>\n",
              "      <td>group C</td>\n",
              "      <td>some college</td>\n",
              "      <td>standard</td>\n",
              "      <td>completed</td>\n",
              "      <td>group2</td>\n",
              "      <td>98</td>\n",
              "      <td>86</td>\n",
              "      <td>90</td>\n",
              "    </tr>\n",
              "  </tbody>\n",
              "</table>\n",
              "</div>"
            ],
            "text/plain": [
              "   index  gender race/ethnicity  ... math score reading score writing score\n",
              "0    100    male        group B  ...         79            67            67\n",
              "1    101    male        group D  ...         68            74            74\n",
              "2    102  female        group D  ...         85            91            89\n",
              "3    103    male        group B  ...         60            44            47\n",
              "4    104    male        group C  ...         98            86            90\n",
              "\n",
              "[5 rows x 10 columns]"
            ]
          },
          "metadata": {},
          "execution_count": 3
        }
      ]
    },
    {
      "cell_type": "markdown",
      "metadata": {
        "_uuid": "8524af4cbd2f7b7810e8a3095a74c9fe1df7eafa",
        "id": "IQWpr3yUBb_0"
      },
      "source": [
        "## Задание 1\n",
        "\n",
        "Удалите столбец index у полученной таблицы. Напечатайте первые 10 строк таблицы."
      ]
    },
    {
      "cell_type": "code",
      "metadata": {
        "_uuid": "fe62eee87b9b94ab923f57b55eaf0554612aa9e9",
        "trusted": false,
        "colab": {
          "base_uri": "https://localhost:8080/",
          "height": 363
        },
        "id": "gWNWvylcBb_1",
        "outputId": "f9b1a7de-01c2-46d3-93ae-3f4d16791c12"
      },
      "source": [
        "df = df.drop(['index'],axis=1)\n",
        "df.head(10)"
      ],
      "execution_count": 4,
      "outputs": [
        {
          "output_type": "execute_result",
          "data": {
            "text/html": [
              "<div>\n",
              "<style scoped>\n",
              "    .dataframe tbody tr th:only-of-type {\n",
              "        vertical-align: middle;\n",
              "    }\n",
              "\n",
              "    .dataframe tbody tr th {\n",
              "        vertical-align: top;\n",
              "    }\n",
              "\n",
              "    .dataframe thead th {\n",
              "        text-align: right;\n",
              "    }\n",
              "</style>\n",
              "<table border=\"1\" class=\"dataframe\">\n",
              "  <thead>\n",
              "    <tr style=\"text-align: right;\">\n",
              "      <th></th>\n",
              "      <th>gender</th>\n",
              "      <th>race/ethnicity</th>\n",
              "      <th>parental level of education</th>\n",
              "      <th>lunch</th>\n",
              "      <th>test preparation course</th>\n",
              "      <th>group</th>\n",
              "      <th>math score</th>\n",
              "      <th>reading score</th>\n",
              "      <th>writing score</th>\n",
              "    </tr>\n",
              "  </thead>\n",
              "  <tbody>\n",
              "    <tr>\n",
              "      <th>0</th>\n",
              "      <td>male</td>\n",
              "      <td>group B</td>\n",
              "      <td>some college</td>\n",
              "      <td>standard</td>\n",
              "      <td>none</td>\n",
              "      <td>group2</td>\n",
              "      <td>79</td>\n",
              "      <td>67</td>\n",
              "      <td>67</td>\n",
              "    </tr>\n",
              "    <tr>\n",
              "      <th>1</th>\n",
              "      <td>male</td>\n",
              "      <td>group D</td>\n",
              "      <td>bachelor's degree</td>\n",
              "      <td>standard</td>\n",
              "      <td>completed</td>\n",
              "      <td>group2</td>\n",
              "      <td>68</td>\n",
              "      <td>74</td>\n",
              "      <td>74</td>\n",
              "    </tr>\n",
              "    <tr>\n",
              "      <th>2</th>\n",
              "      <td>female</td>\n",
              "      <td>group D</td>\n",
              "      <td>associate's degree</td>\n",
              "      <td>standard</td>\n",
              "      <td>none</td>\n",
              "      <td>group2</td>\n",
              "      <td>85</td>\n",
              "      <td>91</td>\n",
              "      <td>89</td>\n",
              "    </tr>\n",
              "    <tr>\n",
              "      <th>3</th>\n",
              "      <td>male</td>\n",
              "      <td>group B</td>\n",
              "      <td>high school</td>\n",
              "      <td>standard</td>\n",
              "      <td>completed</td>\n",
              "      <td>group2</td>\n",
              "      <td>60</td>\n",
              "      <td>44</td>\n",
              "      <td>47</td>\n",
              "    </tr>\n",
              "    <tr>\n",
              "      <th>4</th>\n",
              "      <td>male</td>\n",
              "      <td>group C</td>\n",
              "      <td>some college</td>\n",
              "      <td>standard</td>\n",
              "      <td>completed</td>\n",
              "      <td>group2</td>\n",
              "      <td>98</td>\n",
              "      <td>86</td>\n",
              "      <td>90</td>\n",
              "    </tr>\n",
              "    <tr>\n",
              "      <th>5</th>\n",
              "      <td>female</td>\n",
              "      <td>group C</td>\n",
              "      <td>some college</td>\n",
              "      <td>standard</td>\n",
              "      <td>none</td>\n",
              "      <td>group2</td>\n",
              "      <td>58</td>\n",
              "      <td>67</td>\n",
              "      <td>72</td>\n",
              "    </tr>\n",
              "    <tr>\n",
              "      <th>6</th>\n",
              "      <td>female</td>\n",
              "      <td>group D</td>\n",
              "      <td>master's degree</td>\n",
              "      <td>standard</td>\n",
              "      <td>none</td>\n",
              "      <td>group2</td>\n",
              "      <td>87</td>\n",
              "      <td>100</td>\n",
              "      <td>100</td>\n",
              "    </tr>\n",
              "    <tr>\n",
              "      <th>7</th>\n",
              "      <td>male</td>\n",
              "      <td>group E</td>\n",
              "      <td>associate's degree</td>\n",
              "      <td>standard</td>\n",
              "      <td>completed</td>\n",
              "      <td>group2</td>\n",
              "      <td>66</td>\n",
              "      <td>63</td>\n",
              "      <td>64</td>\n",
              "    </tr>\n",
              "    <tr>\n",
              "      <th>8</th>\n",
              "      <td>female</td>\n",
              "      <td>group B</td>\n",
              "      <td>associate's degree</td>\n",
              "      <td>free/reduced</td>\n",
              "      <td>none</td>\n",
              "      <td>group2</td>\n",
              "      <td>52</td>\n",
              "      <td>76</td>\n",
              "      <td>70</td>\n",
              "    </tr>\n",
              "    <tr>\n",
              "      <th>9</th>\n",
              "      <td>female</td>\n",
              "      <td>group B</td>\n",
              "      <td>some high school</td>\n",
              "      <td>standard</td>\n",
              "      <td>none</td>\n",
              "      <td>group2</td>\n",
              "      <td>70</td>\n",
              "      <td>64</td>\n",
              "      <td>72</td>\n",
              "    </tr>\n",
              "  </tbody>\n",
              "</table>\n",
              "</div>"
            ],
            "text/plain": [
              "   gender race/ethnicity  ... reading score writing score\n",
              "0    male        group B  ...            67            67\n",
              "1    male        group D  ...            74            74\n",
              "2  female        group D  ...            91            89\n",
              "3    male        group B  ...            44            47\n",
              "4    male        group C  ...            86            90\n",
              "5  female        group C  ...            67            72\n",
              "6  female        group D  ...           100           100\n",
              "7    male        group E  ...            63            64\n",
              "8  female        group B  ...            76            70\n",
              "9  female        group B  ...            64            72\n",
              "\n",
              "[10 rows x 9 columns]"
            ]
          },
          "metadata": {},
          "execution_count": 4
        }
      ]
    },
    {
      "cell_type": "markdown",
      "metadata": {
        "_uuid": "5fcd622942b7ecfc318934c6a245d3bb3bf01e84",
        "id": "n6BLaRyoBb_2"
      },
      "source": [
        "## Задание 2\n",
        "\n",
        "Выведите на экран размеры полученной таблицы. Сколько в ней строк и столбцов?"
      ]
    },
    {
      "cell_type": "code",
      "metadata": {
        "_uuid": "16281cd7b4e941ebed8ca2e1b42f62f55d838684",
        "trusted": false,
        "colab": {
          "base_uri": "https://localhost:8080/"
        },
        "id": "thL9HIBEBb_3",
        "outputId": "1ed0f32b-e167-4727-b9d8-1ac2b15e2f28"
      },
      "source": [
        "print(df.shape)\n",
        "\n",
        "# В таблице 1000 строк и 9 столбцов"
      ],
      "execution_count": 5,
      "outputs": [
        {
          "output_type": "stream",
          "name": "stdout",
          "text": [
            "(1000, 9)\n"
          ]
        }
      ]
    },
    {
      "cell_type": "markdown",
      "metadata": {
        "_uuid": "fe8e3d58d29ca25dbbcf001392377643e6ff9a36",
        "id": "PQh4-r99Bb_3"
      },
      "source": [
        "## Задание 3\n",
        "\n",
        "Выведите на экран статистические характеристики числовых столбцов таблицы (минимум, максимум, среднее значение, стандартное отклонение)"
      ]
    },
    {
      "cell_type": "code",
      "metadata": {
        "_uuid": "e3d4bb80d2c4251fe517c24fcf08c5ff2d67b8aa",
        "trusted": false,
        "colab": {
          "base_uri": "https://localhost:8080/",
          "height": 175
        },
        "id": "E9zeTTFrBb_4",
        "outputId": "feb2ed13-53a4-4e66-80bd-e37580628f73"
      },
      "source": [
        "df.describe(include=[np.number]).loc[['min','max','mean','std']]"
      ],
      "execution_count": 6,
      "outputs": [
        {
          "output_type": "execute_result",
          "data": {
            "text/html": [
              "<div>\n",
              "<style scoped>\n",
              "    .dataframe tbody tr th:only-of-type {\n",
              "        vertical-align: middle;\n",
              "    }\n",
              "\n",
              "    .dataframe tbody tr th {\n",
              "        vertical-align: top;\n",
              "    }\n",
              "\n",
              "    .dataframe thead th {\n",
              "        text-align: right;\n",
              "    }\n",
              "</style>\n",
              "<table border=\"1\" class=\"dataframe\">\n",
              "  <thead>\n",
              "    <tr style=\"text-align: right;\">\n",
              "      <th></th>\n",
              "      <th>math score</th>\n",
              "      <th>reading score</th>\n",
              "      <th>writing score</th>\n",
              "    </tr>\n",
              "  </thead>\n",
              "  <tbody>\n",
              "    <tr>\n",
              "      <th>min</th>\n",
              "      <td>0.00000</td>\n",
              "      <td>17.000000</td>\n",
              "      <td>10.000000</td>\n",
              "    </tr>\n",
              "    <tr>\n",
              "      <th>max</th>\n",
              "      <td>100.00000</td>\n",
              "      <td>100.000000</td>\n",
              "      <td>100.000000</td>\n",
              "    </tr>\n",
              "    <tr>\n",
              "      <th>mean</th>\n",
              "      <td>66.08900</td>\n",
              "      <td>69.169000</td>\n",
              "      <td>68.054000</td>\n",
              "    </tr>\n",
              "    <tr>\n",
              "      <th>std</th>\n",
              "      <td>15.16308</td>\n",
              "      <td>14.600192</td>\n",
              "      <td>15.195657</td>\n",
              "    </tr>\n",
              "  </tbody>\n",
              "</table>\n",
              "</div>"
            ],
            "text/plain": [
              "      math score  reading score  writing score\n",
              "min      0.00000      17.000000      10.000000\n",
              "max    100.00000     100.000000     100.000000\n",
              "mean    66.08900      69.169000      68.054000\n",
              "std     15.16308      14.600192      15.195657"
            ]
          },
          "metadata": {},
          "execution_count": 6
        }
      ]
    },
    {
      "cell_type": "markdown",
      "metadata": {
        "_uuid": "b26b7de83485ecb3b8a0a7865a596e24527c7b2f",
        "id": "FrHu4SafBb_5"
      },
      "source": [
        "## Задание 4\n",
        "\n",
        "Проверьте, есть ли в таблице пропущенные значения"
      ]
    },
    {
      "cell_type": "code",
      "metadata": {
        "colab": {
          "base_uri": "https://localhost:8080/"
        },
        "id": "8Bo7GGPJdWYF",
        "outputId": "6d6632e8-0717-40c3-ba42-a9f0c386c7e5"
      },
      "source": [
        "df.isnull().values.any()"
      ],
      "execution_count": 9,
      "outputs": [
        {
          "output_type": "execute_result",
          "data": {
            "text/plain": [
              "False"
            ]
          },
          "metadata": {},
          "execution_count": 9
        }
      ]
    },
    {
      "cell_type": "code",
      "metadata": {
        "_uuid": "4eac3f8f83d07c6e58ad1576fe0e773f37034a2f",
        "trusted": false,
        "colab": {
          "base_uri": "https://localhost:8080/"
        },
        "id": "FLTxn3EXBb_6",
        "outputId": "78bfbc4f-6f63-4540-ed1e-32740585e361"
      },
      "source": [
        "# ИЛИ вывести индексы строк с пропущенными значениями\n",
        "df.isnull().any(1).index\n",
        "\n",
        "# Пропущенных значений нет"
      ],
      "execution_count": 7,
      "outputs": [
        {
          "output_type": "execute_result",
          "data": {
            "text/plain": [
              "RangeIndex(start=0, stop=1000, step=1)"
            ]
          },
          "metadata": {},
          "execution_count": 7
        }
      ]
    },
    {
      "cell_type": "markdown",
      "metadata": {
        "id": "3-dq-Db4Bb_7"
      },
      "source": [
        "## Задание 5\n",
        "\n",
        "Выведите на экран средние баллы студентов по каждому предмету (math, reading, writing)"
      ]
    },
    {
      "cell_type": "code",
      "metadata": {
        "trusted": false,
        "colab": {
          "base_uri": "https://localhost:8080/"
        },
        "id": "UNk5pvftBb_8",
        "outputId": "dff76efd-9d6e-41be-b988-ebdc8e6c178d"
      },
      "source": [
        "print('Средний балл по математике:', df['math score'].mean())\n",
        "print('Средний балл за чтение:', df['reading score'].mean())\n",
        "print('Средний балл за письмо:', df['writing score'].mean())"
      ],
      "execution_count": 195,
      "outputs": [
        {
          "output_type": "stream",
          "name": "stdout",
          "text": [
            "Средний балл по математике: 66.089\n",
            "Средний балл за чтение: 69.169\n",
            "Средний балл за письмо: 68.054\n"
          ]
        }
      ]
    },
    {
      "cell_type": "markdown",
      "metadata": {
        "id": "vdQDASA0Bb_9"
      },
      "source": [
        "## Задание 6\n",
        "\n",
        "Как зависят оценки от того, проходил ли студент курс для подготовки к сдаче экзамена (test preparation course)? Выведите на экран для каждого предмета в отдельности средний балл студентов, проходивших курс для подготовки к экзамену и не проходивших курс."
      ]
    },
    {
      "cell_type": "code",
      "metadata": {
        "colab": {
          "base_uri": "https://localhost:8080/"
        },
        "id": "U_Qh6FwPJt6K",
        "outputId": "10cf9a50-27df-4d03-e88f-2c4eec98cba6"
      },
      "source": [
        "print('Средний балл по математике:') \n",
        "print('Прошедшие курс:', df.query(\"`test preparation course` == 'completed'\")['math score'].mean(), \n",
        "      'Не прошедшие курс:', df.query(\"`test preparation course` == 'none'\")['math score'].mean())\n",
        "print('\\n')\n",
        "print('Средний балл за чтение:') \n",
        "print('Прошедшие курс:', df.query(\"`test preparation course` == 'completed'\")['reading score'].mean(), \n",
        "      'Не прошедшие курс:', df.query(\"`test preparation course` == 'none'\")['reading score'].mean())\n",
        "print('\\n')\n",
        "print('Средний балл за письмо:') \n",
        "print('Прошедшие курс:', df.query(\"`test preparation course` == 'completed'\")['writing score'].mean(), \n",
        "      'Не прошедшие курс:', df.query(\"`test preparation course` == 'none'\")['writing score'].mean())"
      ],
      "execution_count": 196,
      "outputs": [
        {
          "output_type": "stream",
          "name": "stdout",
          "text": [
            "Средний балл по математике:\n",
            "Прошедшие курс: 69.69553072625699 Не прошедшие курс: 64.0778816199377\n",
            "\n",
            "\n",
            "Средний балл за чтение:\n",
            "Прошедшие курс: 73.89385474860335 Не прошедшие курс: 66.53426791277259\n",
            "\n",
            "\n",
            "Средний балл за письмо:\n",
            "Прошедшие курс: 74.41899441340782 Не прошедшие курс: 64.50467289719626\n"
          ]
        }
      ]
    },
    {
      "cell_type": "code",
      "metadata": {
        "trusted": false,
        "colab": {
          "base_uri": "https://localhost:8080/",
          "height": 143
        },
        "id": "vDS8_g-gBb_-",
        "outputId": "ba251ecd-a624-47b9-83c2-0abf03f03c81"
      },
      "source": [
        "# Проверка\n",
        "df.pivot_table(index=['test preparation course'], values=['math score',\t'reading score',\t'writing score'], aggfunc='mean')"
      ],
      "execution_count": 197,
      "outputs": [
        {
          "output_type": "execute_result",
          "data": {
            "text/html": [
              "<div>\n",
              "<style scoped>\n",
              "    .dataframe tbody tr th:only-of-type {\n",
              "        vertical-align: middle;\n",
              "    }\n",
              "\n",
              "    .dataframe tbody tr th {\n",
              "        vertical-align: top;\n",
              "    }\n",
              "\n",
              "    .dataframe thead th {\n",
              "        text-align: right;\n",
              "    }\n",
              "</style>\n",
              "<table border=\"1\" class=\"dataframe\">\n",
              "  <thead>\n",
              "    <tr style=\"text-align: right;\">\n",
              "      <th></th>\n",
              "      <th>math score</th>\n",
              "      <th>reading score</th>\n",
              "      <th>writing score</th>\n",
              "    </tr>\n",
              "    <tr>\n",
              "      <th>test preparation course</th>\n",
              "      <th></th>\n",
              "      <th></th>\n",
              "      <th></th>\n",
              "    </tr>\n",
              "  </thead>\n",
              "  <tbody>\n",
              "    <tr>\n",
              "      <th>completed</th>\n",
              "      <td>69.695531</td>\n",
              "      <td>73.893855</td>\n",
              "      <td>74.418994</td>\n",
              "    </tr>\n",
              "    <tr>\n",
              "      <th>none</th>\n",
              "      <td>64.077882</td>\n",
              "      <td>66.534268</td>\n",
              "      <td>64.504673</td>\n",
              "    </tr>\n",
              "  </tbody>\n",
              "</table>\n",
              "</div>"
            ],
            "text/plain": [
              "                         math score  reading score  writing score\n",
              "test preparation course                                          \n",
              "completed                 69.695531      73.893855      74.418994\n",
              "none                      64.077882      66.534268      64.504673"
            ]
          },
          "metadata": {},
          "execution_count": 197
        }
      ]
    },
    {
      "cell_type": "markdown",
      "metadata": {
        "id": "MJw-jP7ABb__"
      },
      "source": [
        "## Задание 7 \n",
        "\n",
        "Выведите на экран все различные значения из столбца lunch."
      ]
    },
    {
      "cell_type": "code",
      "metadata": {
        "trusted": false,
        "colab": {
          "base_uri": "https://localhost:8080/"
        },
        "id": "w0_3dlOXBcAA",
        "outputId": "aaa3f608-a415-4299-dd49-e46e0dda3ce9"
      },
      "source": [
        "np.unique(df['lunch'])"
      ],
      "execution_count": 198,
      "outputs": [
        {
          "output_type": "execute_result",
          "data": {
            "text/plain": [
              "array(['free/reduced', 'standard'], dtype=object)"
            ]
          },
          "metadata": {},
          "execution_count": 198
        }
      ]
    },
    {
      "cell_type": "markdown",
      "metadata": {
        "id": "HQ87hvLCBcAC"
      },
      "source": [
        "## Задание 8\n",
        "\n",
        "Переименуйте колонку \"parental level of education\" в \"education\", а \"test preparation course\" в \"test preparation\" с помощью метода pandas [rename](https://pandas.pydata.org/pandas-docs/stable/reference/api/pandas.DataFrame.rename.html)"
      ]
    },
    {
      "cell_type": "code",
      "metadata": {
        "trusted": false,
        "id": "0ypFbf9ABcAD"
      },
      "source": [
        "df = df.rename(columns={\"parental level of education\": \"education\", \"test preparation course\": \"test preparation\"})"
      ],
      "execution_count": 199,
      "outputs": []
    },
    {
      "cell_type": "code",
      "metadata": {
        "colab": {
          "base_uri": "https://localhost:8080/",
          "height": 206
        },
        "id": "Zss66oEgNsNg",
        "outputId": "a3070c1c-e46d-4ef8-fb8d-7c26f6120de9"
      },
      "source": [
        "df.head()"
      ],
      "execution_count": 200,
      "outputs": [
        {
          "output_type": "execute_result",
          "data": {
            "text/html": [
              "<div>\n",
              "<style scoped>\n",
              "    .dataframe tbody tr th:only-of-type {\n",
              "        vertical-align: middle;\n",
              "    }\n",
              "\n",
              "    .dataframe tbody tr th {\n",
              "        vertical-align: top;\n",
              "    }\n",
              "\n",
              "    .dataframe thead th {\n",
              "        text-align: right;\n",
              "    }\n",
              "</style>\n",
              "<table border=\"1\" class=\"dataframe\">\n",
              "  <thead>\n",
              "    <tr style=\"text-align: right;\">\n",
              "      <th></th>\n",
              "      <th>gender</th>\n",
              "      <th>race/ethnicity</th>\n",
              "      <th>education</th>\n",
              "      <th>lunch</th>\n",
              "      <th>test preparation</th>\n",
              "      <th>group</th>\n",
              "      <th>math score</th>\n",
              "      <th>reading score</th>\n",
              "      <th>writing score</th>\n",
              "    </tr>\n",
              "  </thead>\n",
              "  <tbody>\n",
              "    <tr>\n",
              "      <th>0</th>\n",
              "      <td>male</td>\n",
              "      <td>group B</td>\n",
              "      <td>some college</td>\n",
              "      <td>standard</td>\n",
              "      <td>none</td>\n",
              "      <td>group2</td>\n",
              "      <td>79</td>\n",
              "      <td>67</td>\n",
              "      <td>67</td>\n",
              "    </tr>\n",
              "    <tr>\n",
              "      <th>1</th>\n",
              "      <td>male</td>\n",
              "      <td>group D</td>\n",
              "      <td>bachelor's degree</td>\n",
              "      <td>standard</td>\n",
              "      <td>completed</td>\n",
              "      <td>group2</td>\n",
              "      <td>68</td>\n",
              "      <td>74</td>\n",
              "      <td>74</td>\n",
              "    </tr>\n",
              "    <tr>\n",
              "      <th>2</th>\n",
              "      <td>female</td>\n",
              "      <td>group D</td>\n",
              "      <td>associate's degree</td>\n",
              "      <td>standard</td>\n",
              "      <td>none</td>\n",
              "      <td>group2</td>\n",
              "      <td>85</td>\n",
              "      <td>91</td>\n",
              "      <td>89</td>\n",
              "    </tr>\n",
              "    <tr>\n",
              "      <th>3</th>\n",
              "      <td>male</td>\n",
              "      <td>group B</td>\n",
              "      <td>high school</td>\n",
              "      <td>standard</td>\n",
              "      <td>completed</td>\n",
              "      <td>group2</td>\n",
              "      <td>60</td>\n",
              "      <td>44</td>\n",
              "      <td>47</td>\n",
              "    </tr>\n",
              "    <tr>\n",
              "      <th>4</th>\n",
              "      <td>male</td>\n",
              "      <td>group C</td>\n",
              "      <td>some college</td>\n",
              "      <td>standard</td>\n",
              "      <td>completed</td>\n",
              "      <td>group2</td>\n",
              "      <td>98</td>\n",
              "      <td>86</td>\n",
              "      <td>90</td>\n",
              "    </tr>\n",
              "  </tbody>\n",
              "</table>\n",
              "</div>"
            ],
            "text/plain": [
              "   gender race/ethnicity  ... reading score writing score\n",
              "0    male        group B  ...            67            67\n",
              "1    male        group D  ...            74            74\n",
              "2  female        group D  ...            91            89\n",
              "3    male        group B  ...            44            47\n",
              "4    male        group C  ...            86            90\n",
              "\n",
              "[5 rows x 9 columns]"
            ]
          },
          "metadata": {},
          "execution_count": 200
        }
      ]
    },
    {
      "cell_type": "markdown",
      "metadata": {
        "id": "NwrnNE9fBcAE"
      },
      "source": [
        "**Зафиксируем минимальный балл для сдачи экзамена**"
      ]
    },
    {
      "cell_type": "code",
      "metadata": {
        "trusted": false,
        "id": "LaTESRutBcAF"
      },
      "source": [
        "passmark = 50"
      ],
      "execution_count": 201,
      "outputs": []
    },
    {
      "cell_type": "markdown",
      "metadata": {
        "id": "TenULzhfBcAF"
      },
      "source": [
        "## Задание 9\n",
        "\n",
        "Ответьте на вопросы:\n",
        "* Какая доля студентов сдала экзамен по математике (passmark >= 50)?\n",
        "* Какая доля студентов, проходивших курс подготовки к экзамену, сдала экзамен по математике?\n",
        "* Какая доля женщин, не проходивших курс подготовки к экзамену, не сдала экзамен по математике? "
      ]
    },
    {
      "cell_type": "code",
      "metadata": {
        "trusted": false,
        "colab": {
          "base_uri": "https://localhost:8080/"
        },
        "id": "pDOESGw-BcAG",
        "outputId": "35e9d327-9c15-46ae-85bc-d755a7db5193"
      },
      "source": [
        "(df['math score'] >= passmark).value_counts(normalize=True)*100"
      ],
      "execution_count": 202,
      "outputs": [
        {
          "output_type": "execute_result",
          "data": {
            "text/plain": [
              "True     86.5\n",
              "False    13.5\n",
              "Name: math score, dtype: float64"
            ]
          },
          "metadata": {},
          "execution_count": 202
        }
      ]
    },
    {
      "cell_type": "markdown",
      "metadata": {
        "id": "g8QGbbN7wR2z"
      },
      "source": [
        "```\n",
        "86.5% студентов сдали экзамен по математике.\n",
        "```\n",
        "\n"
      ]
    },
    {
      "cell_type": "code",
      "metadata": {
        "colab": {
          "base_uri": "https://localhost:8080/"
        },
        "id": "Q4orik9MZE60",
        "outputId": "948fc58d-623d-4d5f-a4a2-bd6081433540"
      },
      "source": [
        "((df[df[\"test preparation\"]=='completed'])['math score']>=50).value_counts(normalize=True)*100"
      ],
      "execution_count": 203,
      "outputs": [
        {
          "output_type": "execute_result",
          "data": {
            "text/plain": [
              "True     92.178771\n",
              "False     7.821229\n",
              "Name: math score, dtype: float64"
            ]
          },
          "metadata": {},
          "execution_count": 203
        }
      ]
    },
    {
      "cell_type": "markdown",
      "metadata": {
        "id": "T2pz4onswbWR"
      },
      "source": [
        "\n",
        "\n",
        "```\n",
        "Из прошедших подготовительные курсы 92.18% сдали экзамен.\n",
        "```\n",
        "\n"
      ]
    },
    {
      "cell_type": "code",
      "metadata": {
        "colab": {
          "base_uri": "https://localhost:8080/"
        },
        "id": "faQc5xnpdbXZ",
        "outputId": "3e54ace3-a365-4ff4-a9ac-7759e0b19c65"
      },
      "source": [
        "(df.loc[(df[\"gender\"]=='female') & (df[\"test preparation\"]=='none')]['math score']<50).value_counts(normalize=True)*100"
      ],
      "execution_count": 204,
      "outputs": [
        {
          "output_type": "execute_result",
          "data": {
            "text/plain": [
              "False    79.041916\n",
              "True     20.958084\n",
              "Name: math score, dtype: float64"
            ]
          },
          "metadata": {},
          "execution_count": 204
        }
      ]
    },
    {
      "cell_type": "markdown",
      "metadata": {
        "id": "OR0x4JrAxRaa"
      },
      "source": [
        "\n",
        "\n",
        "```\n",
        "Из девушек, не проходивших подготовительные курсы, экзамен НЕ сдали 20.95% участниц.\n",
        "```\n",
        "\n"
      ]
    },
    {
      "cell_type": "markdown",
      "metadata": {
        "id": "7ewOhcIzBcAH"
      },
      "source": [
        "## Задание 10\n",
        "\n",
        "С помощью groupby выполните задания ниже. Также выведите время выполнения каждого из заданий.\n",
        "* Для каждой этнической группы выведите средний балл за экзамен по чтению\n",
        "* Для каждого уровня образования выведите минимальный балл за экзамен по письму"
      ]
    },
    {
      "cell_type": "code",
      "metadata": {
        "trusted": false,
        "colab": {
          "base_uri": "https://localhost:8080/"
        },
        "id": "6LqGkCxVBcAI",
        "outputId": "bea910fc-89ad-46ed-866d-92577f48ad54"
      },
      "source": [
        "df.groupby(['race/ethnicity'])['reading score'].mean()"
      ],
      "execution_count": 205,
      "outputs": [
        {
          "output_type": "execute_result",
          "data": {
            "text/plain": [
              "race/ethnicity\n",
              "group A    64.674157\n",
              "group B    67.352632\n",
              "group C    69.103448\n",
              "group D    70.030534\n",
              "group E    73.028571\n",
              "Name: reading score, dtype: float64"
            ]
          },
          "metadata": {},
          "execution_count": 205
        }
      ]
    },
    {
      "cell_type": "code",
      "metadata": {
        "colab": {
          "base_uri": "https://localhost:8080/"
        },
        "id": "g0savWWye7yu",
        "outputId": "5c0fd11c-47f3-4025-d7ab-3d9323848a07"
      },
      "source": [
        "df.groupby(['education'])['writing score'].min()"
      ],
      "execution_count": 206,
      "outputs": [
        {
          "output_type": "execute_result",
          "data": {
            "text/plain": [
              "education\n",
              "associate's degree    35\n",
              "bachelor's degree     38\n",
              "high school           15\n",
              "master's degree       46\n",
              "some college          19\n",
              "some high school      10\n",
              "Name: writing score, dtype: int64"
            ]
          },
          "metadata": {},
          "execution_count": 206
        }
      ]
    },
    {
      "cell_type": "markdown",
      "metadata": {
        "id": "nzMDWwMCBcAI"
      },
      "source": [
        "## Задание 11\n",
        "\n",
        "Выполните задание 10 с помощью циклов. Сравните время выполнения."
      ]
    },
    {
      "cell_type": "code",
      "metadata": {
        "colab": {
          "base_uri": "https://localhost:8080/"
        },
        "id": "niFIU5E9g1jW",
        "outputId": "5b786282-e89b-4b08-c88e-a545367ca0f4"
      },
      "source": [
        "start111 = datetime.datetime.now()\n",
        "for i in np.unique(df['race/ethnicity']):\n",
        "  print(df[df['race/ethnicity']==i]['reading score'].mean())\n",
        "end111 = datetime.datetime.now()\n",
        "print(\"Время выполнения:\", end111-start111)\n",
        "\n",
        "print(\"\\n\")\n",
        "\n",
        "start101 = datetime.datetime.now()\n",
        "print(df.groupby(['race/ethnicity'])['reading score'].mean())\n",
        "end101 = datetime.datetime.now()\n",
        "print(\"Время выполнения:\", end101-start101)\n",
        "\n",
        "print(\"\\n\")\n",
        "\n",
        "print(\"Без использования циклов операция была выполнена в\", ( round((end111-start111)/(end101-start101),2) ), \"раз быстрее.\")"
      ],
      "execution_count": 207,
      "outputs": [
        {
          "output_type": "stream",
          "name": "stdout",
          "text": [
            "64.67415730337079\n",
            "67.35263157894737\n",
            "69.10344827586206\n",
            "70.03053435114504\n",
            "73.02857142857142\n",
            "Время выполнения: 0:00:00.007560\n",
            "\n",
            "\n",
            "race/ethnicity\n",
            "group A    64.674157\n",
            "group B    67.352632\n",
            "group C    69.103448\n",
            "group D    70.030534\n",
            "group E    73.028571\n",
            "Name: reading score, dtype: float64\n",
            "Время выполнения: 0:00:00.002616\n",
            "\n",
            "\n",
            "Без использования циклов операция была выполнена в 2.89 раз быстрее.\n"
          ]
        }
      ]
    },
    {
      "cell_type": "code",
      "metadata": {
        "trusted": false,
        "colab": {
          "base_uri": "https://localhost:8080/"
        },
        "id": "H7VNBXYPBcAJ",
        "outputId": "b0805339-edf5-4787-f37d-26e212d80d52"
      },
      "source": [
        "start112 = datetime.datetime.now()\n",
        "for i in np.unique(df['education']):\n",
        "  print(df[df['education']==i]['writing score'].min())\n",
        "end112 = datetime.datetime.now()\n",
        "print(\"Время выполнения:\", end112-start112)\n",
        "\n",
        "print(\"\\n\")\n",
        "\n",
        "start102 = datetime.datetime.now()\n",
        "print(df.groupby(['education'])['writing score'].min())\n",
        "end102 = datetime.datetime.now()\n",
        "print(\"Время выполнения:\", end102-start102)\n",
        "\n",
        "print(\"\\n\")\n",
        "\n",
        "print(\"Без использования циклов операция была выполнена в\", ( round((end112-start112)/(end102-start102),2) ), \"раз быстрее.\")"
      ],
      "execution_count": 208,
      "outputs": [
        {
          "output_type": "stream",
          "name": "stdout",
          "text": [
            "35\n",
            "38\n",
            "15\n",
            "46\n",
            "19\n",
            "10\n",
            "Время выполнения: 0:00:00.006541\n",
            "\n",
            "\n",
            "education\n",
            "associate's degree    35\n",
            "bachelor's degree     38\n",
            "high school           15\n",
            "master's degree       46\n",
            "some college          19\n",
            "some high school      10\n",
            "Name: writing score, dtype: int64\n",
            "Время выполнения: 0:00:00.002394\n",
            "\n",
            "\n",
            "Без использования циклов операция была выполнена в 2.73 раз быстрее.\n"
          ]
        }
      ]
    },
    {
      "cell_type": "markdown",
      "metadata": {
        "id": "4GwCN0JGBcAK"
      },
      "source": [
        "## Задание 12\n",
        "\n",
        "Выведите на экран средние баллы студентов по каждому предмету в зависимости от пола и уровня образования. То есть должно получиться количество групп, равных 2 * (число уровней образования), и для каждой такой группы выыведите средний балл по каждому из предметов.\n",
        "\n",
        "Это можно сделать с помощью сводных таблиц – [pivot_table](https://www.kaggle.com/kamilpolak/tutorial-how-to-use-pivot-table-in-pandas)."
      ]
    },
    {
      "cell_type": "code",
      "metadata": {
        "trusted": false,
        "colab": {
          "base_uri": "https://localhost:8080/",
          "height": 457
        },
        "id": "bfuAg_RuBcAL",
        "outputId": "66e2c520-3a1d-47fa-be1c-f1d46697ab7e"
      },
      "source": [
        "df.pivot_table(index=['gender','education'], values=['math score',\t'reading score',\t'writing score'], aggfunc='mean')"
      ],
      "execution_count": 209,
      "outputs": [
        {
          "output_type": "execute_result",
          "data": {
            "text/html": [
              "<div>\n",
              "<style scoped>\n",
              "    .dataframe tbody tr th:only-of-type {\n",
              "        vertical-align: middle;\n",
              "    }\n",
              "\n",
              "    .dataframe tbody tr th {\n",
              "        vertical-align: top;\n",
              "    }\n",
              "\n",
              "    .dataframe thead th {\n",
              "        text-align: right;\n",
              "    }\n",
              "</style>\n",
              "<table border=\"1\" class=\"dataframe\">\n",
              "  <thead>\n",
              "    <tr style=\"text-align: right;\">\n",
              "      <th></th>\n",
              "      <th></th>\n",
              "      <th>math score</th>\n",
              "      <th>reading score</th>\n",
              "      <th>writing score</th>\n",
              "    </tr>\n",
              "    <tr>\n",
              "      <th>gender</th>\n",
              "      <th>education</th>\n",
              "      <th></th>\n",
              "      <th></th>\n",
              "      <th></th>\n",
              "    </tr>\n",
              "  </thead>\n",
              "  <tbody>\n",
              "    <tr>\n",
              "      <th rowspan=\"6\" valign=\"top\">female</th>\n",
              "      <th>associate's degree</th>\n",
              "      <td>65.250000</td>\n",
              "      <td>74.120690</td>\n",
              "      <td>74.000000</td>\n",
              "    </tr>\n",
              "    <tr>\n",
              "      <th>bachelor's degree</th>\n",
              "      <td>68.349206</td>\n",
              "      <td>77.285714</td>\n",
              "      <td>78.380952</td>\n",
              "    </tr>\n",
              "    <tr>\n",
              "      <th>high school</th>\n",
              "      <td>59.351064</td>\n",
              "      <td>68.202128</td>\n",
              "      <td>66.691489</td>\n",
              "    </tr>\n",
              "    <tr>\n",
              "      <th>master's degree</th>\n",
              "      <td>66.500000</td>\n",
              "      <td>76.805556</td>\n",
              "      <td>77.638889</td>\n",
              "    </tr>\n",
              "    <tr>\n",
              "      <th>some college</th>\n",
              "      <td>65.406780</td>\n",
              "      <td>73.550847</td>\n",
              "      <td>74.050847</td>\n",
              "    </tr>\n",
              "    <tr>\n",
              "      <th>some high school</th>\n",
              "      <td>59.296703</td>\n",
              "      <td>69.109890</td>\n",
              "      <td>68.285714</td>\n",
              "    </tr>\n",
              "    <tr>\n",
              "      <th rowspan=\"6\" valign=\"top\">male</th>\n",
              "      <th>associate's degree</th>\n",
              "      <td>70.764151</td>\n",
              "      <td>67.433962</td>\n",
              "      <td>65.405660</td>\n",
              "    </tr>\n",
              "    <tr>\n",
              "      <th>bachelor's degree</th>\n",
              "      <td>70.581818</td>\n",
              "      <td>68.090909</td>\n",
              "      <td>67.654545</td>\n",
              "    </tr>\n",
              "    <tr>\n",
              "      <th>high school</th>\n",
              "      <td>64.705882</td>\n",
              "      <td>61.480392</td>\n",
              "      <td>58.539216</td>\n",
              "    </tr>\n",
              "    <tr>\n",
              "      <th>master's degree</th>\n",
              "      <td>74.826087</td>\n",
              "      <td>73.130435</td>\n",
              "      <td>72.608696</td>\n",
              "    </tr>\n",
              "    <tr>\n",
              "      <th>some college</th>\n",
              "      <td>69.009259</td>\n",
              "      <td>64.990741</td>\n",
              "      <td>63.148148</td>\n",
              "    </tr>\n",
              "    <tr>\n",
              "      <th>some high school</th>\n",
              "      <td>67.840909</td>\n",
              "      <td>64.693182</td>\n",
              "      <td>61.375000</td>\n",
              "    </tr>\n",
              "  </tbody>\n",
              "</table>\n",
              "</div>"
            ],
            "text/plain": [
              "                           math score  reading score  writing score\n",
              "gender education                                                   \n",
              "female associate's degree   65.250000      74.120690      74.000000\n",
              "       bachelor's degree    68.349206      77.285714      78.380952\n",
              "       high school          59.351064      68.202128      66.691489\n",
              "       master's degree      66.500000      76.805556      77.638889\n",
              "       some college         65.406780      73.550847      74.050847\n",
              "       some high school     59.296703      69.109890      68.285714\n",
              "male   associate's degree   70.764151      67.433962      65.405660\n",
              "       bachelor's degree    70.581818      68.090909      67.654545\n",
              "       high school          64.705882      61.480392      58.539216\n",
              "       master's degree      74.826087      73.130435      72.608696\n",
              "       some college         69.009259      64.990741      63.148148\n",
              "       some high school     67.840909      64.693182      61.375000"
            ]
          },
          "metadata": {},
          "execution_count": 209
        }
      ]
    },
    {
      "cell_type": "markdown",
      "metadata": {
        "_uuid": "3e832cb427c4314582d1953a41b8c78db75e30e3",
        "id": "1gI9bt8kBcAM"
      },
      "source": [
        "## Задание 13\n",
        "\n",
        "Сколько студентов успешно сдали экзамен по математике?\n",
        "\n",
        "Создайте новый столбец в таблице df под названием Math_PassStatus и запишите в него F, если студент не сдал экзамен по математике (балл за экзамен < passmark), и P иначе.\n",
        "\n",
        "Посчитайте количество студентов, сдавших и не сдавших экзамен по математике.\n",
        "\n",
        "Сделайте аналогичные шаги для экзаменов по чтению и письму."
      ]
    },
    {
      "cell_type": "code",
      "metadata": {
        "id": "cJof2xTMltt3"
      },
      "source": [
        "df['Math_PassStatus'] = np.select([df['math score']<50], ['F'], default='P')\n",
        "df['Reading_PassStatus'] = np.select([df['reading score']<50], ['F'], default='P')\n",
        "df['Writing_PassStatus'] = np.select([df['writing score']<50], ['F'], default='P')"
      ],
      "execution_count": 210,
      "outputs": []
    },
    {
      "cell_type": "code",
      "metadata": {
        "colab": {
          "base_uri": "https://localhost:8080/"
        },
        "id": "nDnDb0ZVnA4j",
        "outputId": "a931f2df-9528-462c-e08c-da4a39e59dc3"
      },
      "source": [
        "print('Экзамен по математике:')\n",
        "print(df['Math_PassStatus'].value_counts())\n",
        "print('\\n')\n",
        "print('Экзамен по чтению:')\n",
        "print(df['Reading_PassStatus'].value_counts())\n",
        "print('\\n')\n",
        "print('Экзамен по письму:')\n",
        "print(df['Writing_PassStatus'].value_counts())"
      ],
      "execution_count": 211,
      "outputs": [
        {
          "output_type": "stream",
          "name": "stdout",
          "text": [
            "Экзамен по математике:\n",
            "P    865\n",
            "F    135\n",
            "Name: Math_PassStatus, dtype: int64\n",
            "\n",
            "\n",
            "Экзамен по чтению:\n",
            "P    910\n",
            "F     90\n",
            "Name: Reading_PassStatus, dtype: int64\n",
            "\n",
            "\n",
            "Экзамен по письму:\n",
            "P    886\n",
            "F    114\n",
            "Name: Writing_PassStatus, dtype: int64\n"
          ]
        }
      ]
    },
    {
      "cell_type": "markdown",
      "metadata": {
        "id": "HbabivDvx0vh"
      },
      "source": [
        "\n",
        "\n",
        "```\n",
        "Экзамен по математике, чтению и письму сдали 865, 910 и 886 человек соответственно.\n",
        "```\n",
        "\n"
      ]
    },
    {
      "cell_type": "markdown",
      "metadata": {
        "_uuid": "b753c90914ee65501e2ed263ea614d88a381c472",
        "id": "98cujuGXBcAN"
      },
      "source": [
        "## Задание 14\n",
        "\n",
        "Сколько студентов успешно сдали все экзамены?\n",
        "\n",
        "Создайте столбец OverAll_PassStatus и запишите в него для каждого студента 'F', если студент не сдал хотя бы один из трех экзаменов, а иначе 'P'.\n",
        "\n",
        "Посчитайте количество студентов, которые сдали все экзамены."
      ]
    },
    {
      "cell_type": "code",
      "metadata": {
        "_uuid": "e98f895a022b967cab801447b616222439fe9d84",
        "trusted": false,
        "id": "FAQ8-D_JBcAN"
      },
      "source": [
        "df['OverAll_PassStatus'] = np.select([(df['Math_PassStatus']=='P') & (df['Reading_PassStatus']=='P') & (df['Writing_PassStatus']=='P')],\n",
        "          ['P'], default='F')"
      ],
      "execution_count": 212,
      "outputs": []
    },
    {
      "cell_type": "code",
      "metadata": {
        "colab": {
          "base_uri": "https://localhost:8080/"
        },
        "id": "erW2hZKFoNl8",
        "outputId": "dc169629-f9d9-4673-b02f-2dfd804ae993"
      },
      "source": [
        "df['OverAll_PassStatus'].value_counts()"
      ],
      "execution_count": 213,
      "outputs": [
        {
          "output_type": "execute_result",
          "data": {
            "text/plain": [
              "P    812\n",
              "F    188\n",
              "Name: OverAll_PassStatus, dtype: int64"
            ]
          },
          "metadata": {},
          "execution_count": 213
        }
      ]
    },
    {
      "cell_type": "markdown",
      "metadata": {
        "id": "4AimwJXSyEy_"
      },
      "source": [
        "\n",
        "\n",
        "```\n",
        "Все три экзамена успешно сдали 812 человек.\n",
        "```\n",
        "\n"
      ]
    },
    {
      "cell_type": "markdown",
      "metadata": {
        "_uuid": "3af9c6cb4cbfff66d4ae09509f10b8b6ce33075d",
        "id": "FRto4_d2BcAO"
      },
      "source": [
        "## Задание 15\n",
        "\n",
        "Переведем баллы в оценки\n",
        "\n",
        "**Система перевода баллов в оценки:**\n",
        "\n",
        "\n",
        "* $x > 90 = A$\n",
        "* $80 < x \\leq 90 = B$\n",
        "* $70 < x \\leq 80 = C$\n",
        "* $60 < x \\leq 70 = D$\n",
        "* $50 < x \\leq 60 = E$\n",
        "* $x \\leq 50 = F (Fail) $\n",
        "\n",
        "Пусть $x - $ средний балл студента за три экзамена.  \n",
        "\n",
        "Создайте вспомогательную функцию, которая будет по среднему баллу за три экзамена выставлять оценку студенту по данным выше критериям.\n",
        "\n",
        "Создайте столбец Grade и запишите в него оценку каждого студента.\n",
        "\n",
        "Выведите количество студентов, получивших каждую из оценок."
      ]
    },
    {
      "cell_type": "code",
      "metadata": {
        "_uuid": "04707c5be4237020b906d2ac705a0db3d620506f",
        "trusted": false,
        "id": "6RlMDSbvBcAP"
      },
      "source": [
        "def GetGrade(average_mark):\n",
        "    if average_mark > 90:\n",
        "      return \"A\"\n",
        "    if (average_mark <= 90) & (average_mark > 80):\n",
        "      return \"B\"\n",
        "    if (average_mark <= 80) & (average_mark > 70):\n",
        "      return \"C\"  \n",
        "    if (average_mark <= 70) & (average_mark > 60):\n",
        "      return \"D\"  \n",
        "    if (average_mark <= 60) & (average_mark > 50):\n",
        "      return \"E\" \n",
        "    else:\n",
        "      return \"F\"               "
      ],
      "execution_count": 215,
      "outputs": []
    },
    {
      "cell_type": "code",
      "metadata": {
        "trusted": false,
        "id": "q369CO-8BcAQ"
      },
      "source": [
        "df['Grade'] = df[['math score','reading score', 'writing score']].mean(axis=1).map(GetGrade)"
      ],
      "execution_count": 216,
      "outputs": []
    },
    {
      "cell_type": "code",
      "metadata": {
        "colab": {
          "base_uri": "https://localhost:8080/",
          "height": 330
        },
        "id": "dwAxCPwDyVgB",
        "outputId": "a7bd44dd-e7d6-4de8-ab57-f683ae088ffc"
      },
      "source": [
        "df.tail()"
      ],
      "execution_count": 220,
      "outputs": [
        {
          "output_type": "execute_result",
          "data": {
            "text/html": [
              "<div>\n",
              "<style scoped>\n",
              "    .dataframe tbody tr th:only-of-type {\n",
              "        vertical-align: middle;\n",
              "    }\n",
              "\n",
              "    .dataframe tbody tr th {\n",
              "        vertical-align: top;\n",
              "    }\n",
              "\n",
              "    .dataframe thead th {\n",
              "        text-align: right;\n",
              "    }\n",
              "</style>\n",
              "<table border=\"1\" class=\"dataframe\">\n",
              "  <thead>\n",
              "    <tr style=\"text-align: right;\">\n",
              "      <th></th>\n",
              "      <th>gender</th>\n",
              "      <th>race/ethnicity</th>\n",
              "      <th>education</th>\n",
              "      <th>lunch</th>\n",
              "      <th>test preparation</th>\n",
              "      <th>group</th>\n",
              "      <th>math score</th>\n",
              "      <th>reading score</th>\n",
              "      <th>writing score</th>\n",
              "      <th>Math_PassStatus</th>\n",
              "      <th>Reading_PassStatus</th>\n",
              "      <th>Writing_PassStatus</th>\n",
              "      <th>OverAll_PassStatus</th>\n",
              "      <th>Grade</th>\n",
              "    </tr>\n",
              "  </thead>\n",
              "  <tbody>\n",
              "    <tr>\n",
              "      <th>995</th>\n",
              "      <td>female</td>\n",
              "      <td>group E</td>\n",
              "      <td>master's degree</td>\n",
              "      <td>standard</td>\n",
              "      <td>completed</td>\n",
              "      <td>group10</td>\n",
              "      <td>88</td>\n",
              "      <td>99</td>\n",
              "      <td>95</td>\n",
              "      <td>P</td>\n",
              "      <td>P</td>\n",
              "      <td>P</td>\n",
              "      <td>P</td>\n",
              "      <td>A</td>\n",
              "    </tr>\n",
              "    <tr>\n",
              "      <th>996</th>\n",
              "      <td>male</td>\n",
              "      <td>group C</td>\n",
              "      <td>high school</td>\n",
              "      <td>free/reduced</td>\n",
              "      <td>none</td>\n",
              "      <td>group10</td>\n",
              "      <td>62</td>\n",
              "      <td>55</td>\n",
              "      <td>55</td>\n",
              "      <td>P</td>\n",
              "      <td>P</td>\n",
              "      <td>P</td>\n",
              "      <td>P</td>\n",
              "      <td>E</td>\n",
              "    </tr>\n",
              "    <tr>\n",
              "      <th>997</th>\n",
              "      <td>female</td>\n",
              "      <td>group C</td>\n",
              "      <td>high school</td>\n",
              "      <td>free/reduced</td>\n",
              "      <td>completed</td>\n",
              "      <td>group10</td>\n",
              "      <td>59</td>\n",
              "      <td>71</td>\n",
              "      <td>65</td>\n",
              "      <td>P</td>\n",
              "      <td>P</td>\n",
              "      <td>P</td>\n",
              "      <td>P</td>\n",
              "      <td>D</td>\n",
              "    </tr>\n",
              "    <tr>\n",
              "      <th>998</th>\n",
              "      <td>female</td>\n",
              "      <td>group D</td>\n",
              "      <td>some college</td>\n",
              "      <td>standard</td>\n",
              "      <td>completed</td>\n",
              "      <td>group10</td>\n",
              "      <td>68</td>\n",
              "      <td>78</td>\n",
              "      <td>77</td>\n",
              "      <td>P</td>\n",
              "      <td>P</td>\n",
              "      <td>P</td>\n",
              "      <td>P</td>\n",
              "      <td>C</td>\n",
              "    </tr>\n",
              "    <tr>\n",
              "      <th>999</th>\n",
              "      <td>female</td>\n",
              "      <td>group D</td>\n",
              "      <td>some college</td>\n",
              "      <td>free/reduced</td>\n",
              "      <td>none</td>\n",
              "      <td>group10</td>\n",
              "      <td>77</td>\n",
              "      <td>86</td>\n",
              "      <td>86</td>\n",
              "      <td>P</td>\n",
              "      <td>P</td>\n",
              "      <td>P</td>\n",
              "      <td>P</td>\n",
              "      <td>B</td>\n",
              "    </tr>\n",
              "  </tbody>\n",
              "</table>\n",
              "</div>"
            ],
            "text/plain": [
              "     gender race/ethnicity  ... OverAll_PassStatus Grade\n",
              "995  female        group E  ...                  P     A\n",
              "996    male        group C  ...                  P     E\n",
              "997  female        group C  ...                  P     D\n",
              "998  female        group D  ...                  P     C\n",
              "999  female        group D  ...                  P     B\n",
              "\n",
              "[5 rows x 14 columns]"
            ]
          },
          "metadata": {},
          "execution_count": 220
        }
      ]
    },
    {
      "cell_type": "code",
      "metadata": {
        "colab": {
          "base_uri": "https://localhost:8080/"
        },
        "id": "V-fqFs9-s6wS",
        "outputId": "a63c8a65-8e07-4b49-b6c2-a3fd9c21a30a"
      },
      "source": [
        "df['Grade'].value_counts().sort_index()"
      ],
      "execution_count": 217,
      "outputs": [
        {
          "output_type": "execute_result",
          "data": {
            "text/plain": [
              "A     50\n",
              "B    144\n",
              "C    253\n",
              "D    260\n",
              "E    184\n",
              "F    109\n",
              "Name: Grade, dtype: int64"
            ]
          },
          "metadata": {},
          "execution_count": 217
        }
      ]
    }
  ]
}