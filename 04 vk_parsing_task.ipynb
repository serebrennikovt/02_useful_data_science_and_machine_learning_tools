{
 "cells": [
  {
   "cell_type": "markdown",
   "id": "83aa8357",
   "metadata": {},
   "source": [
    "Что должно быть в проекте: \n",
    "\n",
    "Полностью или частично собраны данные. Реализована новая модель предсказания или построена новая модель симуляции. Проведено сравнение с существующими аналогами, проведен количественный/качественный анализ результатов. Подготовлен отчет о проделанной работе в формате исследовательской статьи `(research paper)` или технического отчета `(technical report)`, и воспроизводимый код по проекту.\n",
    "\n",
    "Задача спарсить данные пользователей из группы в ВК про Валерия Меладзе: \n",
    "https://vk.com/meladze_valery\n",
    "\n",
    "Провести анализ и обработку собранных данных (почистить данные, посмотреть есть ли пропуски), удалить лишние столбцы. Учитывая данные пользователей можно посмотреть каков средний возраст слушателей, из каких стран или регионов люди вступают в группу, также посмотреть какие есть общие группы, в которых пользователи пересекаются (определить топ групп или интересов). \n",
    "Сделать визуализацию по распределению пользователей по странам или по возрасту. \n",
    "\n",
    "1. На основе парсинга определить пользователей, которые не состоят ни в одной общей между собой группе, кроме группы фанов Меладзе. \n",
    "2. Найти еще около пяти пересекающихся групп, на которые подписано самое большое количество человек, следящих за творчеством Валерия Меладзе. Сделать визаулизацию (что-то типо диаграммы Венна). \n"
   ]
  },
  {
   "cell_type": "code",
   "execution_count": 230,
   "id": "74227acf",
   "metadata": {
    "ExecuteTime": {
     "end_time": "2021-12-20T15:58:56.189525Z",
     "start_time": "2021-12-20T15:58:56.182477Z"
    }
   },
   "outputs": [],
   "source": [
    "import vk\n",
    "import time\n",
    "import requests\n",
    "import pandas as pd\n",
    "import numpy as np\n",
    "from tqdm import tqdm\n",
    "import matplotlib.pyplot as plt"
   ]
  },
  {
   "cell_type": "code",
   "execution_count": 25,
   "id": "7209c3b0",
   "metadata": {
    "ExecuteTime": {
     "end_time": "2021-12-19T22:00:42.515544Z",
     "start_time": "2021-12-19T22:00:42.506719Z"
    }
   },
   "outputs": [],
   "source": [
    "import warnings\n",
    "warnings.filterwarnings(\"ignore\")"
   ]
  },
  {
   "cell_type": "code",
   "execution_count": 2,
   "id": "de4ea2b9",
   "metadata": {
    "ExecuteTime": {
     "end_time": "2021-12-19T21:51:14.777064Z",
     "start_time": "2021-12-19T21:51:14.771102Z"
    }
   },
   "outputs": [],
   "source": [
    "vk_token = 'b7cef4cfb7cef4cfb7cef4cf80b7b47180bb7ceb7cef4cfd6726241a2ac634994769f05'"
   ]
  },
  {
   "cell_type": "code",
   "execution_count": 3,
   "id": "aac047af",
   "metadata": {
    "ExecuteTime": {
     "end_time": "2021-12-19T21:51:14.918865Z",
     "start_time": "2021-12-19T21:51:14.914739Z"
    }
   },
   "outputs": [],
   "source": [
    "vk_token = '880c04e5e7b965a3b627525f1bdbc78cb58bf0adf3229737ecddd245385dd5680335fc9667c9163b72216'"
   ]
  },
  {
   "cell_type": "code",
   "execution_count": 101,
   "id": "721e7113",
   "metadata": {
    "ExecuteTime": {
     "end_time": "2021-12-20T13:55:49.605992Z",
     "start_time": "2021-12-20T13:55:49.599392Z"
    }
   },
   "outputs": [],
   "source": [
    "vk_token = '61f834acf5f3577c9af490f02aa5cd6aa3b7ed6da86f7b7212832b03d2cb206b069776144cb5d0ff3cb3a'"
   ]
  },
  {
   "cell_type": "code",
   "execution_count": null,
   "id": "f3050329",
   "metadata": {},
   "outputs": [],
   "source": []
  },
  {
   "cell_type": "markdown",
   "id": "faced32c",
   "metadata": {},
   "source": [
    "# Выгрузим id всех пользователей из нужной нам группы"
   ]
  },
  {
   "cell_type": "code",
   "execution_count": 103,
   "id": "d80f9eba",
   "metadata": {
    "ExecuteTime": {
     "end_time": "2021-12-20T13:56:26.738239Z",
     "start_time": "2021-12-20T13:56:26.729916Z"
    }
   },
   "outputs": [],
   "source": [
    "session_group = vk.Session(access_token=vk_token)"
   ]
  },
  {
   "cell_type": "code",
   "execution_count": 104,
   "id": "9cfe0c5f",
   "metadata": {
    "ExecuteTime": {
     "end_time": "2021-12-20T13:56:27.658422Z",
     "start_time": "2021-12-20T13:56:27.650225Z"
    }
   },
   "outputs": [],
   "source": [
    "vk_api_group = vk.API(session_group)"
   ]
  },
  {
   "cell_type": "code",
   "execution_count": 105,
   "id": "2d642612",
   "metadata": {
    "ExecuteTime": {
     "end_time": "2021-12-20T13:56:28.301812Z",
     "start_time": "2021-12-20T13:56:28.136860Z"
    }
   },
   "outputs": [
    {
     "data": {
      "text/plain": [
       "dict_keys(['count', 'items'])"
      ]
     },
     "execution_count": 105,
     "metadata": {},
     "output_type": "execute_result"
    }
   ],
   "source": [
    "vk_api_group.groups.getMembers(group_id='meladze_valery', v=5.92).keys()"
   ]
  },
  {
   "cell_type": "code",
   "execution_count": 106,
   "id": "8d959546",
   "metadata": {
    "ExecuteTime": {
     "end_time": "2021-12-20T13:56:28.929587Z",
     "start_time": "2021-12-20T13:56:28.922989Z"
    }
   },
   "outputs": [],
   "source": [
    "fields = ['bdate', 'city', 'country', 'last_seen', 'sex']"
   ]
  },
  {
   "cell_type": "code",
   "execution_count": 107,
   "id": "5705cdb7",
   "metadata": {
    "ExecuteTime": {
     "end_time": "2021-12-20T13:56:29.729152Z",
     "start_time": "2021-12-20T13:56:29.328872Z"
    }
   },
   "outputs": [],
   "source": [
    "data = vk_api_group.groups.getMembers(group_id='meladze_valery', \n",
    "                                      v=5.92,\n",
    "                                      fields=fields\n",
    "                                      )['items']"
   ]
  },
  {
   "cell_type": "code",
   "execution_count": 108,
   "id": "ddc0d295",
   "metadata": {
    "ExecuteTime": {
     "end_time": "2021-12-20T13:56:30.123471Z",
     "start_time": "2021-12-20T13:56:30.059974Z"
    }
   },
   "outputs": [],
   "source": [
    "count = vk_api_group.groups.getMembers(group_id='meladze_valery', v=5.92)[\"count\"] // 1000"
   ]
  },
  {
   "cell_type": "code",
   "execution_count": 109,
   "id": "0082429b",
   "metadata": {
    "ExecuteTime": {
     "end_time": "2021-12-20T13:57:06.697366Z",
     "start_time": "2021-12-20T13:56:30.543248Z"
    },
    "scrolled": true
   },
   "outputs": [],
   "source": [
    "for i in range(1, count+1):  \n",
    "    time.sleep(0.5)\n",
    "    data = data + vk_api_group.groups.getMembers(group_id='meladze_valery', \n",
    "                                                 v=5.92, \n",
    "                                                 fields=fields,\n",
    "                                                 offset=i*1000)[\"items\"]"
   ]
  },
  {
   "cell_type": "code",
   "execution_count": 110,
   "id": "a98f6415",
   "metadata": {
    "ExecuteTime": {
     "end_time": "2021-12-20T13:57:06.716385Z",
     "start_time": "2021-12-20T13:57:06.703846Z"
    },
    "scrolled": false
   },
   "outputs": [
    {
     "data": {
      "text/plain": [
       "[{'first_name': 'Pervin',\n",
       "  'id': 1820,\n",
       "  'last_name': 'Mohammadzade',\n",
       "  'can_access_closed': False,\n",
       "  'is_closed': True,\n",
       "  'sex': 2,\n",
       "  'city': {'id': 1, 'title': 'Москва'},\n",
       "  'country': {'title': 'Россия', 'id': 1},\n",
       "  'last_seen': {'platform': 7, 'time': 1640007683}},\n",
       " {'first_name': 'Жаннет',\n",
       "  'id': 4886,\n",
       "  'last_name': 'Венжега',\n",
       "  'can_access_closed': False,\n",
       "  'is_closed': True,\n",
       "  'sex': 1,\n",
       "  'bdate': '7.3',\n",
       "  'city': {'id': 2, 'title': 'Санкт-Петербург'},\n",
       "  'country': {'title': 'Россия', 'id': 1},\n",
       "  'last_seen': {'platform': 7, 'time': 1639571809}},\n",
       " {'first_name': 'Анастасия',\n",
       "  'id': 11926,\n",
       "  'last_name': 'Андреева',\n",
       "  'deactivated': 'banned',\n",
       "  'sex': 1}]"
      ]
     },
     "execution_count": 110,
     "metadata": {},
     "output_type": "execute_result"
    }
   ],
   "source": [
    "data[:3]"
   ]
  },
  {
   "cell_type": "markdown",
   "id": "242611f0",
   "metadata": {},
   "source": [
    "## Посмотрим на данные"
   ]
  },
  {
   "cell_type": "code",
   "execution_count": 111,
   "id": "6aab058b",
   "metadata": {
    "ExecuteTime": {
     "end_time": "2021-12-20T13:57:06.788881Z",
     "start_time": "2021-12-20T13:57:06.718772Z"
    }
   },
   "outputs": [],
   "source": [
    "df = pd.DataFrame(data)"
   ]
  },
  {
   "cell_type": "code",
   "execution_count": 112,
   "id": "037964d3",
   "metadata": {
    "ExecuteTime": {
     "end_time": "2021-12-20T13:57:06.800179Z",
     "start_time": "2021-12-20T13:57:06.790613Z"
    }
   },
   "outputs": [
    {
     "data": {
      "text/html": [
       "<div>\n",
       "<style scoped>\n",
       "    .dataframe tbody tr th:only-of-type {\n",
       "        vertical-align: middle;\n",
       "    }\n",
       "\n",
       "    .dataframe tbody tr th {\n",
       "        vertical-align: top;\n",
       "    }\n",
       "\n",
       "    .dataframe thead th {\n",
       "        text-align: right;\n",
       "    }\n",
       "</style>\n",
       "<table border=\"1\" class=\"dataframe\">\n",
       "  <thead>\n",
       "    <tr style=\"text-align: right;\">\n",
       "      <th></th>\n",
       "      <th>first_name</th>\n",
       "      <th>id</th>\n",
       "      <th>last_name</th>\n",
       "      <th>can_access_closed</th>\n",
       "      <th>is_closed</th>\n",
       "      <th>sex</th>\n",
       "      <th>city</th>\n",
       "      <th>country</th>\n",
       "      <th>last_seen</th>\n",
       "      <th>bdate</th>\n",
       "      <th>deactivated</th>\n",
       "    </tr>\n",
       "  </thead>\n",
       "  <tbody>\n",
       "    <tr>\n",
       "      <th>7121</th>\n",
       "      <td>Ксения</td>\n",
       "      <td>28943623</td>\n",
       "      <td>Гальчанская</td>\n",
       "      <td>False</td>\n",
       "      <td>True</td>\n",
       "      <td>1</td>\n",
       "      <td>{'id': 123, 'title': 'Самара'}</td>\n",
       "      <td>{'title': 'Россия', 'id': 1}</td>\n",
       "      <td>{'platform': 2, 'time': 1639506779}</td>\n",
       "      <td>20.11</td>\n",
       "      <td>NaN</td>\n",
       "    </tr>\n",
       "    <tr>\n",
       "      <th>26394</th>\n",
       "      <td>Юлия</td>\n",
       "      <td>282070613</td>\n",
       "      <td>Малышева</td>\n",
       "      <td>NaN</td>\n",
       "      <td>NaN</td>\n",
       "      <td>1</td>\n",
       "      <td>NaN</td>\n",
       "      <td>NaN</td>\n",
       "      <td>NaN</td>\n",
       "      <td>NaN</td>\n",
       "      <td>banned</td>\n",
       "    </tr>\n",
       "    <tr>\n",
       "      <th>13755</th>\n",
       "      <td>Ace</td>\n",
       "      <td>105722022</td>\n",
       "      <td>Ventura</td>\n",
       "      <td>False</td>\n",
       "      <td>True</td>\n",
       "      <td>2</td>\n",
       "      <td>{'id': 2, 'title': 'Санкт-Петербург'}</td>\n",
       "      <td>{'title': 'Россия', 'id': 1}</td>\n",
       "      <td>{'platform': 7, 'time': 1640002692}</td>\n",
       "      <td>12.3.1986</td>\n",
       "      <td>NaN</td>\n",
       "    </tr>\n",
       "    <tr>\n",
       "      <th>29559</th>\n",
       "      <td>Алик</td>\n",
       "      <td>344507049</td>\n",
       "      <td>Даштамиров</td>\n",
       "      <td>True</td>\n",
       "      <td>False</td>\n",
       "      <td>2</td>\n",
       "      <td>{'id': 5252, 'title': 'Шебекино'}</td>\n",
       "      <td>{'title': 'Россия', 'id': 1}</td>\n",
       "      <td>{'platform': 1, 'time': 1639984526}</td>\n",
       "      <td>NaN</td>\n",
       "      <td>NaN</td>\n",
       "    </tr>\n",
       "    <tr>\n",
       "      <th>12864</th>\n",
       "      <td>Ксения</td>\n",
       "      <td>92051452</td>\n",
       "      <td>Хасанченко</td>\n",
       "      <td>False</td>\n",
       "      <td>True</td>\n",
       "      <td>1</td>\n",
       "      <td>NaN</td>\n",
       "      <td>{'title': 'Россия', 'id': 1}</td>\n",
       "      <td>{'platform': 4, 'time': 1640006964}</td>\n",
       "      <td>NaN</td>\n",
       "      <td>NaN</td>\n",
       "    </tr>\n",
       "  </tbody>\n",
       "</table>\n",
       "</div>"
      ],
      "text/plain": [
       "      first_name         id    last_name can_access_closed is_closed  sex  \\\n",
       "7121      Ксения   28943623  Гальчанская             False      True    1   \n",
       "26394       Юлия  282070613     Малышева               NaN       NaN    1   \n",
       "13755        Ace  105722022      Ventura             False      True    2   \n",
       "29559       Алик  344507049   Даштамиров              True     False    2   \n",
       "12864     Ксения   92051452   Хасанченко             False      True    1   \n",
       "\n",
       "                                        city                       country  \\\n",
       "7121          {'id': 123, 'title': 'Самара'}  {'title': 'Россия', 'id': 1}   \n",
       "26394                                    NaN                           NaN   \n",
       "13755  {'id': 2, 'title': 'Санкт-Петербург'}  {'title': 'Россия', 'id': 1}   \n",
       "29559      {'id': 5252, 'title': 'Шебекино'}  {'title': 'Россия', 'id': 1}   \n",
       "12864                                    NaN  {'title': 'Россия', 'id': 1}   \n",
       "\n",
       "                                 last_seen      bdate deactivated  \n",
       "7121   {'platform': 2, 'time': 1639506779}      20.11         NaN  \n",
       "26394                                  NaN        NaN      banned  \n",
       "13755  {'platform': 7, 'time': 1640002692}  12.3.1986         NaN  \n",
       "29559  {'platform': 1, 'time': 1639984526}        NaN         NaN  \n",
       "12864  {'platform': 4, 'time': 1640006964}        NaN         NaN  "
      ]
     },
     "execution_count": 112,
     "metadata": {},
     "output_type": "execute_result"
    }
   ],
   "source": [
    "df.sample(5)"
   ]
  },
  {
   "cell_type": "markdown",
   "id": "ab430cac",
   "metadata": {},
   "source": [
    "Оставим только существующие аккаунты"
   ]
  },
  {
   "cell_type": "code",
   "execution_count": 113,
   "id": "4a6e317e",
   "metadata": {
    "ExecuteTime": {
     "end_time": "2021-12-20T13:57:06.810529Z",
     "start_time": "2021-12-20T13:57:06.801127Z"
    }
   },
   "outputs": [],
   "source": [
    "df = df[df['last_seen'].notna()]"
   ]
  },
  {
   "cell_type": "code",
   "execution_count": 114,
   "id": "82fb327d",
   "metadata": {
    "ExecuteTime": {
     "end_time": "2021-12-20T13:57:08.527220Z",
     "start_time": "2021-12-20T13:57:06.811521Z"
    }
   },
   "outputs": [],
   "source": [
    "df['last_seen'] = df['last_seen'].apply(lambda x: pd.to_datetime(x['time'], unit='s'))"
   ]
  },
  {
   "cell_type": "code",
   "execution_count": 115,
   "id": "e1f55744",
   "metadata": {
    "ExecuteTime": {
     "end_time": "2021-12-20T13:57:08.532140Z",
     "start_time": "2021-12-20T13:57:08.528221Z"
    }
   },
   "outputs": [],
   "source": [
    "df['bdate'] = df['bdate'].fillna('0')"
   ]
  },
  {
   "cell_type": "code",
   "execution_count": 116,
   "id": "916639aa",
   "metadata": {
    "ExecuteTime": {
     "end_time": "2021-12-20T13:57:08.534537Z",
     "start_time": "2021-12-20T13:57:08.532923Z"
    }
   },
   "outputs": [],
   "source": [
    "def func(x):\n",
    "    if len(x) > 7:\n",
    "        return x\n",
    "    else:\n",
    "        return '0'"
   ]
  },
  {
   "cell_type": "markdown",
   "id": "71c82804",
   "metadata": {},
   "source": [
    "Достанем возраст"
   ]
  },
  {
   "cell_type": "code",
   "execution_count": 117,
   "id": "0b4f8dbd",
   "metadata": {
    "ExecuteTime": {
     "end_time": "2021-12-20T13:57:08.543300Z",
     "start_time": "2021-12-20T13:57:08.535394Z"
    }
   },
   "outputs": [],
   "source": [
    "df['bdate_normal'] = df['bdate'].apply(lambda x: func(x))"
   ]
  },
  {
   "cell_type": "code",
   "execution_count": 118,
   "id": "7a1fba80",
   "metadata": {
    "ExecuteTime": {
     "end_time": "2021-12-20T13:57:08.547537Z",
     "start_time": "2021-12-20T13:57:08.545544Z"
    }
   },
   "outputs": [],
   "source": [
    "def func2(x):\n",
    "    if x != '0':\n",
    "        return 2021-int(x[-4:])\n",
    "    else:\n",
    "        return 0"
   ]
  },
  {
   "cell_type": "code",
   "execution_count": 119,
   "id": "35be5409",
   "metadata": {
    "ExecuteTime": {
     "end_time": "2021-12-20T13:57:08.562516Z",
     "start_time": "2021-12-20T13:57:08.548464Z"
    }
   },
   "outputs": [],
   "source": [
    "df['age'] = df['bdate_normal'].apply(lambda x: func2(x))"
   ]
  },
  {
   "cell_type": "code",
   "execution_count": 120,
   "id": "542d588b",
   "metadata": {
    "ExecuteTime": {
     "end_time": "2021-12-20T13:57:08.667017Z",
     "start_time": "2021-12-20T13:57:08.563446Z"
    }
   },
   "outputs": [
    {
     "data": {
      "image/png": "[encoded data removed]",
      "text/plain": [
       "<Figure size 864x432 with 1 Axes>"
      ]
     },
     "metadata": {
      "needs_background": "light"
     },
     "output_type": "display_data"
    }
   ],
   "source": [
    "plt.figure(figsize=(12,6))\n",
    "\n",
    "plt.hist(df[df['age'] != 0]['age'], bins=35)\n",
    "plt.grid()\n",
    "plt.title('Распределение возраста')\n",
    "plt.xticks(range(0,120,10))\n",
    "plt.show()"
   ]
  },
  {
   "cell_type": "code",
   "execution_count": 121,
   "id": "48f07c59",
   "metadata": {
    "ExecuteTime": {
     "end_time": "2021-12-20T13:57:08.671289Z",
     "start_time": "2021-12-20T13:57:08.667917Z"
    }
   },
   "outputs": [
    {
     "data": {
      "text/plain": [
       "1    23030\n",
       "2     9058\n",
       "0       25\n",
       "Name: sex, dtype: int64"
      ]
     },
     "execution_count": 121,
     "metadata": {},
     "output_type": "execute_result"
    }
   ],
   "source": [
    "df['sex'].value_counts()"
   ]
  },
  {
   "cell_type": "markdown",
   "id": "464bc717",
   "metadata": {},
   "source": [
    "Приведем колонки `city` и `country` в нормальный вид"
   ]
  },
  {
   "cell_type": "code",
   "execution_count": 122,
   "id": "0fa59b4e",
   "metadata": {
    "ExecuteTime": {
     "end_time": "2021-12-20T13:57:08.674082Z",
     "start_time": "2021-12-20T13:57:08.672125Z"
    }
   },
   "outputs": [],
   "source": [
    "def func3(x):\n",
    "    try:\n",
    "        return x['title']\n",
    "    except:\n",
    "        return x"
   ]
  },
  {
   "cell_type": "code",
   "execution_count": 123,
   "id": "fc28a266",
   "metadata": {
    "ExecuteTime": {
     "end_time": "2021-12-20T13:57:08.697308Z",
     "start_time": "2021-12-20T13:57:08.674849Z"
    },
    "scrolled": true
   },
   "outputs": [],
   "source": [
    "df['city'] = df['city'].apply(lambda x: func3(x))\n",
    "df['country'] = df['country'].apply(lambda x: func3(x))"
   ]
  },
  {
   "cell_type": "code",
   "execution_count": 124,
   "id": "2835ccff",
   "metadata": {
    "ExecuteTime": {
     "end_time": "2021-12-20T13:57:08.708823Z",
     "start_time": "2021-12-20T13:57:08.698348Z"
    },
    "scrolled": true
   },
   "outputs": [
    {
     "data": {
      "text/plain": [
       "Москва             3167\n",
       "Санкт-Петербург    2101\n",
       "Киев                570\n",
       "Минск               439\n",
       "Екатеринбург        394\n",
       "Казань              384\n",
       "Краснодар           354\n",
       "Алматы              354\n",
       "Name: city, dtype: int64"
      ]
     },
     "execution_count": 124,
     "metadata": {},
     "output_type": "execute_result"
    }
   ],
   "source": [
    "df.loc[df['city'].notna(), 'city'].value_counts()[:8]"
   ]
  },
  {
   "cell_type": "code",
   "execution_count": 125,
   "id": "a597e3f3",
   "metadata": {
    "ExecuteTime": {
     "end_time": "2021-12-20T13:57:08.718281Z",
     "start_time": "2021-12-20T13:57:08.709915Z"
    }
   },
   "outputs": [
    {
     "data": {
      "text/html": [
       "<div>\n",
       "<style scoped>\n",
       "    .dataframe tbody tr th:only-of-type {\n",
       "        vertical-align: middle;\n",
       "    }\n",
       "\n",
       "    .dataframe tbody tr th {\n",
       "        vertical-align: top;\n",
       "    }\n",
       "\n",
       "    .dataframe thead th {\n",
       "        text-align: right;\n",
       "    }\n",
       "</style>\n",
       "<table border=\"1\" class=\"dataframe\">\n",
       "  <thead>\n",
       "    <tr style=\"text-align: right;\">\n",
       "      <th></th>\n",
       "      <th>first_name</th>\n",
       "      <th>id</th>\n",
       "      <th>last_name</th>\n",
       "      <th>can_access_closed</th>\n",
       "      <th>is_closed</th>\n",
       "      <th>sex</th>\n",
       "      <th>city</th>\n",
       "      <th>country</th>\n",
       "      <th>last_seen</th>\n",
       "      <th>bdate</th>\n",
       "      <th>deactivated</th>\n",
       "      <th>bdate_normal</th>\n",
       "      <th>age</th>\n",
       "    </tr>\n",
       "  </thead>\n",
       "  <tbody>\n",
       "    <tr>\n",
       "      <th>37882</th>\n",
       "      <td>Саша</td>\n",
       "      <td>610424494</td>\n",
       "      <td>Денисова</td>\n",
       "      <td>True</td>\n",
       "      <td>False</td>\n",
       "      <td>1</td>\n",
       "      <td>NaN</td>\n",
       "      <td>NaN</td>\n",
       "      <td>2021-12-20 05:11:12</td>\n",
       "      <td>24.9.2005</td>\n",
       "      <td>NaN</td>\n",
       "      <td>24.9.2005</td>\n",
       "      <td>16</td>\n",
       "    </tr>\n",
       "    <tr>\n",
       "      <th>36751</th>\n",
       "      <td>Валерия</td>\n",
       "      <td>563563932</td>\n",
       "      <td>Мартова</td>\n",
       "      <td>True</td>\n",
       "      <td>False</td>\n",
       "      <td>1</td>\n",
       "      <td>Москва</td>\n",
       "      <td>Россия</td>\n",
       "      <td>2021-09-07 22:08:15</td>\n",
       "      <td>0</td>\n",
       "      <td>NaN</td>\n",
       "      <td>0</td>\n",
       "      <td>0</td>\n",
       "    </tr>\n",
       "    <tr>\n",
       "      <th>27348</th>\n",
       "      <td>Қуандық</td>\n",
       "      <td>300755451</td>\n",
       "      <td>Бекзат</td>\n",
       "      <td>True</td>\n",
       "      <td>False</td>\n",
       "      <td>2</td>\n",
       "      <td>NaN</td>\n",
       "      <td>Казахстан</td>\n",
       "      <td>2021-07-18 09:52:13</td>\n",
       "      <td>0</td>\n",
       "      <td>NaN</td>\n",
       "      <td>0</td>\n",
       "      <td>0</td>\n",
       "    </tr>\n",
       "    <tr>\n",
       "      <th>9748</th>\n",
       "      <td>Тетяна</td>\n",
       "      <td>52425907</td>\n",
       "      <td>Романець</td>\n",
       "      <td>True</td>\n",
       "      <td>False</td>\n",
       "      <td>1</td>\n",
       "      <td>Луцк</td>\n",
       "      <td>Украина</td>\n",
       "      <td>2017-07-28 19:29:43</td>\n",
       "      <td>23.12.1992</td>\n",
       "      <td>NaN</td>\n",
       "      <td>23.12.1992</td>\n",
       "      <td>29</td>\n",
       "    </tr>\n",
       "    <tr>\n",
       "      <th>32877</th>\n",
       "      <td>Яна</td>\n",
       "      <td>430137934</td>\n",
       "      <td>Темникова</td>\n",
       "      <td>False</td>\n",
       "      <td>True</td>\n",
       "      <td>1</td>\n",
       "      <td>NaN</td>\n",
       "      <td>Россия</td>\n",
       "      <td>2021-12-20 13:40:42</td>\n",
       "      <td>16.4.2003</td>\n",
       "      <td>NaN</td>\n",
       "      <td>16.4.2003</td>\n",
       "      <td>18</td>\n",
       "    </tr>\n",
       "  </tbody>\n",
       "</table>\n",
       "</div>"
      ],
      "text/plain": [
       "      first_name         id  last_name can_access_closed is_closed  sex  \\\n",
       "37882       Саша  610424494   Денисова              True     False    1   \n",
       "36751    Валерия  563563932    Мартова              True     False    1   \n",
       "27348    Қуандық  300755451     Бекзат              True     False    2   \n",
       "9748      Тетяна   52425907   Романець              True     False    1   \n",
       "32877        Яна  430137934  Темникова             False      True    1   \n",
       "\n",
       "         city    country           last_seen       bdate deactivated  \\\n",
       "37882     NaN        NaN 2021-12-20 05:11:12   24.9.2005         NaN   \n",
       "36751  Москва     Россия 2021-09-07 22:08:15           0         NaN   \n",
       "27348     NaN  Казахстан 2021-07-18 09:52:13           0         NaN   \n",
       "9748     Луцк    Украина 2017-07-28 19:29:43  23.12.1992         NaN   \n",
       "32877     NaN     Россия 2021-12-20 13:40:42   16.4.2003         NaN   \n",
       "\n",
       "      bdate_normal  age  \n",
       "37882    24.9.2005   16  \n",
       "36751            0    0  \n",
       "27348            0    0  \n",
       "9748    23.12.1992   29  \n",
       "32877    16.4.2003   18  "
      ]
     },
     "execution_count": 125,
     "metadata": {},
     "output_type": "execute_result"
    }
   ],
   "source": [
    "df.sample(5)"
   ]
  },
  {
   "cell_type": "markdown",
   "id": "a780b32b",
   "metadata": {},
   "source": [
    "Отлично. У нас есть все данные о пользователях в группе, но давайте теперь найдем список групп, в который каждый из этих пользователь состоит. Это делается с помощью метода `groups.get()`"
   ]
  },
  {
   "cell_type": "markdown",
   "id": "391bbe48",
   "metadata": {},
   "source": [
    "# Достанем список групп для каждого пользователя"
   ]
  },
  {
   "cell_type": "markdown",
   "id": "d734e5bc",
   "metadata": {},
   "source": [
    "Достать данные о всех группах всех пользователей не получится, тк у vk стоит ограничение на количество запросов в сутки. Достанем сколько сможем. Чтобы данные были максимально подробные, попробуем достать сначала для тех, у кого есть все данные (возраст, пол и пр.)"
   ]
  },
  {
   "cell_type": "code",
   "execution_count": 136,
   "id": "e7aff7b9",
   "metadata": {
    "ExecuteTime": {
     "end_time": "2021-12-20T14:00:15.563193Z",
     "start_time": "2021-12-20T14:00:15.549049Z"
    }
   },
   "outputs": [],
   "source": [
    "ids_to_get = list(df.loc[df['age'] != 0, 'id'])"
   ]
  },
  {
   "cell_type": "code",
   "execution_count": 141,
   "id": "8b7fafa7",
   "metadata": {
    "ExecuteTime": {
     "end_time": "2021-12-20T14:02:21.951893Z",
     "start_time": "2021-12-20T14:02:21.941808Z"
    }
   },
   "outputs": [],
   "source": [
    "user_groups = []"
   ]
  },
  {
   "cell_type": "code",
   "execution_count": 142,
   "id": "d230265a",
   "metadata": {
    "ExecuteTime": {
     "end_time": "2021-12-20T14:54:53.926590Z",
     "start_time": "2021-12-20T14:02:22.240531Z"
    },
    "scrolled": true
   },
   "outputs": [
    {
     "name": "stderr",
     "output_type": "stream",
     "text": [
      "100%|█████████████████████████████████████| 14728/14728 [52:31<00:00,  4.67it/s]\n"
     ]
    }
   ],
   "source": [
    "for user_id in tqdm(ids_to_get):\n",
    "    try:\n",
    "        group_dict = {}\n",
    "        group_dict['id'] = user_id\n",
    "        group_dict['groups'] = vk_api_group.groups.get(v=5.92,\n",
    "                               user_id = user_id,\n",
    "                               extended = 1)['items']\n",
    "        \n",
    "        user_groups.append(group_dict)\n",
    "    except:\n",
    "        continue"
   ]
  },
  {
   "cell_type": "markdown",
   "id": "0b3c3e73",
   "metadata": {},
   "source": [
    "Выдается ошибка : `VkAPIError: 29. Rate limit reached.`"
   ]
  },
  {
   "cell_type": "code",
   "execution_count": null,
   "id": "cb3835d7",
   "metadata": {},
   "outputs": [],
   "source": []
  },
  {
   "cell_type": "code",
   "execution_count": 144,
   "id": "72847afe",
   "metadata": {
    "ExecuteTime": {
     "end_time": "2021-12-20T15:10:09.940088Z",
     "start_time": "2021-12-20T15:10:09.924235Z"
    }
   },
   "outputs": [],
   "source": [
    "df_groups = pd.DataFrame(user_groups)"
   ]
  },
  {
   "cell_type": "code",
   "execution_count": 147,
   "id": "7e451ad0",
   "metadata": {
    "ExecuteTime": {
     "end_time": "2021-12-20T15:13:02.922706Z",
     "start_time": "2021-12-20T15:13:02.909685Z"
    }
   },
   "outputs": [
    {
     "data": {
      "text/plain": [
       "{'id': 184706987,\n",
       " 'name': 'MARVEL',\n",
       " 'screen_name': 'marvel',\n",
       " 'is_closed': 0,\n",
       " 'type': 'page',\n",
       " 'is_admin': 0,\n",
       " 'is_member': 0,\n",
       " 'is_advertiser': 0,\n",
       " 'photo_50': 'https://sun1-28.userapi.com/s/v1/if1/5yTlVLsLD1CXyK_1zZn6Fi0dhZ4zzVM8V_EtKXQFXFKp0F7mY2l7Ar0xlA8WrsrkiVF1w_Pn.jpg?size=50x50&quality=96&crop=0,0,748,748&ava=1',\n",
       " 'photo_100': 'https://sun1-28.userapi.com/s/v1/if1/dFbshaqcg_XxMD1sgOh18GN4De_V65SlZJtF6M_ME2lWDnItyfu6X3SKA2sYc1fvUS_dgVfs.jpg?size=100x100&quality=96&crop=0,0,748,748&ava=1',\n",
       " 'photo_200': 'https://sun1-28.userapi.com/s/v1/if1/wNVYSG25pYRgYDrv5eGIracZibeugkOwpa5BogMNemvzxEUvGT4Epa_C8afxEYdjOn90BAWo.jpg?size=200x200&quality=96&crop=0,0,748,748&ava=1'}"
      ]
     },
     "execution_count": 147,
     "metadata": {},
     "output_type": "execute_result"
    }
   ],
   "source": [
    "df_groups.loc[0, 'groups'][0]"
   ]
  },
  {
   "cell_type": "code",
   "execution_count": 145,
   "id": "db9bd8f2",
   "metadata": {
    "ExecuteTime": {
     "end_time": "2021-12-20T15:10:13.881757Z",
     "start_time": "2021-12-20T15:10:13.729074Z"
    }
   },
   "outputs": [
    {
     "data": {
      "text/html": [
       "<div>\n",
       "<style scoped>\n",
       "    .dataframe tbody tr th:only-of-type {\n",
       "        vertical-align: middle;\n",
       "    }\n",
       "\n",
       "    .dataframe tbody tr th {\n",
       "        vertical-align: top;\n",
       "    }\n",
       "\n",
       "    .dataframe thead th {\n",
       "        text-align: right;\n",
       "    }\n",
       "</style>\n",
       "<table border=\"1\" class=\"dataframe\">\n",
       "  <thead>\n",
       "    <tr style=\"text-align: right;\">\n",
       "      <th></th>\n",
       "      <th>id</th>\n",
       "      <th>groups</th>\n",
       "    </tr>\n",
       "  </thead>\n",
       "  <tbody>\n",
       "    <tr>\n",
       "      <th>0</th>\n",
       "      <td>12631</td>\n",
       "      <td>[{'id': 184706987, 'name': 'MARVEL', 'screen_n...</td>\n",
       "    </tr>\n",
       "    <tr>\n",
       "      <th>1</th>\n",
       "      <td>17163</td>\n",
       "      <td>[{'id': 37094684, 'name': 'ТОЛЬЯТТИ', 'screen_...</td>\n",
       "    </tr>\n",
       "    <tr>\n",
       "      <th>2</th>\n",
       "      <td>22266</td>\n",
       "      <td>[{'id': 31480508, 'name': 'Пикабу', 'screen_na...</td>\n",
       "    </tr>\n",
       "    <tr>\n",
       "      <th>3</th>\n",
       "      <td>24276</td>\n",
       "      <td>[{'id': 56106344, 'name': 'Палата №6', 'screen...</td>\n",
       "    </tr>\n",
       "    <tr>\n",
       "      <th>4</th>\n",
       "      <td>43378</td>\n",
       "      <td>[{'id': 43451713, 'name': 'Красиво!', 'screen_...</td>\n",
       "    </tr>\n",
       "    <tr>\n",
       "      <th>...</th>\n",
       "      <td>...</td>\n",
       "      <td>...</td>\n",
       "    </tr>\n",
       "    <tr>\n",
       "      <th>4664</th>\n",
       "      <td>684678614</td>\n",
       "      <td>[{'id': 184544773, 'name': 'Новости Прокопьевс...</td>\n",
       "    </tr>\n",
       "    <tr>\n",
       "      <th>4665</th>\n",
       "      <td>684961536</td>\n",
       "      <td>[{'id': 93965182, 'name': 'Юлианна Караулова',...</td>\n",
       "    </tr>\n",
       "    <tr>\n",
       "      <th>4666</th>\n",
       "      <td>684983981</td>\n",
       "      <td>[{'id': 22822305, 'name': 'ВКонтакте', 'screen...</td>\n",
       "    </tr>\n",
       "    <tr>\n",
       "      <th>4667</th>\n",
       "      <td>685780451</td>\n",
       "      <td>[{'id': 4336146, 'name': 'Валерий Меладзе', 's...</td>\n",
       "    </tr>\n",
       "    <tr>\n",
       "      <th>4668</th>\n",
       "      <td>685972406</td>\n",
       "      <td>[{'id': 4894832, 'name': 'Андрей Малахов. Прям...</td>\n",
       "    </tr>\n",
       "  </tbody>\n",
       "</table>\n",
       "<p>4669 rows × 2 columns</p>\n",
       "</div>"
      ],
      "text/plain": [
       "             id                                             groups\n",
       "0         12631  [{'id': 184706987, 'name': 'MARVEL', 'screen_n...\n",
       "1         17163  [{'id': 37094684, 'name': 'ТОЛЬЯТТИ', 'screen_...\n",
       "2         22266  [{'id': 31480508, 'name': 'Пикабу', 'screen_na...\n",
       "3         24276  [{'id': 56106344, 'name': 'Палата №6', 'screen...\n",
       "4         43378  [{'id': 43451713, 'name': 'Красиво!', 'screen_...\n",
       "...         ...                                                ...\n",
       "4664  684678614  [{'id': 184544773, 'name': 'Новости Прокопьевс...\n",
       "4665  684961536  [{'id': 93965182, 'name': 'Юлианна Караулова',...\n",
       "4666  684983981  [{'id': 22822305, 'name': 'ВКонтакте', 'screen...\n",
       "4667  685780451  [{'id': 4336146, 'name': 'Валерий Меладзе', 's...\n",
       "4668  685972406  [{'id': 4894832, 'name': 'Андрей Малахов. Прям...\n",
       "\n",
       "[4669 rows x 2 columns]"
      ]
     },
     "execution_count": 145,
     "metadata": {},
     "output_type": "execute_result"
    }
   ],
   "source": [
    "df_groups"
   ]
  },
  {
   "cell_type": "code",
   "execution_count": 150,
   "id": "46fadafe",
   "metadata": {
    "ExecuteTime": {
     "end_time": "2021-12-20T15:13:38.159967Z",
     "start_time": "2021-12-20T15:13:37.998128Z"
    }
   },
   "outputs": [],
   "source": [
    "df_groups = df_groups.explode('groups')"
   ]
  },
  {
   "cell_type": "code",
   "execution_count": 167,
   "id": "36eaa53e",
   "metadata": {
    "ExecuteTime": {
     "end_time": "2021-12-20T15:18:35.165938Z",
     "start_time": "2021-12-20T15:18:35.156354Z"
    }
   },
   "outputs": [],
   "source": [
    "def func4(x):\n",
    "    try:\n",
    "        return x['id']\n",
    "    except:\n",
    "        return x"
   ]
  },
  {
   "cell_type": "code",
   "execution_count": 168,
   "id": "a5135375",
   "metadata": {
    "ExecuteTime": {
     "end_time": "2021-12-20T15:18:35.972370Z",
     "start_time": "2021-12-20T15:18:35.520579Z"
    }
   },
   "outputs": [],
   "source": [
    "df_groups['group_id'] = df_groups['groups'].apply(lambda x: func4(x))"
   ]
  },
  {
   "cell_type": "code",
   "execution_count": 169,
   "id": "4ec13b48",
   "metadata": {
    "ExecuteTime": {
     "end_time": "2021-12-20T15:18:35.975620Z",
     "start_time": "2021-12-20T15:18:35.973686Z"
    }
   },
   "outputs": [],
   "source": [
    "def func5(x):\n",
    "    try:\n",
    "        return x['name']\n",
    "    except:\n",
    "        return x"
   ]
  },
  {
   "cell_type": "code",
   "execution_count": 170,
   "id": "0a6641bd",
   "metadata": {
    "ExecuteTime": {
     "end_time": "2021-12-20T15:18:39.190465Z",
     "start_time": "2021-12-20T15:18:38.906529Z"
    }
   },
   "outputs": [],
   "source": [
    "df_groups['name'] = df_groups['groups'].apply(lambda x: func5(x))"
   ]
  },
  {
   "cell_type": "code",
   "execution_count": 171,
   "id": "c341392e",
   "metadata": {
    "ExecuteTime": {
     "end_time": "2021-12-20T15:18:40.693510Z",
     "start_time": "2021-12-20T15:18:40.670598Z"
    }
   },
   "outputs": [
    {
     "data": {
      "text/html": [
       "<div>\n",
       "<style scoped>\n",
       "    .dataframe tbody tr th:only-of-type {\n",
       "        vertical-align: middle;\n",
       "    }\n",
       "\n",
       "    .dataframe tbody tr th {\n",
       "        vertical-align: top;\n",
       "    }\n",
       "\n",
       "    .dataframe thead th {\n",
       "        text-align: right;\n",
       "    }\n",
       "</style>\n",
       "<table border=\"1\" class=\"dataframe\">\n",
       "  <thead>\n",
       "    <tr style=\"text-align: right;\">\n",
       "      <th></th>\n",
       "      <th>id</th>\n",
       "      <th>groups</th>\n",
       "      <th>group_id</th>\n",
       "      <th>name</th>\n",
       "    </tr>\n",
       "  </thead>\n",
       "  <tbody>\n",
       "    <tr>\n",
       "      <th>0</th>\n",
       "      <td>12631</td>\n",
       "      <td>{'id': 184706987, 'name': 'MARVEL', 'screen_na...</td>\n",
       "      <td>184706987.0</td>\n",
       "      <td>MARVEL</td>\n",
       "    </tr>\n",
       "    <tr>\n",
       "      <th>0</th>\n",
       "      <td>12631</td>\n",
       "      <td>{'id': 23688663, 'name': 'Android Blog | Игры ...</td>\n",
       "      <td>23688663.0</td>\n",
       "      <td>Android Blog | Игры на Андроид</td>\n",
       "    </tr>\n",
       "    <tr>\n",
       "      <th>0</th>\n",
       "      <td>12631</td>\n",
       "      <td>{'id': 147845620, 'name': 'VK Музыка', 'screen...</td>\n",
       "      <td>147845620.0</td>\n",
       "      <td>VK Музыка</td>\n",
       "    </tr>\n",
       "    <tr>\n",
       "      <th>0</th>\n",
       "      <td>12631</td>\n",
       "      <td>{'id': 60394803, 'name': 'Traveler's blog', 's...</td>\n",
       "      <td>60394803.0</td>\n",
       "      <td>Traveler's blog</td>\n",
       "    </tr>\n",
       "    <tr>\n",
       "      <th>0</th>\n",
       "      <td>12631</td>\n",
       "      <td>{'id': 33340946, 'name': 'Совкомбанк', 'screen...</td>\n",
       "      <td>33340946.0</td>\n",
       "      <td>Совкомбанк</td>\n",
       "    </tr>\n",
       "    <tr>\n",
       "      <th>...</th>\n",
       "      <td>...</td>\n",
       "      <td>...</td>\n",
       "      <td>...</td>\n",
       "      <td>...</td>\n",
       "    </tr>\n",
       "    <tr>\n",
       "      <th>4668</th>\n",
       "      <td>685972406</td>\n",
       "      <td>{'id': 206215618, 'name': 'ЭкоПункт КИНЕЛЬ', '...</td>\n",
       "      <td>206215618.0</td>\n",
       "      <td>ЭкоПункт КИНЕЛЬ</td>\n",
       "    </tr>\n",
       "    <tr>\n",
       "      <th>4668</th>\n",
       "      <td>685972406</td>\n",
       "      <td>{'id': 67235268, 'name': 'Знакомства в Куванды...</td>\n",
       "      <td>67235268.0</td>\n",
       "      <td>Знакомства в Кувандыке</td>\n",
       "    </tr>\n",
       "    <tr>\n",
       "      <th>4668</th>\n",
       "      <td>685972406</td>\n",
       "      <td>{'id': 205324057, 'name': 'Вкусные и Полезные ...</td>\n",
       "      <td>205324057.0</td>\n",
       "      <td>Вкусные и Полезные Рецепты</td>\n",
       "    </tr>\n",
       "    <tr>\n",
       "      <th>4668</th>\n",
       "      <td>685972406</td>\n",
       "      <td>{'id': 198339739, 'name': 'ГКОУ СКШИ село Зиян...</td>\n",
       "      <td>198339739.0</td>\n",
       "      <td>ГКОУ СКШИ село Зиянчурино</td>\n",
       "    </tr>\n",
       "    <tr>\n",
       "      <th>4668</th>\n",
       "      <td>685972406</td>\n",
       "      <td>{'id': 155053957, 'name': 'Такси Орск-Оренбург...</td>\n",
       "      <td>155053957.0</td>\n",
       "      <td>Такси Орск-Оренбург</td>\n",
       "    </tr>\n",
       "  </tbody>\n",
       "</table>\n",
       "<p>1503506 rows × 4 columns</p>\n",
       "</div>"
      ],
      "text/plain": [
       "             id                                             groups  \\\n",
       "0         12631  {'id': 184706987, 'name': 'MARVEL', 'screen_na...   \n",
       "0         12631  {'id': 23688663, 'name': 'Android Blog | Игры ...   \n",
       "0         12631  {'id': 147845620, 'name': 'VK Музыка', 'screen...   \n",
       "0         12631  {'id': 60394803, 'name': 'Traveler's blog', 's...   \n",
       "0         12631  {'id': 33340946, 'name': 'Совкомбанк', 'screen...   \n",
       "...         ...                                                ...   \n",
       "4668  685972406  {'id': 206215618, 'name': 'ЭкоПункт КИНЕЛЬ', '...   \n",
       "4668  685972406  {'id': 67235268, 'name': 'Знакомства в Куванды...   \n",
       "4668  685972406  {'id': 205324057, 'name': 'Вкусные и Полезные ...   \n",
       "4668  685972406  {'id': 198339739, 'name': 'ГКОУ СКШИ село Зиян...   \n",
       "4668  685972406  {'id': 155053957, 'name': 'Такси Орск-Оренбург...   \n",
       "\n",
       "         group_id                            name  \n",
       "0     184706987.0                          MARVEL  \n",
       "0      23688663.0  Android Blog | Игры на Андроид  \n",
       "0     147845620.0                       VK Музыка  \n",
       "0      60394803.0                 Traveler's blog  \n",
       "0      33340946.0                      Совкомбанк  \n",
       "...           ...                             ...  \n",
       "4668  206215618.0                 ЭкоПункт КИНЕЛЬ  \n",
       "4668   67235268.0          Знакомства в Кувандыке  \n",
       "4668  205324057.0      Вкусные и Полезные Рецепты  \n",
       "4668  198339739.0       ГКОУ СКШИ село Зиянчурино  \n",
       "4668  155053957.0             Такси Орск-Оренбург  \n",
       "\n",
       "[1503506 rows x 4 columns]"
      ]
     },
     "execution_count": 171,
     "metadata": {},
     "output_type": "execute_result"
    }
   ],
   "source": [
    "df_groups"
   ]
  },
  {
   "cell_type": "markdown",
   "id": "00d9e9b0",
   "metadata": {},
   "source": [
    "## Определить пользователей, которые не состоят ни в одной общей между собой группе, кроме группы фанов Меладзе"
   ]
  },
  {
   "cell_type": "code",
   "execution_count": 222,
   "id": "bdce8d8b",
   "metadata": {
    "ExecuteTime": {
     "end_time": "2021-12-20T15:56:10.860624Z",
     "start_time": "2021-12-20T15:56:10.632057Z"
    }
   },
   "outputs": [],
   "source": [
    "df_groups_2 = df_groups.copy()"
   ]
  },
  {
   "cell_type": "code",
   "execution_count": 232,
   "id": "c26912e8",
   "metadata": {
    "ExecuteTime": {
     "end_time": "2021-12-20T16:00:09.620565Z",
     "start_time": "2021-12-20T16:00:09.465849Z"
    }
   },
   "outputs": [],
   "source": [
    "df_groups_2 = df_groups_2[df_groups_2['name'].notna()]"
   ]
  },
  {
   "cell_type": "code",
   "execution_count": 237,
   "id": "f3297876",
   "metadata": {
    "ExecuteTime": {
     "end_time": "2021-12-20T16:06:06.184481Z",
     "start_time": "2021-12-20T16:06:05.542933Z"
    }
   },
   "outputs": [],
   "source": [
    "df_groups_2 = df_groups_2[~df_groups_2['name'].str.contains('Меладзе')]"
   ]
  },
  {
   "cell_type": "code",
   "execution_count": 238,
   "id": "7a3d9198",
   "metadata": {
    "ExecuteTime": {
     "end_time": "2021-12-20T16:06:06.271252Z",
     "start_time": "2021-12-20T16:06:06.260432Z"
    }
   },
   "outputs": [
    {
     "data": {
      "text/html": [
       "<div>\n",
       "<style scoped>\n",
       "    .dataframe tbody tr th:only-of-type {\n",
       "        vertical-align: middle;\n",
       "    }\n",
       "\n",
       "    .dataframe tbody tr th {\n",
       "        vertical-align: top;\n",
       "    }\n",
       "\n",
       "    .dataframe thead th {\n",
       "        text-align: right;\n",
       "    }\n",
       "</style>\n",
       "<table border=\"1\" class=\"dataframe\">\n",
       "  <thead>\n",
       "    <tr style=\"text-align: right;\">\n",
       "      <th></th>\n",
       "      <th>id</th>\n",
       "      <th>groups</th>\n",
       "      <th>group_id</th>\n",
       "      <th>name</th>\n",
       "    </tr>\n",
       "  </thead>\n",
       "  <tbody>\n",
       "    <tr>\n",
       "      <th>0</th>\n",
       "      <td>12631</td>\n",
       "      <td>{'id': 184706987, 'name': 'MARVEL', 'screen_na...</td>\n",
       "      <td>184706987.0</td>\n",
       "      <td>MARVEL</td>\n",
       "    </tr>\n",
       "    <tr>\n",
       "      <th>0</th>\n",
       "      <td>12631</td>\n",
       "      <td>{'id': 23688663, 'name': 'Android Blog | Игры ...</td>\n",
       "      <td>23688663.0</td>\n",
       "      <td>Android Blog | Игры на Андроид</td>\n",
       "    </tr>\n",
       "    <tr>\n",
       "      <th>0</th>\n",
       "      <td>12631</td>\n",
       "      <td>{'id': 147845620, 'name': 'VK Музыка', 'screen...</td>\n",
       "      <td>147845620.0</td>\n",
       "      <td>VK Музыка</td>\n",
       "    </tr>\n",
       "    <tr>\n",
       "      <th>0</th>\n",
       "      <td>12631</td>\n",
       "      <td>{'id': 60394803, 'name': 'Traveler's blog', 's...</td>\n",
       "      <td>60394803.0</td>\n",
       "      <td>Traveler's blog</td>\n",
       "    </tr>\n",
       "    <tr>\n",
       "      <th>0</th>\n",
       "      <td>12631</td>\n",
       "      <td>{'id': 33340946, 'name': 'Совкомбанк', 'screen...</td>\n",
       "      <td>33340946.0</td>\n",
       "      <td>Совкомбанк</td>\n",
       "    </tr>\n",
       "    <tr>\n",
       "      <th>...</th>\n",
       "      <td>...</td>\n",
       "      <td>...</td>\n",
       "      <td>...</td>\n",
       "      <td>...</td>\n",
       "    </tr>\n",
       "    <tr>\n",
       "      <th>4668</th>\n",
       "      <td>685972406</td>\n",
       "      <td>{'id': 206215618, 'name': 'ЭкоПункт КИНЕЛЬ', '...</td>\n",
       "      <td>206215618.0</td>\n",
       "      <td>ЭкоПункт КИНЕЛЬ</td>\n",
       "    </tr>\n",
       "    <tr>\n",
       "      <th>4668</th>\n",
       "      <td>685972406</td>\n",
       "      <td>{'id': 67235268, 'name': 'Знакомства в Куванды...</td>\n",
       "      <td>67235268.0</td>\n",
       "      <td>Знакомства в Кувандыке</td>\n",
       "    </tr>\n",
       "    <tr>\n",
       "      <th>4668</th>\n",
       "      <td>685972406</td>\n",
       "      <td>{'id': 205324057, 'name': 'Вкусные и Полезные ...</td>\n",
       "      <td>205324057.0</td>\n",
       "      <td>Вкусные и Полезные Рецепты</td>\n",
       "    </tr>\n",
       "    <tr>\n",
       "      <th>4668</th>\n",
       "      <td>685972406</td>\n",
       "      <td>{'id': 198339739, 'name': 'ГКОУ СКШИ село Зиян...</td>\n",
       "      <td>198339739.0</td>\n",
       "      <td>ГКОУ СКШИ село Зиянчурино</td>\n",
       "    </tr>\n",
       "    <tr>\n",
       "      <th>4668</th>\n",
       "      <td>685972406</td>\n",
       "      <td>{'id': 155053957, 'name': 'Такси Орск-Оренбург...</td>\n",
       "      <td>155053957.0</td>\n",
       "      <td>Такси Орск-Оренбург</td>\n",
       "    </tr>\n",
       "  </tbody>\n",
       "</table>\n",
       "<p>1499985 rows × 4 columns</p>\n",
       "</div>"
      ],
      "text/plain": [
       "             id                                             groups  \\\n",
       "0         12631  {'id': 184706987, 'name': 'MARVEL', 'screen_na...   \n",
       "0         12631  {'id': 23688663, 'name': 'Android Blog | Игры ...   \n",
       "0         12631  {'id': 147845620, 'name': 'VK Музыка', 'screen...   \n",
       "0         12631  {'id': 60394803, 'name': 'Traveler's blog', 's...   \n",
       "0         12631  {'id': 33340946, 'name': 'Совкомбанк', 'screen...   \n",
       "...         ...                                                ...   \n",
       "4668  685972406  {'id': 206215618, 'name': 'ЭкоПункт КИНЕЛЬ', '...   \n",
       "4668  685972406  {'id': 67235268, 'name': 'Знакомства в Куванды...   \n",
       "4668  685972406  {'id': 205324057, 'name': 'Вкусные и Полезные ...   \n",
       "4668  685972406  {'id': 198339739, 'name': 'ГКОУ СКШИ село Зиян...   \n",
       "4668  685972406  {'id': 155053957, 'name': 'Такси Орск-Оренбург...   \n",
       "\n",
       "         group_id                            name  \n",
       "0     184706987.0                          MARVEL  \n",
       "0      23688663.0  Android Blog | Игры на Андроид  \n",
       "0     147845620.0                       VK Музыка  \n",
       "0      60394803.0                 Traveler's blog  \n",
       "0      33340946.0                      Совкомбанк  \n",
       "...           ...                             ...  \n",
       "4668  206215618.0                 ЭкоПункт КИНЕЛЬ  \n",
       "4668   67235268.0          Знакомства в Кувандыке  \n",
       "4668  205324057.0      Вкусные и Полезные Рецепты  \n",
       "4668  198339739.0       ГКОУ СКШИ село Зиянчурино  \n",
       "4668  155053957.0             Такси Орск-Оренбург  \n",
       "\n",
       "[1499985 rows x 4 columns]"
      ]
     },
     "execution_count": 238,
     "metadata": {},
     "output_type": "execute_result"
    }
   ],
   "source": [
    "df_groups_2"
   ]
  },
  {
   "cell_type": "markdown",
   "id": "4103ba95",
   "metadata": {},
   "source": [
    "Логика того, как будем находить таких пользователей:\n",
    "1. Создадим столбец, в котором будет количество встречаний каждой группы\n",
    "2. Столбец с количеством групп пользователя\n",
    "3. Если сумма столбца из п.1 равно сумме по столбцу из п.2, то такого пользователя мы считаем подходящим"
   ]
  },
  {
   "cell_type": "code",
   "execution_count": 248,
   "id": "40eb0dd4",
   "metadata": {
    "ExecuteTime": {
     "end_time": "2021-12-20T16:16:11.149761Z",
     "start_time": "2021-12-20T16:16:09.523428Z"
    }
   },
   "outputs": [],
   "source": [
    "df_groups_2 = pd.merge(df_groups_2,\n",
    "                      pd.DataFrame(dict(df_groups_2['group_id'].value_counts()).items(),\n",
    "                                   columns=['group_id', 'amount']),\n",
    "                      on='group_id',\n",
    "                      how='left')"
   ]
  },
  {
   "cell_type": "code",
   "execution_count": 249,
   "id": "0f832b1d",
   "metadata": {
    "ExecuteTime": {
     "end_time": "2021-12-20T16:16:12.725210Z",
     "start_time": "2021-12-20T16:16:12.702823Z"
    }
   },
   "outputs": [
    {
     "data": {
      "text/html": [
       "<div>\n",
       "<style scoped>\n",
       "    .dataframe tbody tr th:only-of-type {\n",
       "        vertical-align: middle;\n",
       "    }\n",
       "\n",
       "    .dataframe tbody tr th {\n",
       "        vertical-align: top;\n",
       "    }\n",
       "\n",
       "    .dataframe thead th {\n",
       "        text-align: right;\n",
       "    }\n",
       "</style>\n",
       "<table border=\"1\" class=\"dataframe\">\n",
       "  <thead>\n",
       "    <tr style=\"text-align: right;\">\n",
       "      <th></th>\n",
       "      <th>id</th>\n",
       "      <th>groups</th>\n",
       "      <th>group_id</th>\n",
       "      <th>name</th>\n",
       "      <th>amount</th>\n",
       "    </tr>\n",
       "  </thead>\n",
       "  <tbody>\n",
       "    <tr>\n",
       "      <th>0</th>\n",
       "      <td>12631</td>\n",
       "      <td>{'id': 184706987, 'name': 'MARVEL', 'screen_na...</td>\n",
       "      <td>184706987.0</td>\n",
       "      <td>MARVEL</td>\n",
       "      <td>35</td>\n",
       "    </tr>\n",
       "    <tr>\n",
       "      <th>1</th>\n",
       "      <td>12631</td>\n",
       "      <td>{'id': 23688663, 'name': 'Android Blog | Игры ...</td>\n",
       "      <td>23688663.0</td>\n",
       "      <td>Android Blog | Игры на Андроид</td>\n",
       "      <td>120</td>\n",
       "    </tr>\n",
       "    <tr>\n",
       "      <th>2</th>\n",
       "      <td>12631</td>\n",
       "      <td>{'id': 147845620, 'name': 'VK Музыка', 'screen...</td>\n",
       "      <td>147845620.0</td>\n",
       "      <td>VK Музыка</td>\n",
       "      <td>680</td>\n",
       "    </tr>\n",
       "    <tr>\n",
       "      <th>3</th>\n",
       "      <td>12631</td>\n",
       "      <td>{'id': 60394803, 'name': 'Traveler's blog', 's...</td>\n",
       "      <td>60394803.0</td>\n",
       "      <td>Traveler's blog</td>\n",
       "      <td>140</td>\n",
       "    </tr>\n",
       "    <tr>\n",
       "      <th>4</th>\n",
       "      <td>12631</td>\n",
       "      <td>{'id': 33340946, 'name': 'Совкомбанк', 'screen...</td>\n",
       "      <td>33340946.0</td>\n",
       "      <td>Совкомбанк</td>\n",
       "      <td>33</td>\n",
       "    </tr>\n",
       "    <tr>\n",
       "      <th>...</th>\n",
       "      <td>...</td>\n",
       "      <td>...</td>\n",
       "      <td>...</td>\n",
       "      <td>...</td>\n",
       "      <td>...</td>\n",
       "    </tr>\n",
       "    <tr>\n",
       "      <th>1499980</th>\n",
       "      <td>685972406</td>\n",
       "      <td>{'id': 206215618, 'name': 'ЭкоПункт КИНЕЛЬ', '...</td>\n",
       "      <td>206215618.0</td>\n",
       "      <td>ЭкоПункт КИНЕЛЬ</td>\n",
       "      <td>1</td>\n",
       "    </tr>\n",
       "    <tr>\n",
       "      <th>1499981</th>\n",
       "      <td>685972406</td>\n",
       "      <td>{'id': 67235268, 'name': 'Знакомства в Куванды...</td>\n",
       "      <td>67235268.0</td>\n",
       "      <td>Знакомства в Кувандыке</td>\n",
       "      <td>1</td>\n",
       "    </tr>\n",
       "    <tr>\n",
       "      <th>1499982</th>\n",
       "      <td>685972406</td>\n",
       "      <td>{'id': 205324057, 'name': 'Вкусные и Полезные ...</td>\n",
       "      <td>205324057.0</td>\n",
       "      <td>Вкусные и Полезные Рецепты</td>\n",
       "      <td>1</td>\n",
       "    </tr>\n",
       "    <tr>\n",
       "      <th>1499983</th>\n",
       "      <td>685972406</td>\n",
       "      <td>{'id': 198339739, 'name': 'ГКОУ СКШИ село Зиян...</td>\n",
       "      <td>198339739.0</td>\n",
       "      <td>ГКОУ СКШИ село Зиянчурино</td>\n",
       "      <td>1</td>\n",
       "    </tr>\n",
       "    <tr>\n",
       "      <th>1499984</th>\n",
       "      <td>685972406</td>\n",
       "      <td>{'id': 155053957, 'name': 'Такси Орск-Оренбург...</td>\n",
       "      <td>155053957.0</td>\n",
       "      <td>Такси Орск-Оренбург</td>\n",
       "      <td>1</td>\n",
       "    </tr>\n",
       "  </tbody>\n",
       "</table>\n",
       "<p>1499985 rows × 5 columns</p>\n",
       "</div>"
      ],
      "text/plain": [
       "                id                                             groups  \\\n",
       "0            12631  {'id': 184706987, 'name': 'MARVEL', 'screen_na...   \n",
       "1            12631  {'id': 23688663, 'name': 'Android Blog | Игры ...   \n",
       "2            12631  {'id': 147845620, 'name': 'VK Музыка', 'screen...   \n",
       "3            12631  {'id': 60394803, 'name': 'Traveler's blog', 's...   \n",
       "4            12631  {'id': 33340946, 'name': 'Совкомбанк', 'screen...   \n",
       "...            ...                                                ...   \n",
       "1499980  685972406  {'id': 206215618, 'name': 'ЭкоПункт КИНЕЛЬ', '...   \n",
       "1499981  685972406  {'id': 67235268, 'name': 'Знакомства в Куванды...   \n",
       "1499982  685972406  {'id': 205324057, 'name': 'Вкусные и Полезные ...   \n",
       "1499983  685972406  {'id': 198339739, 'name': 'ГКОУ СКШИ село Зиян...   \n",
       "1499984  685972406  {'id': 155053957, 'name': 'Такси Орск-Оренбург...   \n",
       "\n",
       "            group_id                            name  amount  \n",
       "0        184706987.0                          MARVEL      35  \n",
       "1         23688663.0  Android Blog | Игры на Андроид     120  \n",
       "2        147845620.0                       VK Музыка     680  \n",
       "3         60394803.0                 Traveler's blog     140  \n",
       "4         33340946.0                      Совкомбанк      33  \n",
       "...              ...                             ...     ...  \n",
       "1499980  206215618.0                 ЭкоПункт КИНЕЛЬ       1  \n",
       "1499981   67235268.0          Знакомства в Кувандыке       1  \n",
       "1499982  205324057.0      Вкусные и Полезные Рецепты       1  \n",
       "1499983  198339739.0       ГКОУ СКШИ село Зиянчурино       1  \n",
       "1499984  155053957.0             Такси Орск-Оренбург       1  \n",
       "\n",
       "[1499985 rows x 5 columns]"
      ]
     },
     "execution_count": 249,
     "metadata": {},
     "output_type": "execute_result"
    }
   ],
   "source": [
    "df_groups_2"
   ]
  },
  {
   "cell_type": "code",
   "execution_count": 254,
   "id": "3a67fbc2",
   "metadata": {
    "ExecuteTime": {
     "end_time": "2021-12-20T16:19:45.368862Z",
     "start_time": "2021-12-20T16:19:45.142170Z"
    }
   },
   "outputs": [
    {
     "data": {
      "text/html": [
       "<div>\n",
       "<style scoped>\n",
       "    .dataframe tbody tr th:only-of-type {\n",
       "        vertical-align: middle;\n",
       "    }\n",
       "\n",
       "    .dataframe tbody tr th {\n",
       "        vertical-align: top;\n",
       "    }\n",
       "\n",
       "    .dataframe thead th {\n",
       "        text-align: right;\n",
       "    }\n",
       "</style>\n",
       "<table border=\"1\" class=\"dataframe\">\n",
       "  <thead>\n",
       "    <tr style=\"text-align: right;\">\n",
       "      <th></th>\n",
       "      <th>id</th>\n",
       "      <th>has_groups</th>\n",
       "    </tr>\n",
       "  </thead>\n",
       "  <tbody>\n",
       "    <tr>\n",
       "      <th>2228</th>\n",
       "      <td>275315889</td>\n",
       "      <td>999</td>\n",
       "    </tr>\n",
       "    <tr>\n",
       "      <th>498</th>\n",
       "      <td>36943349</td>\n",
       "      <td>972</td>\n",
       "    </tr>\n",
       "    <tr>\n",
       "      <th>904</th>\n",
       "      <td>104016859</td>\n",
       "      <td>67</td>\n",
       "    </tr>\n",
       "  </tbody>\n",
       "</table>\n",
       "</div>"
      ],
      "text/plain": [
       "             id  has_groups\n",
       "2228  275315889         999\n",
       "498    36943349         972\n",
       "904   104016859          67"
      ]
     },
     "execution_count": 254,
     "metadata": {},
     "output_type": "execute_result"
    }
   ],
   "source": [
    "id_amount_groups = df_groups_2.groupby('id').agg({'group_id' : 'nunique'}).reset_index()\n",
    "id_amount_groups.columns = ['id', 'has_groups']\n",
    "id_amount_groups.sample(3)"
   ]
  },
  {
   "cell_type": "code",
   "execution_count": 255,
   "id": "480303f7",
   "metadata": {
    "ExecuteTime": {
     "end_time": "2021-12-20T16:20:40.528272Z",
     "start_time": "2021-12-20T16:20:40.330946Z"
    }
   },
   "outputs": [],
   "source": [
    "df_groups_2 = pd.merge(df_groups_2,\n",
    "                       id_amount_groups,\n",
    "                       on='id',\n",
    "                       how='left')"
   ]
  },
  {
   "cell_type": "code",
   "execution_count": 256,
   "id": "6da1014a",
   "metadata": {
    "ExecuteTime": {
     "end_time": "2021-12-20T16:20:42.854041Z",
     "start_time": "2021-12-20T16:20:42.831044Z"
    }
   },
   "outputs": [
    {
     "data": {
      "text/html": [
       "<div>\n",
       "<style scoped>\n",
       "    .dataframe tbody tr th:only-of-type {\n",
       "        vertical-align: middle;\n",
       "    }\n",
       "\n",
       "    .dataframe tbody tr th {\n",
       "        vertical-align: top;\n",
       "    }\n",
       "\n",
       "    .dataframe thead th {\n",
       "        text-align: right;\n",
       "    }\n",
       "</style>\n",
       "<table border=\"1\" class=\"dataframe\">\n",
       "  <thead>\n",
       "    <tr style=\"text-align: right;\">\n",
       "      <th></th>\n",
       "      <th>id</th>\n",
       "      <th>groups</th>\n",
       "      <th>group_id</th>\n",
       "      <th>name</th>\n",
       "      <th>amount</th>\n",
       "      <th>has_groups</th>\n",
       "    </tr>\n",
       "  </thead>\n",
       "  <tbody>\n",
       "    <tr>\n",
       "      <th>0</th>\n",
       "      <td>12631</td>\n",
       "      <td>{'id': 184706987, 'name': 'MARVEL', 'screen_na...</td>\n",
       "      <td>184706987.0</td>\n",
       "      <td>MARVEL</td>\n",
       "      <td>35</td>\n",
       "      <td>1000</td>\n",
       "    </tr>\n",
       "    <tr>\n",
       "      <th>1</th>\n",
       "      <td>12631</td>\n",
       "      <td>{'id': 23688663, 'name': 'Android Blog | Игры ...</td>\n",
       "      <td>23688663.0</td>\n",
       "      <td>Android Blog | Игры на Андроид</td>\n",
       "      <td>120</td>\n",
       "      <td>1000</td>\n",
       "    </tr>\n",
       "    <tr>\n",
       "      <th>2</th>\n",
       "      <td>12631</td>\n",
       "      <td>{'id': 147845620, 'name': 'VK Музыка', 'screen...</td>\n",
       "      <td>147845620.0</td>\n",
       "      <td>VK Музыка</td>\n",
       "      <td>680</td>\n",
       "      <td>1000</td>\n",
       "    </tr>\n",
       "    <tr>\n",
       "      <th>3</th>\n",
       "      <td>12631</td>\n",
       "      <td>{'id': 60394803, 'name': 'Traveler's blog', 's...</td>\n",
       "      <td>60394803.0</td>\n",
       "      <td>Traveler's blog</td>\n",
       "      <td>140</td>\n",
       "      <td>1000</td>\n",
       "    </tr>\n",
       "    <tr>\n",
       "      <th>4</th>\n",
       "      <td>12631</td>\n",
       "      <td>{'id': 33340946, 'name': 'Совкомбанк', 'screen...</td>\n",
       "      <td>33340946.0</td>\n",
       "      <td>Совкомбанк</td>\n",
       "      <td>33</td>\n",
       "      <td>1000</td>\n",
       "    </tr>\n",
       "    <tr>\n",
       "      <th>...</th>\n",
       "      <td>...</td>\n",
       "      <td>...</td>\n",
       "      <td>...</td>\n",
       "      <td>...</td>\n",
       "      <td>...</td>\n",
       "      <td>...</td>\n",
       "    </tr>\n",
       "    <tr>\n",
       "      <th>1499980</th>\n",
       "      <td>685972406</td>\n",
       "      <td>{'id': 206215618, 'name': 'ЭкоПункт КИНЕЛЬ', '...</td>\n",
       "      <td>206215618.0</td>\n",
       "      <td>ЭкоПункт КИНЕЛЬ</td>\n",
       "      <td>1</td>\n",
       "      <td>78</td>\n",
       "    </tr>\n",
       "    <tr>\n",
       "      <th>1499981</th>\n",
       "      <td>685972406</td>\n",
       "      <td>{'id': 67235268, 'name': 'Знакомства в Куванды...</td>\n",
       "      <td>67235268.0</td>\n",
       "      <td>Знакомства в Кувандыке</td>\n",
       "      <td>1</td>\n",
       "      <td>78</td>\n",
       "    </tr>\n",
       "    <tr>\n",
       "      <th>1499982</th>\n",
       "      <td>685972406</td>\n",
       "      <td>{'id': 205324057, 'name': 'Вкусные и Полезные ...</td>\n",
       "      <td>205324057.0</td>\n",
       "      <td>Вкусные и Полезные Рецепты</td>\n",
       "      <td>1</td>\n",
       "      <td>78</td>\n",
       "    </tr>\n",
       "    <tr>\n",
       "      <th>1499983</th>\n",
       "      <td>685972406</td>\n",
       "      <td>{'id': 198339739, 'name': 'ГКОУ СКШИ село Зиян...</td>\n",
       "      <td>198339739.0</td>\n",
       "      <td>ГКОУ СКШИ село Зиянчурино</td>\n",
       "      <td>1</td>\n",
       "      <td>78</td>\n",
       "    </tr>\n",
       "    <tr>\n",
       "      <th>1499984</th>\n",
       "      <td>685972406</td>\n",
       "      <td>{'id': 155053957, 'name': 'Такси Орск-Оренбург...</td>\n",
       "      <td>155053957.0</td>\n",
       "      <td>Такси Орск-Оренбург</td>\n",
       "      <td>1</td>\n",
       "      <td>78</td>\n",
       "    </tr>\n",
       "  </tbody>\n",
       "</table>\n",
       "<p>1499985 rows × 6 columns</p>\n",
       "</div>"
      ],
      "text/plain": [
       "                id                                             groups  \\\n",
       "0            12631  {'id': 184706987, 'name': 'MARVEL', 'screen_na...   \n",
       "1            12631  {'id': 23688663, 'name': 'Android Blog | Игры ...   \n",
       "2            12631  {'id': 147845620, 'name': 'VK Музыка', 'screen...   \n",
       "3            12631  {'id': 60394803, 'name': 'Traveler's blog', 's...   \n",
       "4            12631  {'id': 33340946, 'name': 'Совкомбанк', 'screen...   \n",
       "...            ...                                                ...   \n",
       "1499980  685972406  {'id': 206215618, 'name': 'ЭкоПункт КИНЕЛЬ', '...   \n",
       "1499981  685972406  {'id': 67235268, 'name': 'Знакомства в Куванды...   \n",
       "1499982  685972406  {'id': 205324057, 'name': 'Вкусные и Полезные ...   \n",
       "1499983  685972406  {'id': 198339739, 'name': 'ГКОУ СКШИ село Зиян...   \n",
       "1499984  685972406  {'id': 155053957, 'name': 'Такси Орск-Оренбург...   \n",
       "\n",
       "            group_id                            name  amount  has_groups  \n",
       "0        184706987.0                          MARVEL      35        1000  \n",
       "1         23688663.0  Android Blog | Игры на Андроид     120        1000  \n",
       "2        147845620.0                       VK Музыка     680        1000  \n",
       "3         60394803.0                 Traveler's blog     140        1000  \n",
       "4         33340946.0                      Совкомбанк      33        1000  \n",
       "...              ...                             ...     ...         ...  \n",
       "1499980  206215618.0                 ЭкоПункт КИНЕЛЬ       1          78  \n",
       "1499981   67235268.0          Знакомства в Кувандыке       1          78  \n",
       "1499982  205324057.0      Вкусные и Полезные Рецепты       1          78  \n",
       "1499983  198339739.0       ГКОУ СКШИ село Зиянчурино       1          78  \n",
       "1499984  155053957.0             Такси Орск-Оренбург       1          78  \n",
       "\n",
       "[1499985 rows x 6 columns]"
      ]
     },
     "execution_count": 256,
     "metadata": {},
     "output_type": "execute_result"
    }
   ],
   "source": [
    "df_groups_2"
   ]
  },
  {
   "cell_type": "code",
   "execution_count": 261,
   "id": "1d9caa73",
   "metadata": {
    "ExecuteTime": {
     "end_time": "2021-12-20T16:28:55.406847Z",
     "start_time": "2021-12-20T16:28:55.364099Z"
    }
   },
   "outputs": [
    {
     "data": {
      "text/html": [
       "<div>\n",
       "<style scoped>\n",
       "    .dataframe tbody tr th:only-of-type {\n",
       "        vertical-align: middle;\n",
       "    }\n",
       "\n",
       "    .dataframe tbody tr th {\n",
       "        vertical-align: top;\n",
       "    }\n",
       "\n",
       "    .dataframe thead th {\n",
       "        text-align: right;\n",
       "    }\n",
       "</style>\n",
       "<table border=\"1\" class=\"dataframe\">\n",
       "  <thead>\n",
       "    <tr style=\"text-align: right;\">\n",
       "      <th></th>\n",
       "      <th>id</th>\n",
       "      <th>sum_connections</th>\n",
       "    </tr>\n",
       "  </thead>\n",
       "  <tbody>\n",
       "    <tr>\n",
       "      <th>1456</th>\n",
       "      <td>178907747</td>\n",
       "      <td>32794</td>\n",
       "    </tr>\n",
       "    <tr>\n",
       "      <th>3901</th>\n",
       "      <td>575165589</td>\n",
       "      <td>18262</td>\n",
       "    </tr>\n",
       "    <tr>\n",
       "      <th>1186</th>\n",
       "      <td>150750032</td>\n",
       "      <td>49031</td>\n",
       "    </tr>\n",
       "  </tbody>\n",
       "</table>\n",
       "</div>"
      ],
      "text/plain": [
       "             id  sum_connections\n",
       "1456  178907747            32794\n",
       "3901  575165589            18262\n",
       "1186  150750032            49031"
      ]
     },
     "execution_count": 261,
     "metadata": {},
     "output_type": "execute_result"
    }
   ],
   "source": [
    "id_sum_connections = df_groups_2.groupby('id').agg({'amount' : 'sum'}).reset_index()\n",
    "id_sum_connections.columns = ['id', 'sum_connections']\n",
    "id_sum_connections.sample(3)"
   ]
  },
  {
   "cell_type": "code",
   "execution_count": 262,
   "id": "0374b07f",
   "metadata": {
    "ExecuteTime": {
     "end_time": "2021-12-20T16:29:16.791981Z",
     "start_time": "2021-12-20T16:29:16.582341Z"
    }
   },
   "outputs": [],
   "source": [
    "df_groups_2 = pd.merge(df_groups_2,\n",
    "                       id_sum_connections,\n",
    "                       on='id',\n",
    "                       how='left')"
   ]
  },
  {
   "cell_type": "code",
   "execution_count": 263,
   "id": "038310ff",
   "metadata": {
    "ExecuteTime": {
     "end_time": "2021-12-20T16:29:16.974392Z",
     "start_time": "2021-12-20T16:29:16.962542Z"
    }
   },
   "outputs": [
    {
     "data": {
      "text/html": [
       "<div>\n",
       "<style scoped>\n",
       "    .dataframe tbody tr th:only-of-type {\n",
       "        vertical-align: middle;\n",
       "    }\n",
       "\n",
       "    .dataframe tbody tr th {\n",
       "        vertical-align: top;\n",
       "    }\n",
       "\n",
       "    .dataframe thead th {\n",
       "        text-align: right;\n",
       "    }\n",
       "</style>\n",
       "<table border=\"1\" class=\"dataframe\">\n",
       "  <thead>\n",
       "    <tr style=\"text-align: right;\">\n",
       "      <th></th>\n",
       "      <th>id</th>\n",
       "      <th>groups</th>\n",
       "      <th>group_id</th>\n",
       "      <th>name</th>\n",
       "      <th>amount</th>\n",
       "      <th>has_groups</th>\n",
       "      <th>sum_connections</th>\n",
       "    </tr>\n",
       "  </thead>\n",
       "  <tbody>\n",
       "    <tr>\n",
       "      <th>0</th>\n",
       "      <td>12631</td>\n",
       "      <td>{'id': 184706987, 'name': 'MARVEL', 'screen_na...</td>\n",
       "      <td>184706987.0</td>\n",
       "      <td>MARVEL</td>\n",
       "      <td>35</td>\n",
       "      <td>1000</td>\n",
       "      <td>54093</td>\n",
       "    </tr>\n",
       "    <tr>\n",
       "      <th>1</th>\n",
       "      <td>12631</td>\n",
       "      <td>{'id': 23688663, 'name': 'Android Blog | Игры ...</td>\n",
       "      <td>23688663.0</td>\n",
       "      <td>Android Blog | Игры на Андроид</td>\n",
       "      <td>120</td>\n",
       "      <td>1000</td>\n",
       "      <td>54093</td>\n",
       "    </tr>\n",
       "    <tr>\n",
       "      <th>2</th>\n",
       "      <td>12631</td>\n",
       "      <td>{'id': 147845620, 'name': 'VK Музыка', 'screen...</td>\n",
       "      <td>147845620.0</td>\n",
       "      <td>VK Музыка</td>\n",
       "      <td>680</td>\n",
       "      <td>1000</td>\n",
       "      <td>54093</td>\n",
       "    </tr>\n",
       "    <tr>\n",
       "      <th>3</th>\n",
       "      <td>12631</td>\n",
       "      <td>{'id': 60394803, 'name': 'Traveler's blog', 's...</td>\n",
       "      <td>60394803.0</td>\n",
       "      <td>Traveler's blog</td>\n",
       "      <td>140</td>\n",
       "      <td>1000</td>\n",
       "      <td>54093</td>\n",
       "    </tr>\n",
       "    <tr>\n",
       "      <th>4</th>\n",
       "      <td>12631</td>\n",
       "      <td>{'id': 33340946, 'name': 'Совкомбанк', 'screen...</td>\n",
       "      <td>33340946.0</td>\n",
       "      <td>Совкомбанк</td>\n",
       "      <td>33</td>\n",
       "      <td>1000</td>\n",
       "      <td>54093</td>\n",
       "    </tr>\n",
       "    <tr>\n",
       "      <th>...</th>\n",
       "      <td>...</td>\n",
       "      <td>...</td>\n",
       "      <td>...</td>\n",
       "      <td>...</td>\n",
       "      <td>...</td>\n",
       "      <td>...</td>\n",
       "      <td>...</td>\n",
       "    </tr>\n",
       "    <tr>\n",
       "      <th>1499980</th>\n",
       "      <td>685972406</td>\n",
       "      <td>{'id': 206215618, 'name': 'ЭкоПункт КИНЕЛЬ', '...</td>\n",
       "      <td>206215618.0</td>\n",
       "      <td>ЭкоПункт КИНЕЛЬ</td>\n",
       "      <td>1</td>\n",
       "      <td>78</td>\n",
       "      <td>5377</td>\n",
       "    </tr>\n",
       "    <tr>\n",
       "      <th>1499981</th>\n",
       "      <td>685972406</td>\n",
       "      <td>{'id': 67235268, 'name': 'Знакомства в Куванды...</td>\n",
       "      <td>67235268.0</td>\n",
       "      <td>Знакомства в Кувандыке</td>\n",
       "      <td>1</td>\n",
       "      <td>78</td>\n",
       "      <td>5377</td>\n",
       "    </tr>\n",
       "    <tr>\n",
       "      <th>1499982</th>\n",
       "      <td>685972406</td>\n",
       "      <td>{'id': 205324057, 'name': 'Вкусные и Полезные ...</td>\n",
       "      <td>205324057.0</td>\n",
       "      <td>Вкусные и Полезные Рецепты</td>\n",
       "      <td>1</td>\n",
       "      <td>78</td>\n",
       "      <td>5377</td>\n",
       "    </tr>\n",
       "    <tr>\n",
       "      <th>1499983</th>\n",
       "      <td>685972406</td>\n",
       "      <td>{'id': 198339739, 'name': 'ГКОУ СКШИ село Зиян...</td>\n",
       "      <td>198339739.0</td>\n",
       "      <td>ГКОУ СКШИ село Зиянчурино</td>\n",
       "      <td>1</td>\n",
       "      <td>78</td>\n",
       "      <td>5377</td>\n",
       "    </tr>\n",
       "    <tr>\n",
       "      <th>1499984</th>\n",
       "      <td>685972406</td>\n",
       "      <td>{'id': 155053957, 'name': 'Такси Орск-Оренбург...</td>\n",
       "      <td>155053957.0</td>\n",
       "      <td>Такси Орск-Оренбург</td>\n",
       "      <td>1</td>\n",
       "      <td>78</td>\n",
       "      <td>5377</td>\n",
       "    </tr>\n",
       "  </tbody>\n",
       "</table>\n",
       "<p>1499985 rows × 7 columns</p>\n",
       "</div>"
      ],
      "text/plain": [
       "                id                                             groups  \\\n",
       "0            12631  {'id': 184706987, 'name': 'MARVEL', 'screen_na...   \n",
       "1            12631  {'id': 23688663, 'name': 'Android Blog | Игры ...   \n",
       "2            12631  {'id': 147845620, 'name': 'VK Музыка', 'screen...   \n",
       "3            12631  {'id': 60394803, 'name': 'Traveler's blog', 's...   \n",
       "4            12631  {'id': 33340946, 'name': 'Совкомбанк', 'screen...   \n",
       "...            ...                                                ...   \n",
       "1499980  685972406  {'id': 206215618, 'name': 'ЭкоПункт КИНЕЛЬ', '...   \n",
       "1499981  685972406  {'id': 67235268, 'name': 'Знакомства в Куванды...   \n",
       "1499982  685972406  {'id': 205324057, 'name': 'Вкусные и Полезные ...   \n",
       "1499983  685972406  {'id': 198339739, 'name': 'ГКОУ СКШИ село Зиян...   \n",
       "1499984  685972406  {'id': 155053957, 'name': 'Такси Орск-Оренбург...   \n",
       "\n",
       "            group_id                            name  amount  has_groups  \\\n",
       "0        184706987.0                          MARVEL      35        1000   \n",
       "1         23688663.0  Android Blog | Игры на Андроид     120        1000   \n",
       "2        147845620.0                       VK Музыка     680        1000   \n",
       "3         60394803.0                 Traveler's blog     140        1000   \n",
       "4         33340946.0                      Совкомбанк      33        1000   \n",
       "...              ...                             ...     ...         ...   \n",
       "1499980  206215618.0                 ЭкоПункт КИНЕЛЬ       1          78   \n",
       "1499981   67235268.0          Знакомства в Кувандыке       1          78   \n",
       "1499982  205324057.0      Вкусные и Полезные Рецепты       1          78   \n",
       "1499983  198339739.0       ГКОУ СКШИ село Зиянчурино       1          78   \n",
       "1499984  155053957.0             Такси Орск-Оренбург       1          78   \n",
       "\n",
       "         sum_connections  \n",
       "0                  54093  \n",
       "1                  54093  \n",
       "2                  54093  \n",
       "3                  54093  \n",
       "4                  54093  \n",
       "...                  ...  \n",
       "1499980             5377  \n",
       "1499981             5377  \n",
       "1499982             5377  \n",
       "1499983             5377  \n",
       "1499984             5377  \n",
       "\n",
       "[1499985 rows x 7 columns]"
      ]
     },
     "execution_count": 263,
     "metadata": {},
     "output_type": "execute_result"
    }
   ],
   "source": [
    "df_groups_2"
   ]
  },
  {
   "cell_type": "code",
   "execution_count": 264,
   "id": "bd7acae4",
   "metadata": {
    "ExecuteTime": {
     "end_time": "2021-12-20T16:29:40.286931Z",
     "start_time": "2021-12-20T16:29:40.155920Z"
    },
    "scrolled": false
   },
   "outputs": [
    {
     "data": {
      "text/html": [
       "<div>\n",
       "<style scoped>\n",
       "    .dataframe tbody tr th:only-of-type {\n",
       "        vertical-align: middle;\n",
       "    }\n",
       "\n",
       "    .dataframe tbody tr th {\n",
       "        vertical-align: top;\n",
       "    }\n",
       "\n",
       "    .dataframe thead th {\n",
       "        text-align: right;\n",
       "    }\n",
       "</style>\n",
       "<table border=\"1\" class=\"dataframe\">\n",
       "  <thead>\n",
       "    <tr style=\"text-align: right;\">\n",
       "      <th></th>\n",
       "      <th>id</th>\n",
       "      <th>groups</th>\n",
       "      <th>group_id</th>\n",
       "      <th>name</th>\n",
       "      <th>amount</th>\n",
       "      <th>has_groups</th>\n",
       "      <th>sum_connections</th>\n",
       "    </tr>\n",
       "  </thead>\n",
       "  <tbody>\n",
       "    <tr>\n",
       "      <th>26336</th>\n",
       "      <td>8675675</td>\n",
       "      <td>{'id': 54090565, 'name': 'Gepur DISCOUNT', 'sc...</td>\n",
       "      <td>54090565.0</td>\n",
       "      <td>Gepur DISCOUNT</td>\n",
       "      <td>1</td>\n",
       "      <td>7</td>\n",
       "      <td>7</td>\n",
       "    </tr>\n",
       "    <tr>\n",
       "      <th>26337</th>\n",
       "      <td>8675675</td>\n",
       "      <td>{'id': 20906435, 'name': 'Новинка: Стань уника...</td>\n",
       "      <td>20906435.0</td>\n",
       "      <td>Новинка: Стань уникальным среди своих друзей!</td>\n",
       "      <td>1</td>\n",
       "      <td>7</td>\n",
       "      <td>7</td>\n",
       "    </tr>\n",
       "    <tr>\n",
       "      <th>26338</th>\n",
       "      <td>8675675</td>\n",
       "      <td>{'id': 566453, 'name': '۞۞۞۞۞  рожденные 5 дек...</td>\n",
       "      <td>566453.0</td>\n",
       "      <td>۞۞۞۞۞  рожденные 5 декабря  ۞۞۞۞۞</td>\n",
       "      <td>1</td>\n",
       "      <td>7</td>\n",
       "      <td>7</td>\n",
       "    </tr>\n",
       "    <tr>\n",
       "      <th>26339</th>\n",
       "      <td>8675675</td>\n",
       "      <td>{'id': 12705388, 'name': 'Рождённые 5 декабря'...</td>\n",
       "      <td>12705388.0</td>\n",
       "      <td>Рождённые 5 декабря</td>\n",
       "      <td>1</td>\n",
       "      <td>7</td>\n",
       "      <td>7</td>\n",
       "    </tr>\n",
       "    <tr>\n",
       "      <th>26340</th>\n",
       "      <td>8675675</td>\n",
       "      <td>{'id': 1393444, 'name': 'СТРЕЛЬЦЫ - ОБЪЕДИНЯЕМ...</td>\n",
       "      <td>1393444.0</td>\n",
       "      <td>СТРЕЛЬЦЫ - ОБЪЕДИНЯЕМСЯ !!!!! :):):):):);)</td>\n",
       "      <td>1</td>\n",
       "      <td>7</td>\n",
       "      <td>7</td>\n",
       "    </tr>\n",
       "    <tr>\n",
       "      <th>26341</th>\n",
       "      <td>8675675</td>\n",
       "      <td>{'id': 2405881, 'name': 'Группа для для правил...</td>\n",
       "      <td>2405881.0</td>\n",
       "      <td>Группа для для правильных велосипедистов! !!!О...</td>\n",
       "      <td>1</td>\n",
       "      <td>7</td>\n",
       "      <td>7</td>\n",
       "    </tr>\n",
       "    <tr>\n",
       "      <th>26342</th>\n",
       "      <td>8675675</td>\n",
       "      <td>{'id': 5105587, 'name': '*****РОЖДЕННЫЕ 5 ДЕКА...</td>\n",
       "      <td>5105587.0</td>\n",
       "      <td>*****РОЖДЕННЫЕ 5 ДЕКАБРЯ******</td>\n",
       "      <td>1</td>\n",
       "      <td>7</td>\n",
       "      <td>7</td>\n",
       "    </tr>\n",
       "    <tr>\n",
       "      <th>49190</th>\n",
       "      <td>14278699</td>\n",
       "      <td>{'id': 1581897, 'name': '[ Для любящих Черниго...</td>\n",
       "      <td>1581897.0</td>\n",
       "      <td>[ Для любящих Чернигов ]</td>\n",
       "      <td>1</td>\n",
       "      <td>1</td>\n",
       "      <td>1</td>\n",
       "    </tr>\n",
       "    <tr>\n",
       "      <th>434769</th>\n",
       "      <td>177444807</td>\n",
       "      <td>{'id': 41755997, 'name': 'Одноклассники Моя ст...</td>\n",
       "      <td>41755997.0</td>\n",
       "      <td>Одноклассники Моя страница Вход</td>\n",
       "      <td>1</td>\n",
       "      <td>1</td>\n",
       "      <td>1</td>\n",
       "    </tr>\n",
       "    <tr>\n",
       "      <th>575578</th>\n",
       "      <td>235820734</td>\n",
       "      <td>{'id': 48059599, 'name': 'AK FILMS', 'screen_n...</td>\n",
       "      <td>48059599.0</td>\n",
       "      <td>AK FILMS</td>\n",
       "      <td>1</td>\n",
       "      <td>1</td>\n",
       "      <td>1</td>\n",
       "    </tr>\n",
       "    <tr>\n",
       "      <th>897412</th>\n",
       "      <td>391561896</td>\n",
       "      <td>{'id': 136330506, 'name': 'Живи й існуй!', 'sc...</td>\n",
       "      <td>136330506.0</td>\n",
       "      <td>Живи й існуй!</td>\n",
       "      <td>1</td>\n",
       "      <td>2</td>\n",
       "      <td>2</td>\n",
       "    </tr>\n",
       "    <tr>\n",
       "      <th>897413</th>\n",
       "      <td>391561896</td>\n",
       "      <td>{'id': 136835743, 'name': 'Наповнюй життя музи...</td>\n",
       "      <td>136835743.0</td>\n",
       "      <td>Наповнюй життя музикою)</td>\n",
       "      <td>1</td>\n",
       "      <td>2</td>\n",
       "      <td>2</td>\n",
       "    </tr>\n",
       "    <tr>\n",
       "      <th>924595</th>\n",
       "      <td>407107371</td>\n",
       "      <td>{'id': 98278384, 'name': 'Гей Секс Рязань', 's...</td>\n",
       "      <td>98278384.0</td>\n",
       "      <td>Гей Секс Рязань</td>\n",
       "      <td>1</td>\n",
       "      <td>1</td>\n",
       "      <td>1</td>\n",
       "    </tr>\n",
       "    <tr>\n",
       "      <th>992214</th>\n",
       "      <td>460755648</td>\n",
       "      <td>{'id': 127794763, 'name': 'Новости Англии (Вел...</td>\n",
       "      <td>127794763.0</td>\n",
       "      <td>Новости Англии (Великобритании) на русском</td>\n",
       "      <td>1</td>\n",
       "      <td>1</td>\n",
       "      <td>1</td>\n",
       "    </tr>\n",
       "    <tr>\n",
       "      <th>1115742</th>\n",
       "      <td>527123138</td>\n",
       "      <td>{'id': 158016201, 'name': 'MissDiva_LookFo - ж...</td>\n",
       "      <td>158016201.0</td>\n",
       "      <td>MissDiva_LookFo - женская одежда опт, ТК Садовод</td>\n",
       "      <td>1</td>\n",
       "      <td>1</td>\n",
       "      <td>1</td>\n",
       "    </tr>\n",
       "    <tr>\n",
       "      <th>1492430</th>\n",
       "      <td>678779918</td>\n",
       "      <td>{'id': 49120442, 'name': 'WSZiA (Zarządzanie)'...</td>\n",
       "      <td>49120442.0</td>\n",
       "      <td>WSZiA (Zarządzanie)</td>\n",
       "      <td>1</td>\n",
       "      <td>3</td>\n",
       "      <td>3</td>\n",
       "    </tr>\n",
       "    <tr>\n",
       "      <th>1492431</th>\n",
       "      <td>678779918</td>\n",
       "      <td>{'id': 105320629, 'name': 'WSZiA', 'screen_nam...</td>\n",
       "      <td>105320629.0</td>\n",
       "      <td>WSZiA</td>\n",
       "      <td>1</td>\n",
       "      <td>3</td>\n",
       "      <td>3</td>\n",
       "    </tr>\n",
       "    <tr>\n",
       "      <th>1492432</th>\n",
       "      <td>678779918</td>\n",
       "      <td>{'id': 78791904, 'name': 'Magisterium WSZiA', ...</td>\n",
       "      <td>78791904.0</td>\n",
       "      <td>Magisterium WSZiA</td>\n",
       "      <td>1</td>\n",
       "      <td>3</td>\n",
       "      <td>3</td>\n",
       "    </tr>\n",
       "  </tbody>\n",
       "</table>\n",
       "</div>"
      ],
      "text/plain": [
       "                id                                             groups  \\\n",
       "26336      8675675  {'id': 54090565, 'name': 'Gepur DISCOUNT', 'sc...   \n",
       "26337      8675675  {'id': 20906435, 'name': 'Новинка: Стань уника...   \n",
       "26338      8675675  {'id': 566453, 'name': '۞۞۞۞۞  рожденные 5 дек...   \n",
       "26339      8675675  {'id': 12705388, 'name': 'Рождённые 5 декабря'...   \n",
       "26340      8675675  {'id': 1393444, 'name': 'СТРЕЛЬЦЫ - ОБЪЕДИНЯЕМ...   \n",
       "26341      8675675  {'id': 2405881, 'name': 'Группа для для правил...   \n",
       "26342      8675675  {'id': 5105587, 'name': '*****РОЖДЕННЫЕ 5 ДЕКА...   \n",
       "49190     14278699  {'id': 1581897, 'name': '[ Для любящих Черниго...   \n",
       "434769   177444807  {'id': 41755997, 'name': 'Одноклассники Моя ст...   \n",
       "575578   235820734  {'id': 48059599, 'name': 'AK FILMS', 'screen_n...   \n",
       "897412   391561896  {'id': 136330506, 'name': 'Живи й існуй!', 'sc...   \n",
       "897413   391561896  {'id': 136835743, 'name': 'Наповнюй життя музи...   \n",
       "924595   407107371  {'id': 98278384, 'name': 'Гей Секс Рязань', 's...   \n",
       "992214   460755648  {'id': 127794763, 'name': 'Новости Англии (Вел...   \n",
       "1115742  527123138  {'id': 158016201, 'name': 'MissDiva_LookFo - ж...   \n",
       "1492430  678779918  {'id': 49120442, 'name': 'WSZiA (Zarządzanie)'...   \n",
       "1492431  678779918  {'id': 105320629, 'name': 'WSZiA', 'screen_nam...   \n",
       "1492432  678779918  {'id': 78791904, 'name': 'Magisterium WSZiA', ...   \n",
       "\n",
       "            group_id                                               name  \\\n",
       "26336     54090565.0                                     Gepur DISCOUNT   \n",
       "26337     20906435.0      Новинка: Стань уникальным среди своих друзей!   \n",
       "26338       566453.0                  ۞۞۞۞۞  рожденные 5 декабря  ۞۞۞۞۞   \n",
       "26339     12705388.0                                Рождённые 5 декабря   \n",
       "26340      1393444.0         СТРЕЛЬЦЫ - ОБЪЕДИНЯЕМСЯ !!!!! :):):):):);)   \n",
       "26341      2405881.0  Группа для для правильных велосипедистов! !!!О...   \n",
       "26342      5105587.0                     *****РОЖДЕННЫЕ 5 ДЕКАБРЯ******   \n",
       "49190      1581897.0                           [ Для любящих Чернигов ]   \n",
       "434769    41755997.0                    Одноклассники Моя страница Вход   \n",
       "575578    48059599.0                                           AK FILMS   \n",
       "897412   136330506.0                                      Живи й існуй!   \n",
       "897413   136835743.0                            Наповнюй життя музикою)   \n",
       "924595    98278384.0                                    Гей Секс Рязань   \n",
       "992214   127794763.0         Новости Англии (Великобритании) на русском   \n",
       "1115742  158016201.0   MissDiva_LookFo - женская одежда опт, ТК Садовод   \n",
       "1492430   49120442.0                                WSZiA (Zarządzanie)   \n",
       "1492431  105320629.0                                              WSZiA   \n",
       "1492432   78791904.0                                  Magisterium WSZiA   \n",
       "\n",
       "         amount  has_groups  sum_connections  \n",
       "26336         1           7                7  \n",
       "26337         1           7                7  \n",
       "26338         1           7                7  \n",
       "26339         1           7                7  \n",
       "26340         1           7                7  \n",
       "26341         1           7                7  \n",
       "26342         1           7                7  \n",
       "49190         1           1                1  \n",
       "434769        1           1                1  \n",
       "575578        1           1                1  \n",
       "897412        1           2                2  \n",
       "897413        1           2                2  \n",
       "924595        1           1                1  \n",
       "992214        1           1                1  \n",
       "1115742       1           1                1  \n",
       "1492430       1           3                3  \n",
       "1492431       1           3                3  \n",
       "1492432       1           3                3  "
      ]
     },
     "execution_count": 264,
     "metadata": {},
     "output_type": "execute_result"
    }
   ],
   "source": [
    "df_groups_2[df_groups_2['has_groups'] == df_groups_2['sum_connections']]"
   ]
  },
  {
   "cell_type": "code",
   "execution_count": 265,
   "id": "0ccc2e2d",
   "metadata": {
    "ExecuteTime": {
     "end_time": "2021-12-20T16:31:22.014677Z",
     "start_time": "2021-12-20T16:31:21.992746Z"
    }
   },
   "outputs": [
    {
     "data": {
      "text/html": [
       "<div>\n",
       "<style scoped>\n",
       "    .dataframe tbody tr th:only-of-type {\n",
       "        vertical-align: middle;\n",
       "    }\n",
       "\n",
       "    .dataframe tbody tr th {\n",
       "        vertical-align: top;\n",
       "    }\n",
       "\n",
       "    .dataframe thead th {\n",
       "        text-align: right;\n",
       "    }\n",
       "</style>\n",
       "<table border=\"1\" class=\"dataframe\">\n",
       "  <thead>\n",
       "    <tr style=\"text-align: right;\">\n",
       "      <th></th>\n",
       "      <th>id</th>\n",
       "      <th>has_groups</th>\n",
       "      <th>sum_connections</th>\n",
       "    </tr>\n",
       "  </thead>\n",
       "  <tbody>\n",
       "    <tr>\n",
       "      <th>26336</th>\n",
       "      <td>8675675</td>\n",
       "      <td>7</td>\n",
       "      <td>7</td>\n",
       "    </tr>\n",
       "    <tr>\n",
       "      <th>49190</th>\n",
       "      <td>14278699</td>\n",
       "      <td>1</td>\n",
       "      <td>1</td>\n",
       "    </tr>\n",
       "    <tr>\n",
       "      <th>434769</th>\n",
       "      <td>177444807</td>\n",
       "      <td>1</td>\n",
       "      <td>1</td>\n",
       "    </tr>\n",
       "    <tr>\n",
       "      <th>575578</th>\n",
       "      <td>235820734</td>\n",
       "      <td>1</td>\n",
       "      <td>1</td>\n",
       "    </tr>\n",
       "    <tr>\n",
       "      <th>897412</th>\n",
       "      <td>391561896</td>\n",
       "      <td>2</td>\n",
       "      <td>2</td>\n",
       "    </tr>\n",
       "    <tr>\n",
       "      <th>924595</th>\n",
       "      <td>407107371</td>\n",
       "      <td>1</td>\n",
       "      <td>1</td>\n",
       "    </tr>\n",
       "    <tr>\n",
       "      <th>992214</th>\n",
       "      <td>460755648</td>\n",
       "      <td>1</td>\n",
       "      <td>1</td>\n",
       "    </tr>\n",
       "    <tr>\n",
       "      <th>1115742</th>\n",
       "      <td>527123138</td>\n",
       "      <td>1</td>\n",
       "      <td>1</td>\n",
       "    </tr>\n",
       "    <tr>\n",
       "      <th>1492430</th>\n",
       "      <td>678779918</td>\n",
       "      <td>3</td>\n",
       "      <td>3</td>\n",
       "    </tr>\n",
       "  </tbody>\n",
       "</table>\n",
       "</div>"
      ],
      "text/plain": [
       "                id  has_groups  sum_connections\n",
       "26336      8675675           7                7\n",
       "49190     14278699           1                1\n",
       "434769   177444807           1                1\n",
       "575578   235820734           1                1\n",
       "897412   391561896           2                2\n",
       "924595   407107371           1                1\n",
       "992214   460755648           1                1\n",
       "1115742  527123138           1                1\n",
       "1492430  678779918           3                3"
      ]
     },
     "execution_count": 265,
     "metadata": {},
     "output_type": "execute_result"
    }
   ],
   "source": [
    "df_groups_2[df_groups_2['has_groups'] == df_groups_2[\\\n",
    "        'sum_connections']][['id', 'has_groups', 'sum_connections']].drop_duplicates()"
   ]
  },
  {
   "cell_type": "markdown",
   "id": "c9430d52",
   "metadata": {},
   "source": [
    "## Найдем топ 5 групп с пересекающимися пользователями, помимо группы \"Валерий Миладзе\""
   ]
  },
  {
   "cell_type": "code",
   "execution_count": 195,
   "id": "5ade5d76",
   "metadata": {
    "ExecuteTime": {
     "end_time": "2021-12-20T15:29:16.937344Z",
     "start_time": "2021-12-20T15:29:15.980597Z"
    },
    "scrolled": true
   },
   "outputs": [],
   "source": [
    "top_5_intersection = list(dict(df_groups['group_id'].value_counts()).keys())[1:6]"
   ]
  },
  {
   "cell_type": "code",
   "execution_count": 196,
   "id": "5116a968",
   "metadata": {
    "ExecuteTime": {
     "end_time": "2021-12-20T15:29:20.219852Z",
     "start_time": "2021-12-20T15:29:20.207951Z"
    }
   },
   "outputs": [
    {
     "data": {
      "text/plain": [
       "[27895931.0, 22822305.0, 48512305.0, 25380626.0, 36018360.0]"
      ]
     },
     "execution_count": 196,
     "metadata": {},
     "output_type": "execute_result"
    }
   ],
   "source": [
    "top_5_intersection"
   ]
  },
  {
   "cell_type": "code",
   "execution_count": 199,
   "id": "a04ade0c",
   "metadata": {
    "ExecuteTime": {
     "end_time": "2021-12-20T15:30:17.342828Z",
     "start_time": "2021-12-20T15:30:17.318842Z"
    }
   },
   "outputs": [
    {
     "data": {
      "text/plain": [
       "Новинки Музыки 2021 | Новая Музыка    1043\n",
       "ВКонтакте                              938\n",
       "Телеканал ТНТ                          931\n",
       "Первый канал                           831\n",
       "Русская Музыка                         798\n",
       "Name: name, dtype: int64"
      ]
     },
     "execution_count": 199,
     "metadata": {},
     "output_type": "execute_result"
    }
   ],
   "source": [
    "df_groups.loc[df_groups['group_id'].isin(top_5_intersection), 'name'].value_counts()"
   ]
  },
  {
   "cell_type": "markdown",
   "id": "ded6fc87",
   "metadata": {},
   "source": [
    "Достанем пользователей, которые подписаны на каждую из групп"
   ]
  },
  {
   "cell_type": "code",
   "execution_count": 204,
   "id": "5090b7fd",
   "metadata": {
    "ExecuteTime": {
     "end_time": "2021-12-20T15:36:25.409011Z",
     "start_time": "2021-12-20T15:36:25.385083Z"
    }
   },
   "outputs": [],
   "source": [
    "group_set_1 = set(df_groups[df_groups['group_id'] == top_5_intersection[0]]['id'])\n",
    "group_set_2 = set(df_groups[df_groups['group_id'] == top_5_intersection[1]]['id'])\n",
    "group_set_3 = set(df_groups[df_groups['group_id'] == top_5_intersection[2]]['id'])\n",
    "group_set_4 = set(df_groups[df_groups['group_id'] == top_5_intersection[3]]['id'])\n",
    "group_set_5 = set(df_groups[df_groups['group_id'] == top_5_intersection[4]]['id'])"
   ]
  },
  {
   "cell_type": "markdown",
   "id": "61345b62",
   "metadata": {},
   "source": [
    "Так как можно построить диаграммы с пересечениями множеств только для 3 сетов одновременно, построим две наиболее интересные - \"Новинки\", \"ТНТ\" и \"Первый канал\", \"ТНТ\", \"Первый канал\" и \"Русская музыка\""
   ]
  },
  {
   "cell_type": "code",
   "execution_count": 207,
   "id": "34d8fe29",
   "metadata": {
    "ExecuteTime": {
     "end_time": "2021-12-20T15:38:47.135878Z",
     "start_time": "2021-12-20T15:38:46.042299Z"
    }
   },
   "outputs": [],
   "source": [
    "from collections import Counter\n",
    "from matplotlib_venn import venn2, venn3\n",
    "import matplotlib.pyplot as plt"
   ]
  },
  {
   "cell_type": "markdown",
   "id": "a1dd2049",
   "metadata": {},
   "source": [
    "### Новинки Музыки 2021 | Новая Музыка - Телеканал ТНТ - Первый канал"
   ]
  },
  {
   "cell_type": "code",
   "execution_count": 209,
   "id": "4501509e",
   "metadata": {
    "ExecuteTime": {
     "end_time": "2021-12-20T15:42:59.736182Z",
     "start_time": "2021-12-20T15:42:59.724426Z"
    }
   },
   "outputs": [],
   "source": [
    "AB_overlap = group_set_1 & group_set_3  #compute intersection of set A & set B\n",
    "AC_overlap = group_set_1 & group_set_4\n",
    "BC_overlap = group_set_3 & group_set_4\n",
    "ABC_overlap = group_set_1 & group_set_3 & group_set_4\n",
    "\n",
    "A_rest = group_set_1 - AB_overlap - AC_overlap #see left graphic\n",
    "B_rest = group_set_3 - AB_overlap - BC_overlap\n",
    "C_rest = group_set_4 - AC_overlap - BC_overlap\n",
    "\n",
    "AB_only = AB_overlap - ABC_overlap   #see right graphic\n",
    "AC_only = AC_overlap - ABC_overlap\n",
    "BC_only = BC_overlap - ABC_overlap"
   ]
  },
  {
   "cell_type": "code",
   "execution_count": 219,
   "id": "321bdc8d",
   "metadata": {
    "ExecuteTime": {
     "end_time": "2021-12-20T15:50:46.836247Z",
     "start_time": "2021-12-20T15:50:46.742472Z"
    }
   },
   "outputs": [
    {
     "data": {
      "image/png": "[encoded data removed]",
      "text/plain": [
       "<Figure size 504x504 with 1 Axes>"
      ]
     },
     "metadata": {},
     "output_type": "display_data"
    }
   ],
   "source": [
    "total_users = df_groups['id'].nunique()\n",
    "\n",
    "sets = Counter()               #set order A, B, C   \n",
    "sets['100'] = round(100*len(A_rest)/total_users,1)     #100 denotes A on, B off, C off \n",
    "sets['010'] = round(100*len(B_rest)/total_users,1)     #010 denotes A off, B on, C off\n",
    "sets['001'] = round(100*len(C_rest)/total_users,1)      #001 denotes A off, B off, C on \n",
    "sets['110'] = round(100*len(AB_only)/total_users,1)     #110 denotes A on, B on, C off\n",
    "sets['101'] = round(100*len(AC_only)/total_users,1)     #101 denotes A on, B off, C on \n",
    "sets['011'] = round(100*len(BC_only)/total_users, 1)     #011 denotes A off, B on, C on \n",
    "sets['111'] = round(100*len(ABC_overlap)/total_users,1) #011 denotes A on, B on, C on\n",
    "\n",
    "labels = ('Новинки Музыки 2021 | Новая Музыка', 'Телеканал ТНТ', 'Первый канал')  \n",
    "plt.figure(figsize=(7,7)) \n",
    "ax = plt.gca() \n",
    "venn3(subsets=sets, \n",
    "      set_labels=labels, \n",
    "      ax=ax,\n",
    "      set_colors=('darkviolet','deepskyblue','blue'),\n",
    "      alpha=0.7)  \n",
    "plt.title('Количество людей в процентах от всей аудитории')\n",
    "plt.show()"
   ]
  },
  {
   "cell_type": "markdown",
   "id": "c343c10b",
   "metadata": {},
   "source": [
    "### Русская Музыка - Телеканал ТНТ - Первый канал"
   ]
  },
  {
   "cell_type": "code",
   "execution_count": 220,
   "id": "0f9b6a53",
   "metadata": {
    "ExecuteTime": {
     "end_time": "2021-12-20T15:52:31.048347Z",
     "start_time": "2021-12-20T15:52:31.036589Z"
    }
   },
   "outputs": [],
   "source": [
    "AB_overlap = group_set_5 & group_set_3  #compute intersection of set A & set B\n",
    "AC_overlap = group_set_5 & group_set_4\n",
    "BC_overlap = group_set_3 & group_set_4\n",
    "ABC_overlap = group_set_5 & group_set_3 & group_set_4\n",
    "\n",
    "A_rest = group_set_5 - AB_overlap - AC_overlap #see left graphic\n",
    "B_rest = group_set_3 - AB_overlap - BC_overlap\n",
    "C_rest = group_set_4 - AC_overlap - BC_overlap\n",
    "\n",
    "AB_only = AB_overlap - ABC_overlap   #see right graphic\n",
    "AC_only = AC_overlap - ABC_overlap\n",
    "BC_only = BC_overlap - ABC_overlap"
   ]
  },
  {
   "cell_type": "code",
   "execution_count": 221,
   "id": "65734dcb",
   "metadata": {
    "ExecuteTime": {
     "end_time": "2021-12-20T15:52:32.077082Z",
     "start_time": "2021-12-20T15:52:31.984382Z"
    }
   },
   "outputs": [
    {
     "data": {
      "image/png": "[encoded data removed]",
      "text/plain": [
       "<Figure size 504x504 with 1 Axes>"
      ]
     },
     "metadata": {},
     "output_type": "display_data"
    }
   ],
   "source": [
    "total_users = df_groups['id'].nunique()\n",
    "\n",
    "sets = Counter()               #set order A, B, C   \n",
    "sets['100'] = round(100*len(A_rest)/total_users,1)     #100 denotes A on, B off, C off \n",
    "sets['010'] = round(100*len(B_rest)/total_users,1)     #010 denotes A off, B on, C off\n",
    "sets['001'] = round(100*len(C_rest)/total_users,1)      #001 denotes A off, B off, C on \n",
    "sets['110'] = round(100*len(AB_only)/total_users,1)     #110 denotes A on, B on, C off\n",
    "sets['101'] = round(100*len(AC_only)/total_users,1)     #101 denotes A on, B off, C on \n",
    "sets['011'] = round(100*len(BC_only)/total_users, 1)     #011 denotes A off, B on, C on \n",
    "sets['111'] = round(100*len(ABC_overlap)/total_users,1) #011 denotes A on, B on, C on\n",
    "\n",
    "labels = ('Русская музыка', 'Телеканал ТНТ', 'Первый канал')  \n",
    "plt.figure(figsize=(7,7)) \n",
    "ax = plt.gca() \n",
    "venn3(subsets=sets, \n",
    "      set_labels=labels, \n",
    "      ax=ax,\n",
    "      set_colors=('darkviolet','deepskyblue','blue'),\n",
    "      alpha=0.7)  \n",
    "plt.title('Количество людей в процентах от всей аудитории')\n",
    "plt.show()"
   ]
  },
  {
   "cell_type": "code",
   "execution_count": null,
   "id": "b0421bcc",
   "metadata": {},
   "outputs": [],
   "source": []
  },
  {
   "cell_type": "code",
   "execution_count": null,
   "id": "7f23f390",
   "metadata": {},
   "outputs": [],
   "source": []
  }
 ],
 "metadata": {
  "kernelspec": {
   "display_name": "Python 3 (ipykernel)",
   "language": "python",
   "name": "python3"
  },
  "language_info": {
   "codemirror_mode": {
    "name": "ipython",
    "version": 3
   },
   "file_extension": ".py",
   "mimetype": "text/x-python",
   "name": "python",
   "nbconvert_exporter": "python",
   "pygments_lexer": "ipython3",
   "version": "3.9.7"
  },
  "toc": {
   "base_numbering": 1,
   "nav_menu": {},
   "number_sections": true,
   "sideBar": true,
   "skip_h1_title": false,
   "title_cell": "Table of Contents",
   "title_sidebar": "Contents",
   "toc_cell": false,
   "toc_position": {
    "height": "calc(100% - 180px)",
    "left": "10px",
    "top": "150px",
    "width": "302.391px"
   },
   "toc_section_display": true,
   "toc_window_display": true
  }
 },
 "nbformat": 4,
 "nbformat_minor": 5
}
