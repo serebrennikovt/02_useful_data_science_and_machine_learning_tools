{
 "cells": [
  {
   "cell_type": "code",
   "execution_count": 51,
   "id": "7166632d",
   "metadata": {
    "ExecuteTime": {
     "end_time": "2021-12-15T23:34:38.864345Z",
     "start_time": "2021-12-15T23:34:38.855455Z"
    }
   },
   "outputs": [],
   "source": [
    "import tabula\n",
    "import pandas as pd\n",
    "import re\n",
    "\n",
    "import warnings\n",
    "warnings.filterwarnings(\"ignore\")"
   ]
  },
  {
   "cell_type": "markdown",
   "id": "1251aa3e",
   "metadata": {},
   "source": [
    "# Файл 1"
   ]
  },
  {
   "cell_type": "markdown",
   "id": "9d4ee170",
   "metadata": {},
   "source": [
    "## Читаем файл"
   ]
  },
  {
   "cell_type": "code",
   "execution_count": 150,
   "id": "46cd3659",
   "metadata": {
    "ExecuteTime": {
     "end_time": "2021-12-16T20:22:05.584777Z",
     "start_time": "2021-12-16T20:22:00.745146Z"
    }
   },
   "outputs": [],
   "source": [
    "df_pdf = tabula.read_pdf('PP-2022-pril-1.pdf', \n",
    "    pages= 'all',\n",
    "    lattice=True,\n",
    "    pandas_options={\"header\": [0, 1, 2, 3]},\n",
    "    #area=[0, 0, 50, 100],\n",
    "    relative_area=True,\n",
    "    #multiple_tables=False\n",
    "                        )\n",
    "\n",
    "df = df_pdf[0]\n",
    "for df_temp in df_pdf[1:]:\n",
    "    df = df.append(df_temp,ignore_index=True)"
   ]
  },
  {
   "cell_type": "code",
   "execution_count": 151,
   "id": "57473bca",
   "metadata": {
    "ExecuteTime": {
     "end_time": "2021-12-16T20:22:05.602005Z",
     "start_time": "2021-12-16T20:22:05.586197Z"
    }
   },
   "outputs": [
    {
     "data": {
      "text/html": [
       "<div>\n",
       "<style scoped>\n",
       "    .dataframe tbody tr th:only-of-type {\n",
       "        vertical-align: middle;\n",
       "    }\n",
       "\n",
       "    .dataframe tbody tr th {\n",
       "        vertical-align: top;\n",
       "    }\n",
       "\n",
       "    .dataframe thead th {\n",
       "        text-align: right;\n",
       "    }\n",
       "</style>\n",
       "<table border=\"1\" class=\"dataframe\">\n",
       "  <thead>\n",
       "    <tr style=\"text-align: right;\">\n",
       "      <th></th>\n",
       "      <th>0</th>\n",
       "      <th>1</th>\n",
       "      <th>2</th>\n",
       "      <th>3</th>\n",
       "      <th>4</th>\n",
       "      <th>5</th>\n",
       "      <th>6</th>\n",
       "      <th>7</th>\n",
       "      <th>8</th>\n",
       "      <th>9</th>\n",
       "      <th>...</th>\n",
       "      <th>19</th>\n",
       "      <th>20</th>\n",
       "      <th>21</th>\n",
       "      <th>22</th>\n",
       "      <th>23</th>\n",
       "      <th>24</th>\n",
       "      <th>25</th>\n",
       "      <th>26</th>\n",
       "      <th>27</th>\n",
       "      <th>28</th>\n",
       "    </tr>\n",
       "  </thead>\n",
       "  <tbody>\n",
       "    <tr>\n",
       "      <th>0</th>\n",
       "      <td>Код и наименование\\rнаправления подготовки/\\rс...</td>\n",
       "      <td>Направленность (профиль/специализация) образов...</td>\n",
       "      <td>Форма обучения</td>\n",
       "      <td>Условия\\rпоступления</td>\n",
       "      <td>для поступающих на базе\\rсреднего общего образ...</td>\n",
       "      <td>для поступающих на базе\\rсреднего профессионал...</td>\n",
       "      <td>для поступающих на базе\\rвысшего образования</td>\n",
       "      <td>Минимальное\\rколичество баллов</td>\n",
       "      <td>Количество\\rмест\\rдля приема\\r(включая особую ...</td>\n",
       "      <td>NaN</td>\n",
       "      <td>...</td>\n",
       "      <td>NaN</td>\n",
       "      <td>NaN</td>\n",
       "      <td>NaN</td>\n",
       "      <td>NaN</td>\n",
       "      <td>NaN</td>\n",
       "      <td>NaN</td>\n",
       "      <td>NaN</td>\n",
       "      <td>NaN</td>\n",
       "      <td>NaN</td>\n",
       "      <td>NaN</td>\n",
       "    </tr>\n",
       "    <tr>\n",
       "      <th>1</th>\n",
       "      <td>NaN</td>\n",
       "      <td>NaN</td>\n",
       "      <td>NaN</td>\n",
       "      <td>Наименование вступительного\\rиспытания\\rс указ...</td>\n",
       "      <td>Форма проведения\\rвступительного\\rиспытания</td>\n",
       "      <td>Наименование вступительного\\rиспытания\\rс указ...</td>\n",
       "      <td>Форма проведения\\rвступительного\\rиспытания</td>\n",
       "      <td>Наименование вступительного\\rиспытания\\rс указ...</td>\n",
       "      <td>Форма проведения\\rвступительного\\rиспытания</td>\n",
       "      <td>Наименование вступительного\\rиспытания\\rс указ...</td>\n",
       "      <td>...</td>\n",
       "      <td>NaN</td>\n",
       "      <td>NaN</td>\n",
       "      <td>NaN</td>\n",
       "      <td>NaN</td>\n",
       "      <td>NaN</td>\n",
       "      <td>NaN</td>\n",
       "      <td>NaN</td>\n",
       "      <td>NaN</td>\n",
       "      <td>NaN</td>\n",
       "      <td>NaN</td>\n",
       "    </tr>\n",
       "    <tr>\n",
       "      <th>2</th>\n",
       "      <td>1</td>\n",
       "      <td>2</td>\n",
       "      <td>3</td>\n",
       "      <td>4</td>\n",
       "      <td>5</td>\n",
       "      <td>6</td>\n",
       "      <td>7</td>\n",
       "      <td>8</td>\n",
       "      <td>9</td>\n",
       "      <td>10</td>\n",
       "      <td>...</td>\n",
       "      <td>NaN</td>\n",
       "      <td>NaN</td>\n",
       "      <td>NaN</td>\n",
       "      <td>NaN</td>\n",
       "      <td>NaN</td>\n",
       "      <td>NaN</td>\n",
       "      <td>NaN</td>\n",
       "      <td>NaN</td>\n",
       "      <td>NaN</td>\n",
       "      <td>NaN</td>\n",
       "    </tr>\n",
       "    <tr>\n",
       "      <th>3</th>\n",
       "      <td>БАКАЛАВРИАТ</td>\n",
       "      <td>NaN</td>\n",
       "      <td>NaN</td>\n",
       "      <td>NaN</td>\n",
       "      <td>NaN</td>\n",
       "      <td>NaN</td>\n",
       "      <td>NaN</td>\n",
       "      <td>NaN</td>\n",
       "      <td>NaN</td>\n",
       "      <td>NaN</td>\n",
       "      <td>...</td>\n",
       "      <td>NaN</td>\n",
       "      <td>NaN</td>\n",
       "      <td>NaN</td>\n",
       "      <td>NaN</td>\n",
       "      <td>NaN</td>\n",
       "      <td>NaN</td>\n",
       "      <td>NaN</td>\n",
       "      <td>NaN</td>\n",
       "      <td>NaN</td>\n",
       "      <td>NaN</td>\n",
       "    </tr>\n",
       "    <tr>\n",
       "      <th>4</th>\n",
       "      <td>01.03.02\\rПрикладная\\rматематика и\\rинформатика</td>\n",
       "      <td>Образовательная программа:\\rПрикладные цифровы...</td>\n",
       "      <td>очная</td>\n",
       "      <td>договор</td>\n",
       "      <td>1. Математика (профильная)</td>\n",
       "      <td>ЕГЭ/ВИ\\rдля отдельных категорий\\rпоступающих*\\...</td>\n",
       "      <td>1. Математика (профильная)</td>\n",
       "      <td>ЕГЭ/ВИ\\rдля отдельных категорий\\rпоступающих*\\...</td>\n",
       "      <td>1. Математика (профильная)</td>\n",
       "      <td>ЕГЭ/ВИ\\rдля отдельных категорий\\rпоступающих*\\...</td>\n",
       "      <td>...</td>\n",
       "      <td>NaN</td>\n",
       "      <td>NaN</td>\n",
       "      <td>NaN</td>\n",
       "      <td>NaN</td>\n",
       "      <td>NaN</td>\n",
       "      <td>NaN</td>\n",
       "      <td>NaN</td>\n",
       "      <td>NaN</td>\n",
       "      <td>NaN</td>\n",
       "      <td>NaN</td>\n",
       "    </tr>\n",
       "    <tr>\n",
       "      <th>...</th>\n",
       "      <td>...</td>\n",
       "      <td>...</td>\n",
       "      <td>...</td>\n",
       "      <td>...</td>\n",
       "      <td>...</td>\n",
       "      <td>...</td>\n",
       "      <td>...</td>\n",
       "      <td>...</td>\n",
       "      <td>...</td>\n",
       "      <td>...</td>\n",
       "      <td>...</td>\n",
       "      <td>...</td>\n",
       "      <td>...</td>\n",
       "      <td>...</td>\n",
       "      <td>...</td>\n",
       "      <td>...</td>\n",
       "      <td>...</td>\n",
       "      <td>...</td>\n",
       "      <td>...</td>\n",
       "      <td>...</td>\n",
       "      <td>...</td>\n",
       "    </tr>\n",
       "    <tr>\n",
       "      <th>1108</th>\n",
       "      <td>NaN</td>\n",
       "      <td>NaN</td>\n",
       "      <td>2. Профессиональное испытание</td>\n",
       "      <td>NaN</td>\n",
       "      <td>ДВИ\\rтестирование</td>\n",
       "      <td>NaN</td>\n",
       "      <td>2. Профессиональное испытание</td>\n",
       "      <td>NaN</td>\n",
       "      <td>ДВИ\\rтестирование</td>\n",
       "      <td>NaN</td>\n",
       "      <td>...</td>\n",
       "      <td>NaN</td>\n",
       "      <td>NaN</td>\n",
       "      <td>NaN</td>\n",
       "      <td>NaN</td>\n",
       "      <td>NaN</td>\n",
       "      <td>NaN</td>\n",
       "      <td>NaN</td>\n",
       "      <td>NaN</td>\n",
       "      <td>NaN</td>\n",
       "      <td>NaN</td>\n",
       "    </tr>\n",
       "    <tr>\n",
       "      <th>1109</th>\n",
       "      <td>NaN</td>\n",
       "      <td>NaN</td>\n",
       "      <td>3. Русский язык</td>\n",
       "      <td>NaN</td>\n",
       "      <td>ЕГЭ/ВИ\\rдля отдельных категорий\\rпоступающих*\\...</td>\n",
       "      <td>NaN</td>\n",
       "      <td>3. Русский язык</td>\n",
       "      <td>NaN</td>\n",
       "      <td>ЕГЭ/ВИ\\rдля отдельных категорий\\rпоступающих*\\...</td>\n",
       "      <td>NaN</td>\n",
       "      <td>...</td>\n",
       "      <td>NaN</td>\n",
       "      <td>NaN</td>\n",
       "      <td>NaN</td>\n",
       "      <td>NaN</td>\n",
       "      <td>NaN</td>\n",
       "      <td>NaN</td>\n",
       "      <td>NaN</td>\n",
       "      <td>NaN</td>\n",
       "      <td>NaN</td>\n",
       "      <td>NaN</td>\n",
       "    </tr>\n",
       "    <tr>\n",
       "      <th>1110</th>\n",
       "      <td>NaN</td>\n",
       "      <td>NaN</td>\n",
       "      <td>NaN</td>\n",
       "      <td>NaN</td>\n",
       "      <td>NaN</td>\n",
       "      <td>NaN</td>\n",
       "      <td>NaN</td>\n",
       "      <td>NaN</td>\n",
       "      <td>NaN</td>\n",
       "      <td>NaN</td>\n",
       "      <td>...</td>\n",
       "      <td>NaN</td>\n",
       "      <td>NaN</td>\n",
       "      <td>NaN</td>\n",
       "      <td>NaN</td>\n",
       "      <td>NaN</td>\n",
       "      <td>NaN</td>\n",
       "      <td>NaN</td>\n",
       "      <td>NaN</td>\n",
       "      <td>NaN</td>\n",
       "      <td>NaN</td>\n",
       "    </tr>\n",
       "    <tr>\n",
       "      <th>1111</th>\n",
       "      <td>NaN</td>\n",
       "      <td>договор\\r(для иностранных\\rграждан и лиц без\\r...</td>\n",
       "      <td>NaN</td>\n",
       "      <td>1. Русский язык</td>\n",
       "      <td>NaN</td>\n",
       "      <td>ЕГЭ/ВИ\\rтестирование\\r(по выбору поступающих)</td>\n",
       "      <td>NaN</td>\n",
       "      <td>1. Русский язык</td>\n",
       "      <td>NaN</td>\n",
       "      <td>ЕГЭ/ВИ\\rтестирование\\r(по выбору поступающих)</td>\n",
       "      <td>...</td>\n",
       "      <td>55</td>\n",
       "      <td>NaN</td>\n",
       "      <td>5</td>\n",
       "      <td>NaN</td>\n",
       "      <td>NaN</td>\n",
       "      <td>NaN</td>\n",
       "      <td>NaN</td>\n",
       "      <td>NaN</td>\n",
       "      <td>NaN</td>\n",
       "      <td>NaN</td>\n",
       "    </tr>\n",
       "    <tr>\n",
       "      <th>1112</th>\n",
       "      <td>NaN</td>\n",
       "      <td>2. Профессиональное испытание</td>\n",
       "      <td>NaN</td>\n",
       "      <td>ДВИ\\rтестирование</td>\n",
       "      <td>NaN</td>\n",
       "      <td>2. Профессиональное испытание</td>\n",
       "      <td>NaN</td>\n",
       "      <td>ДВИ\\rтестирование</td>\n",
       "      <td>NaN</td>\n",
       "      <td>2. Профессиональное испытание</td>\n",
       "      <td>...</td>\n",
       "      <td>NaN</td>\n",
       "      <td>NaN</td>\n",
       "      <td>NaN</td>\n",
       "      <td>NaN</td>\n",
       "      <td>NaN</td>\n",
       "      <td>NaN</td>\n",
       "      <td>NaN</td>\n",
       "      <td>NaN</td>\n",
       "      <td>NaN</td>\n",
       "      <td>NaN</td>\n",
       "    </tr>\n",
       "  </tbody>\n",
       "</table>\n",
       "<p>1113 rows × 29 columns</p>\n",
       "</div>"
      ],
      "text/plain": [
       "                                                     0   \\\n",
       "0     Код и наименование\\rнаправления подготовки/\\rс...   \n",
       "1                                                   NaN   \n",
       "2                                                     1   \n",
       "3                                           БАКАЛАВРИАТ   \n",
       "4       01.03.02\\rПрикладная\\rматематика и\\rинформатика   \n",
       "...                                                 ...   \n",
       "1108                                                NaN   \n",
       "1109                                                NaN   \n",
       "1110                                                NaN   \n",
       "1111                                                NaN   \n",
       "1112                                                NaN   \n",
       "\n",
       "                                                     1   \\\n",
       "0     Направленность (профиль/специализация) образов...   \n",
       "1                                                   NaN   \n",
       "2                                                     2   \n",
       "3                                                   NaN   \n",
       "4     Образовательная программа:\\rПрикладные цифровы...   \n",
       "...                                                 ...   \n",
       "1108                                                NaN   \n",
       "1109                                                NaN   \n",
       "1110                                                NaN   \n",
       "1111  договор\\r(для иностранных\\rграждан и лиц без\\r...   \n",
       "1112                      2. Профессиональное испытание   \n",
       "\n",
       "                                 2   \\\n",
       "0                    Форма обучения   \n",
       "1                               NaN   \n",
       "2                                 3   \n",
       "3                               NaN   \n",
       "4                             очная   \n",
       "...                             ...   \n",
       "1108  2. Профессиональное испытание   \n",
       "1109                3. Русский язык   \n",
       "1110                            NaN   \n",
       "1111                            NaN   \n",
       "1112                            NaN   \n",
       "\n",
       "                                                     3   \\\n",
       "0                                  Условия\\rпоступления   \n",
       "1     Наименование вступительного\\rиспытания\\rс указ...   \n",
       "2                                                     4   \n",
       "3                                                   NaN   \n",
       "4                                               договор   \n",
       "...                                                 ...   \n",
       "1108                                                NaN   \n",
       "1109                                                NaN   \n",
       "1110                                                NaN   \n",
       "1111                                    1. Русский язык   \n",
       "1112                                  ДВИ\\rтестирование   \n",
       "\n",
       "                                                     4   \\\n",
       "0     для поступающих на базе\\rсреднего общего образ...   \n",
       "1           Форма проведения\\rвступительного\\rиспытания   \n",
       "2                                                     5   \n",
       "3                                                   NaN   \n",
       "4                            1. Математика (профильная)   \n",
       "...                                                 ...   \n",
       "1108                                  ДВИ\\rтестирование   \n",
       "1109  ЕГЭ/ВИ\\rдля отдельных категорий\\rпоступающих*\\...   \n",
       "1110                                                NaN   \n",
       "1111                                                NaN   \n",
       "1112                                                NaN   \n",
       "\n",
       "                                                     5   \\\n",
       "0     для поступающих на базе\\rсреднего профессионал...   \n",
       "1     Наименование вступительного\\rиспытания\\rс указ...   \n",
       "2                                                     6   \n",
       "3                                                   NaN   \n",
       "4     ЕГЭ/ВИ\\rдля отдельных категорий\\rпоступающих*\\...   \n",
       "...                                                 ...   \n",
       "1108                                                NaN   \n",
       "1109                                                NaN   \n",
       "1110                                                NaN   \n",
       "1111      ЕГЭ/ВИ\\rтестирование\\r(по выбору поступающих)   \n",
       "1112                      2. Профессиональное испытание   \n",
       "\n",
       "                                                6   \\\n",
       "0     для поступающих на базе\\rвысшего образования   \n",
       "1      Форма проведения\\rвступительного\\rиспытания   \n",
       "2                                                7   \n",
       "3                                              NaN   \n",
       "4                       1. Математика (профильная)   \n",
       "...                                            ...   \n",
       "1108                 2. Профессиональное испытание   \n",
       "1109                               3. Русский язык   \n",
       "1110                                           NaN   \n",
       "1111                                           NaN   \n",
       "1112                                           NaN   \n",
       "\n",
       "                                                     7   \\\n",
       "0                        Минимальное\\rколичество баллов   \n",
       "1     Наименование вступительного\\rиспытания\\rс указ...   \n",
       "2                                                     8   \n",
       "3                                                   NaN   \n",
       "4     ЕГЭ/ВИ\\rдля отдельных категорий\\rпоступающих*\\...   \n",
       "...                                                 ...   \n",
       "1108                                                NaN   \n",
       "1109                                                NaN   \n",
       "1110                                                NaN   \n",
       "1111                                    1. Русский язык   \n",
       "1112                                  ДВИ\\rтестирование   \n",
       "\n",
       "                                                     8   \\\n",
       "0     Количество\\rмест\\rдля приема\\r(включая особую ...   \n",
       "1           Форма проведения\\rвступительного\\rиспытания   \n",
       "2                                                     9   \n",
       "3                                                   NaN   \n",
       "4                            1. Математика (профильная)   \n",
       "...                                                 ...   \n",
       "1108                                  ДВИ\\rтестирование   \n",
       "1109  ЕГЭ/ВИ\\rдля отдельных категорий\\rпоступающих*\\...   \n",
       "1110                                                NaN   \n",
       "1111                                                NaN   \n",
       "1112                                                NaN   \n",
       "\n",
       "                                                     9   ...   19   20   21  \\\n",
       "0                                                   NaN  ...  NaN  NaN  NaN   \n",
       "1     Наименование вступительного\\rиспытания\\rс указ...  ...  NaN  NaN  NaN   \n",
       "2                                                    10  ...  NaN  NaN  NaN   \n",
       "3                                                   NaN  ...  NaN  NaN  NaN   \n",
       "4     ЕГЭ/ВИ\\rдля отдельных категорий\\rпоступающих*\\...  ...  NaN  NaN  NaN   \n",
       "...                                                 ...  ...  ...  ...  ...   \n",
       "1108                                                NaN  ...  NaN  NaN  NaN   \n",
       "1109                                                NaN  ...  NaN  NaN  NaN   \n",
       "1110                                                NaN  ...  NaN  NaN  NaN   \n",
       "1111      ЕГЭ/ВИ\\rтестирование\\r(по выбору поступающих)  ...   55  NaN    5   \n",
       "1112                      2. Профессиональное испытание  ...  NaN  NaN  NaN   \n",
       "\n",
       "       22   23  24  25  26   27  28  \n",
       "0     NaN  NaN NaN NaN NaN  NaN NaN  \n",
       "1     NaN  NaN NaN NaN NaN  NaN NaN  \n",
       "2     NaN  NaN NaN NaN NaN  NaN NaN  \n",
       "3     NaN  NaN NaN NaN NaN  NaN NaN  \n",
       "4     NaN  NaN NaN NaN NaN  NaN NaN  \n",
       "...   ...  ...  ..  ..  ..  ...  ..  \n",
       "1108  NaN  NaN NaN NaN NaN  NaN NaN  \n",
       "1109  NaN  NaN NaN NaN NaN  NaN NaN  \n",
       "1110  NaN  NaN NaN NaN NaN  NaN NaN  \n",
       "1111  NaN  NaN NaN NaN NaN  NaN NaN  \n",
       "1112  NaN  NaN NaN NaN NaN  NaN NaN  \n",
       "\n",
       "[1113 rows x 29 columns]"
      ]
     },
     "execution_count": 151,
     "metadata": {},
     "output_type": "execute_result"
    }
   ],
   "source": [
    "df"
   ]
  },
  {
   "cell_type": "markdown",
   "id": "9e76d207",
   "metadata": {},
   "source": [
    "## Агрегируем колонки"
   ]
  },
  {
   "cell_type": "code",
   "execution_count": 152,
   "id": "573f3fea",
   "metadata": {
    "ExecuteTime": {
     "end_time": "2021-12-16T20:22:10.637874Z",
     "start_time": "2021-12-16T20:22:10.626960Z"
    }
   },
   "outputs": [],
   "source": [
    "def func(x):\n",
    "    try:\n",
    "        return re.search('\\d{2}.\\d{2}.\\d{2}', x).group(0)\n",
    "    except:\n",
    "        return 0"
   ]
  },
  {
   "cell_type": "code",
   "execution_count": 209,
   "id": "114b57b8",
   "metadata": {
    "ExecuteTime": {
     "end_time": "2021-12-16T21:46:18.040086Z",
     "start_time": "2021-12-16T21:46:18.030969Z"
    }
   },
   "outputs": [],
   "source": [
    "final_df = pd.DataFrame()"
   ]
  },
  {
   "cell_type": "markdown",
   "id": "7055c476",
   "metadata": {},
   "source": [
    "Берем только 8 первых элементов из первого столбца, чтобы вытащить код"
   ]
  },
  {
   "cell_type": "code",
   "execution_count": 210,
   "id": "b34e5bed",
   "metadata": {
    "ExecuteTime": {
     "end_time": "2021-12-16T21:46:18.307169Z",
     "start_time": "2021-12-16T21:46:18.298375Z"
    }
   },
   "outputs": [],
   "source": [
    "final_df['Код'] = df[df[0].notna()][0].apply(lambda x: x[:8])"
   ]
  },
  {
   "cell_type": "markdown",
   "id": "ae3012b4",
   "metadata": {},
   "source": [
    "Вытаскиваем код по шаблону"
   ]
  },
  {
   "cell_type": "code",
   "execution_count": 211,
   "id": "214450be",
   "metadata": {
    "ExecuteTime": {
     "end_time": "2021-12-16T21:46:18.711249Z",
     "start_time": "2021-12-16T21:46:18.702289Z"
    }
   },
   "outputs": [],
   "source": [
    "final_df['Код'] = final_df['Код'].apply(lambda x: func(x))"
   ]
  },
  {
   "cell_type": "code",
   "execution_count": 212,
   "id": "eb508118",
   "metadata": {
    "ExecuteTime": {
     "end_time": "2021-12-16T21:46:19.004976Z",
     "start_time": "2021-12-16T21:46:18.996122Z"
    }
   },
   "outputs": [],
   "source": [
    "final_df = final_df[final_df['Код'] != 0]"
   ]
  },
  {
   "cell_type": "markdown",
   "id": "dbe6e20b",
   "metadata": {},
   "source": [
    "Для направления мы берем все после первого переноса строки `\\r` в той же колонке"
   ]
  },
  {
   "cell_type": "code",
   "execution_count": 213,
   "id": "7df4f9d1",
   "metadata": {
    "ExecuteTime": {
     "end_time": "2021-12-16T21:46:19.187855Z",
     "start_time": "2021-12-16T21:46:19.181177Z"
    }
   },
   "outputs": [],
   "source": [
    "final_df['Направление'] = df.loc[final_df.index, 0]"
   ]
  },
  {
   "cell_type": "code",
   "execution_count": 214,
   "id": "117ccc7b",
   "metadata": {
    "ExecuteTime": {
     "end_time": "2021-12-16T21:46:19.294444Z",
     "start_time": "2021-12-16T21:46:19.286824Z"
    }
   },
   "outputs": [],
   "source": [
    "final_df['Направление'] = final_df['Направление'].apply(lambda x: ' '.join(x.split('\\r')[1:]))"
   ]
  },
  {
   "cell_type": "markdown",
   "id": "638eb91b",
   "metadata": {},
   "source": [
    "Образовательную программу достаем по тому же принципу"
   ]
  },
  {
   "cell_type": "code",
   "execution_count": 215,
   "id": "b69c433a",
   "metadata": {
    "ExecuteTime": {
     "end_time": "2021-12-16T21:46:19.731154Z",
     "start_time": "2021-12-16T21:46:19.720547Z"
    }
   },
   "outputs": [],
   "source": [
    "final_df['Образовательная программа'] = df.loc[final_df.index, 1].apply(lambda x: ' '.join(x.split('\\r')[1:]))"
   ]
  },
  {
   "cell_type": "markdown",
   "id": "55efa7c9",
   "metadata": {},
   "source": [
    "Подразделение - то что стоит в скобках после образовательной программы"
   ]
  },
  {
   "cell_type": "code",
   "execution_count": 216,
   "id": "eb30a093",
   "metadata": {
    "ExecuteTime": {
     "end_time": "2021-12-16T21:46:20.290392Z",
     "start_time": "2021-12-16T21:46:20.279167Z"
    }
   },
   "outputs": [],
   "source": [
    "final_df['Подразделение'] = df.loc[final_df.index, \n",
    "                                   1].apply(lambda x: re.findall(r'\\((.*?)\\)',x)).apply(lambda x: x[-1])"
   ]
  },
  {
   "cell_type": "code",
   "execution_count": 217,
   "id": "f0c5f12c",
   "metadata": {
    "ExecuteTime": {
     "end_time": "2021-12-16T21:46:20.496619Z",
     "start_time": "2021-12-16T21:46:20.488328Z"
    }
   },
   "outputs": [],
   "source": [
    "final_df['Подразделение'] = final_df['Подразделение'].apply(lambda x: x.replace('\\r', ' '))"
   ]
  },
  {
   "cell_type": "code",
   "execution_count": 218,
   "id": "48a48a21",
   "metadata": {
    "ExecuteTime": {
     "end_time": "2021-12-16T21:46:20.702279Z",
     "start_time": "2021-12-16T21:46:20.682189Z"
    }
   },
   "outputs": [
    {
     "data": {
      "text/html": [
       "<div>\n",
       "<style scoped>\n",
       "    .dataframe tbody tr th:only-of-type {\n",
       "        vertical-align: middle;\n",
       "    }\n",
       "\n",
       "    .dataframe tbody tr th {\n",
       "        vertical-align: top;\n",
       "    }\n",
       "\n",
       "    .dataframe thead th {\n",
       "        text-align: right;\n",
       "    }\n",
       "</style>\n",
       "<table border=\"1\" class=\"dataframe\">\n",
       "  <thead>\n",
       "    <tr style=\"text-align: right;\">\n",
       "      <th></th>\n",
       "      <th>Код</th>\n",
       "      <th>Направление</th>\n",
       "      <th>Образовательная программа</th>\n",
       "      <th>Подразделение</th>\n",
       "    </tr>\n",
       "  </thead>\n",
       "  <tbody>\n",
       "    <tr>\n",
       "      <th>4</th>\n",
       "      <td>01.03.02</td>\n",
       "      <td>Прикладная математика и информатика</td>\n",
       "      <td>Прикладные цифровые технологии (Школа ИТ- мене...</td>\n",
       "      <td>Школа ИТ- менеджмента ЭМИТ</td>\n",
       "    </tr>\n",
       "    <tr>\n",
       "      <th>11</th>\n",
       "      <td>09.03.03</td>\n",
       "      <td>Прикладная информатика</td>\n",
       "      <td>1. Прикладная информатика в экономике (ФИТАД Э...</td>\n",
       "      <td>ФИТАД ЭМИТ</td>\n",
       "    </tr>\n",
       "    <tr>\n",
       "      <th>24</th>\n",
       "      <td>09.03.03</td>\n",
       "      <td>Прикладная информатика</td>\n",
       "      <td>Прикладная информатика в цифровой экономике (Ф...</td>\n",
       "      <td>ФИТАД ЭМИТ</td>\n",
       "    </tr>\n",
       "    <tr>\n",
       "      <th>41</th>\n",
       "      <td>09.03.03</td>\n",
       "      <td>Прикладная информатика</td>\n",
       "      <td>Системы искусственного интеллекта (прикладная ...</td>\n",
       "      <td>ФИТАД ЭМИТ</td>\n",
       "    </tr>\n",
       "    <tr>\n",
       "      <th>54</th>\n",
       "      <td>09.03.03</td>\n",
       "      <td>Прикладная информатика</td>\n",
       "      <td>Анализ данных (ФИТАД ЭМИТ)</td>\n",
       "      <td>ФИТАД ЭМИТ</td>\n",
       "    </tr>\n",
       "  </tbody>\n",
       "</table>\n",
       "</div>"
      ],
      "text/plain": [
       "         Код                          Направление  \\\n",
       "4   01.03.02  Прикладная математика и информатика   \n",
       "11  09.03.03               Прикладная информатика   \n",
       "24  09.03.03               Прикладная информатика   \n",
       "41  09.03.03               Прикладная информатика   \n",
       "54  09.03.03               Прикладная информатика   \n",
       "\n",
       "                            Образовательная программа  \\\n",
       "4   Прикладные цифровые технологии (Школа ИТ- мене...   \n",
       "11  1. Прикладная информатика в экономике (ФИТАД Э...   \n",
       "24  Прикладная информатика в цифровой экономике (Ф...   \n",
       "41  Системы искусственного интеллекта (прикладная ...   \n",
       "54                         Анализ данных (ФИТАД ЭМИТ)   \n",
       "\n",
       "                 Подразделение  \n",
       "4   Школа ИТ- менеджмента ЭМИТ  \n",
       "11                  ФИТАД ЭМИТ  \n",
       "24                  ФИТАД ЭМИТ  \n",
       "41                  ФИТАД ЭМИТ  \n",
       "54                  ФИТАД ЭМИТ  "
      ]
     },
     "execution_count": 218,
     "metadata": {},
     "output_type": "execute_result"
    }
   ],
   "source": [
    "final_df.head()"
   ]
  },
  {
   "cell_type": "markdown",
   "id": "1ae7428b",
   "metadata": {},
   "source": [
    "Приведем столбец `Образовательная программа` в нужный вид"
   ]
  },
  {
   "cell_type": "code",
   "execution_count": 219,
   "id": "1da659ce",
   "metadata": {
    "ExecuteTime": {
     "end_time": "2021-12-16T21:46:21.899430Z",
     "start_time": "2021-12-16T21:46:21.889064Z"
    }
   },
   "outputs": [],
   "source": [
    "def func3(x):\n",
    "    return x['Образовательная программа'].replace(f'({x[\"Подразделение\"]})', '')"
   ]
  },
  {
   "cell_type": "code",
   "execution_count": 220,
   "id": "246cd62c",
   "metadata": {
    "ExecuteTime": {
     "end_time": "2021-12-16T21:46:22.157702Z",
     "start_time": "2021-12-16T21:46:22.145443Z"
    }
   },
   "outputs": [],
   "source": [
    "final_df['Образовательная программа'] = final_df.apply(lambda x: func3(x), axis=1)"
   ]
  },
  {
   "cell_type": "code",
   "execution_count": 221,
   "id": "28478289",
   "metadata": {
    "ExecuteTime": {
     "end_time": "2021-12-16T21:46:22.306596Z",
     "start_time": "2021-12-16T21:46:22.300537Z"
    }
   },
   "outputs": [],
   "source": [
    "final_df['Образовательная программа'] = final_df['Образовательная программа'].apply(lambda x: x.split('.'))"
   ]
  },
  {
   "cell_type": "code",
   "execution_count": 222,
   "id": "afa8a2e2",
   "metadata": {
    "ExecuteTime": {
     "end_time": "2021-12-16T21:46:22.448543Z",
     "start_time": "2021-12-16T21:46:22.438652Z"
    }
   },
   "outputs": [],
   "source": [
    "final_df = final_df.explode('Образовательная программа')"
   ]
  },
  {
   "cell_type": "code",
   "execution_count": 223,
   "id": "3fe48e9d",
   "metadata": {
    "ExecuteTime": {
     "end_time": "2021-12-16T21:46:22.763144Z",
     "start_time": "2021-12-16T21:46:22.755261Z"
    }
   },
   "outputs": [],
   "source": [
    "final_df = final_df[~final_df['Образовательная программа'].apply(lambda x: x.isdigit())]"
   ]
  },
  {
   "cell_type": "code",
   "execution_count": 224,
   "id": "87e4539d",
   "metadata": {
    "ExecuteTime": {
     "end_time": "2021-12-16T21:46:22.970783Z",
     "start_time": "2021-12-16T21:46:22.963634Z"
    }
   },
   "outputs": [],
   "source": [
    "final_df['Образовательная программа'] = final_df['Образовательная программа'].apply(lambda x: x.rstrip(' 1234567890'))"
   ]
  },
  {
   "cell_type": "code",
   "execution_count": 225,
   "id": "399c7958",
   "metadata": {
    "ExecuteTime": {
     "end_time": "2021-12-16T21:46:23.205288Z",
     "start_time": "2021-12-16T21:46:23.183374Z"
    }
   },
   "outputs": [
    {
     "data": {
      "text/html": [
       "<div>\n",
       "<style scoped>\n",
       "    .dataframe tbody tr th:only-of-type {\n",
       "        vertical-align: middle;\n",
       "    }\n",
       "\n",
       "    .dataframe tbody tr th {\n",
       "        vertical-align: top;\n",
       "    }\n",
       "\n",
       "    .dataframe thead th {\n",
       "        text-align: right;\n",
       "    }\n",
       "</style>\n",
       "<table border=\"1\" class=\"dataframe\">\n",
       "  <thead>\n",
       "    <tr style=\"text-align: right;\">\n",
       "      <th></th>\n",
       "      <th>Код</th>\n",
       "      <th>Направление</th>\n",
       "      <th>Образовательная программа</th>\n",
       "      <th>Подразделение</th>\n",
       "    </tr>\n",
       "  </thead>\n",
       "  <tbody>\n",
       "    <tr>\n",
       "      <th>4</th>\n",
       "      <td>01.03.02</td>\n",
       "      <td>Прикладная математика и информатика</td>\n",
       "      <td>Прикладные цифровые технологии</td>\n",
       "      <td>Школа ИТ- менеджмента ЭМИТ</td>\n",
       "    </tr>\n",
       "    <tr>\n",
       "      <th>11</th>\n",
       "      <td>09.03.03</td>\n",
       "      <td>Прикладная информатика</td>\n",
       "      <td>Прикладная информатика в экономике</td>\n",
       "      <td>ФИТАД ЭМИТ</td>\n",
       "    </tr>\n",
       "    <tr>\n",
       "      <th>11</th>\n",
       "      <td>09.03.03</td>\n",
       "      <td>Прикладная информатика</td>\n",
       "      <td>Цифровые технологии</td>\n",
       "      <td>ФИТАД ЭМИТ</td>\n",
       "    </tr>\n",
       "    <tr>\n",
       "      <th>11</th>\n",
       "      <td>09.03.03</td>\n",
       "      <td>Прикладная информатика</td>\n",
       "      <td>Прикладная информатика в информационной безоп...</td>\n",
       "      <td>ФИТАД ЭМИТ</td>\n",
       "    </tr>\n",
       "    <tr>\n",
       "      <th>24</th>\n",
       "      <td>09.03.03</td>\n",
       "      <td>Прикладная информатика</td>\n",
       "      <td>Прикладная информатика в цифровой экономике</td>\n",
       "      <td>ФИТАД ЭМИТ</td>\n",
       "    </tr>\n",
       "    <tr>\n",
       "      <th>...</th>\n",
       "      <td>...</td>\n",
       "      <td>...</td>\n",
       "      <td>...</td>\n",
       "      <td>...</td>\n",
       "    </tr>\n",
       "    <tr>\n",
       "      <th>1062</th>\n",
       "      <td>38.05.01</td>\n",
       "      <td>Экономическая безопасность</td>\n",
       "      <td>Обеспечение экономической безопасности бизнеса</td>\n",
       "      <td>ФНБ ИПНБ</td>\n",
       "    </tr>\n",
       "    <tr>\n",
       "      <th>1073</th>\n",
       "      <td>38.05.02</td>\n",
       "      <td>Таможенное дело</td>\n",
       "      <td>Организация таможенного контроля</td>\n",
       "      <td>ФТД ИПНБ</td>\n",
       "    </tr>\n",
       "    <tr>\n",
       "      <th>1073</th>\n",
       "      <td>38.05.02</td>\n",
       "      <td>Таможенное дело</td>\n",
       "      <td>Таможенные платежи и валютное регулирование</td>\n",
       "      <td>ФТД ИПНБ</td>\n",
       "    </tr>\n",
       "    <tr>\n",
       "      <th>1073</th>\n",
       "      <td>38.05.02</td>\n",
       "      <td>Таможенное дело</td>\n",
       "      <td>Внешнеторговая, транспортная и таможенная лог...</td>\n",
       "      <td>ФТД ИПНБ</td>\n",
       "    </tr>\n",
       "    <tr>\n",
       "      <th>1073</th>\n",
       "      <td>38.05.02</td>\n",
       "      <td>Таможенное дело</td>\n",
       "      <td>Организация логистики и управление цепями пос...</td>\n",
       "      <td>ФТД ИПНБ</td>\n",
       "    </tr>\n",
       "  </tbody>\n",
       "</table>\n",
       "<p>170 rows × 4 columns</p>\n",
       "</div>"
      ],
      "text/plain": [
       "           Код                          Направление  \\\n",
       "4     01.03.02  Прикладная математика и информатика   \n",
       "11    09.03.03               Прикладная информатика   \n",
       "11    09.03.03               Прикладная информатика   \n",
       "11    09.03.03               Прикладная информатика   \n",
       "24    09.03.03               Прикладная информатика   \n",
       "...        ...                                  ...   \n",
       "1062  38.05.01           Экономическая безопасность   \n",
       "1073  38.05.02                      Таможенное дело   \n",
       "1073  38.05.02                      Таможенное дело   \n",
       "1073  38.05.02                      Таможенное дело   \n",
       "1073  38.05.02                      Таможенное дело   \n",
       "\n",
       "                              Образовательная программа  \\\n",
       "4                        Прикладные цифровые технологии   \n",
       "11                   Прикладная информатика в экономике   \n",
       "11                                  Цифровые технологии   \n",
       "11     Прикладная информатика в информационной безоп...   \n",
       "24          Прикладная информатика в цифровой экономике   \n",
       "...                                                 ...   \n",
       "1062     Обеспечение экономической безопасности бизнеса   \n",
       "1073                   Организация таможенного контроля   \n",
       "1073        Таможенные платежи и валютное регулирование   \n",
       "1073   Внешнеторговая, транспортная и таможенная лог...   \n",
       "1073   Организация логистики и управление цепями пос...   \n",
       "\n",
       "                   Подразделение  \n",
       "4     Школа ИТ- менеджмента ЭМИТ  \n",
       "11                    ФИТАД ЭМИТ  \n",
       "11                    ФИТАД ЭМИТ  \n",
       "11                    ФИТАД ЭМИТ  \n",
       "24                    ФИТАД ЭМИТ  \n",
       "...                          ...  \n",
       "1062                    ФНБ ИПНБ  \n",
       "1073                    ФТД ИПНБ  \n",
       "1073                    ФТД ИПНБ  \n",
       "1073                    ФТД ИПНБ  \n",
       "1073                    ФТД ИПНБ  \n",
       "\n",
       "[170 rows x 4 columns]"
      ]
     },
     "execution_count": 225,
     "metadata": {},
     "output_type": "execute_result"
    }
   ],
   "source": [
    "final_df"
   ]
  },
  {
   "cell_type": "markdown",
   "id": "39b786f0",
   "metadata": {},
   "source": [
    "# Файл 2"
   ]
  },
  {
   "cell_type": "markdown",
   "id": "47388477",
   "metadata": {},
   "source": [
    "## Читаем файл"
   ]
  },
  {
   "cell_type": "code",
   "execution_count": 77,
   "id": "c40b8f22",
   "metadata": {
    "ExecuteTime": {
     "end_time": "2021-12-15T23:52:45.868740Z",
     "start_time": "2021-12-15T23:52:38.462876Z"
    },
    "collapsed": true
   },
   "outputs": [
    {
     "name": "stderr",
     "output_type": "stream",
     "text": [
      "Got stderr: дек 16, 2021 2:52:42 AM org.apache.pdfbox.pdmodel.font.PDSimpleFont toUnicode\n",
      "WARNING: No Unicode mapping for .notdef (9) in font TimesNewRomanPS-BoldMT\n",
      "\n"
     ]
    }
   ],
   "source": [
    "df_pdf2 = tabula.read_pdf('PP-2022-pril-2_fil.pdf', \n",
    "    pages= 'all',\n",
    "    lattice=True,\n",
    "    pandas_options={\"header\": [0, 1, 2, 3]},\n",
    "    #area=[0, 0, 50, 100],\n",
    "    relative_area=True,\n",
    "    #multiple_tables=False\n",
    "                        )\n",
    "\n",
    "df2 = df_pdf2[0]\n",
    "for df_temp in df_pdf2[1:]:\n",
    "    df2 = df2.append(df_temp,ignore_index=True)"
   ]
  },
  {
   "cell_type": "code",
   "execution_count": 147,
   "id": "d1124832",
   "metadata": {
    "ExecuteTime": {
     "end_time": "2021-12-16T00:26:45.297264Z",
     "start_time": "2021-12-16T00:26:45.273110Z"
    },
    "scrolled": false
   },
   "outputs": [
    {
     "data": {
      "text/html": [
       "<div>\n",
       "<style scoped>\n",
       "    .dataframe tbody tr th:only-of-type {\n",
       "        vertical-align: middle;\n",
       "    }\n",
       "\n",
       "    .dataframe tbody tr th {\n",
       "        vertical-align: top;\n",
       "    }\n",
       "\n",
       "    .dataframe thead th {\n",
       "        text-align: right;\n",
       "    }\n",
       "</style>\n",
       "<table border=\"1\" class=\"dataframe\">\n",
       "  <thead>\n",
       "    <tr style=\"text-align: right;\">\n",
       "      <th></th>\n",
       "      <th>0</th>\n",
       "      <th>1</th>\n",
       "      <th>2</th>\n",
       "      <th>3</th>\n",
       "      <th>4</th>\n",
       "      <th>5</th>\n",
       "      <th>6</th>\n",
       "      <th>7</th>\n",
       "      <th>8</th>\n",
       "      <th>9</th>\n",
       "      <th>...</th>\n",
       "      <th>19</th>\n",
       "      <th>20</th>\n",
       "      <th>21</th>\n",
       "      <th>22</th>\n",
       "      <th>23</th>\n",
       "      <th>24</th>\n",
       "      <th>25</th>\n",
       "      <th>26</th>\n",
       "      <th>27</th>\n",
       "      <th>28</th>\n",
       "    </tr>\n",
       "  </thead>\n",
       "  <tbody>\n",
       "    <tr>\n",
       "      <th>0</th>\n",
       "      <td>Код и наименование\\rнаправления подготовки/\\rс...</td>\n",
       "      <td>Форма обучения</td>\n",
       "      <td>Направленность (профиль/специализация)\\rобразо...</td>\n",
       "      <td>Условия\\rпоступления</td>\n",
       "      <td>для поступающих на базе\\rсреднего общего образ...</td>\n",
       "      <td>для поступающих на базе\\rсреднего профессионал...</td>\n",
       "      <td>для поступающих на базе\\rвысшего образования</td>\n",
       "      <td>Минимальное\\rколичество\\rбаллов</td>\n",
       "      <td>Количество\\rмест\\rдля приема\\r(включая\\rособую...</td>\n",
       "      <td>NaN</td>\n",
       "      <td>...</td>\n",
       "      <td>NaN</td>\n",
       "      <td>NaN</td>\n",
       "      <td>NaN</td>\n",
       "      <td>NaN</td>\n",
       "      <td>NaN</td>\n",
       "      <td>NaN</td>\n",
       "      <td>NaN</td>\n",
       "      <td>NaN</td>\n",
       "      <td>NaN</td>\n",
       "      <td>NaN</td>\n",
       "    </tr>\n",
       "    <tr>\n",
       "      <th>1</th>\n",
       "      <td>NaN</td>\n",
       "      <td>NaN</td>\n",
       "      <td>NaN</td>\n",
       "      <td>NaN</td>\n",
       "      <td>Наименование\\rвступительного\\rиспытания</td>\n",
       "      <td>Форма проведения\\rвступительного\\rиспытания</td>\n",
       "      <td>Наименование\\rвступительного\\rиспытания</td>\n",
       "      <td>Форма проведения\\rвступительного\\rиспытания</td>\n",
       "      <td>Наименование\\rвступительного\\rиспытания</td>\n",
       "      <td>Форма проведения\\rвступительного испытания</td>\n",
       "      <td>...</td>\n",
       "      <td>NaN</td>\n",
       "      <td>NaN</td>\n",
       "      <td>NaN</td>\n",
       "      <td>NaN</td>\n",
       "      <td>NaN</td>\n",
       "      <td>NaN</td>\n",
       "      <td>NaN</td>\n",
       "      <td>NaN</td>\n",
       "      <td>NaN</td>\n",
       "      <td>NaN</td>\n",
       "    </tr>\n",
       "    <tr>\n",
       "      <th>2</th>\n",
       "      <td>1</td>\n",
       "      <td>2</td>\n",
       "      <td>3</td>\n",
       "      <td>4</td>\n",
       "      <td>5</td>\n",
       "      <td>6</td>\n",
       "      <td>7</td>\n",
       "      <td>8</td>\n",
       "      <td>9</td>\n",
       "      <td>10</td>\n",
       "      <td>...</td>\n",
       "      <td>NaN</td>\n",
       "      <td>NaN</td>\n",
       "      <td>NaN</td>\n",
       "      <td>NaN</td>\n",
       "      <td>NaN</td>\n",
       "      <td>NaN</td>\n",
       "      <td>NaN</td>\n",
       "      <td>NaN</td>\n",
       "      <td>NaN</td>\n",
       "      <td>NaN</td>\n",
       "    </tr>\n",
       "    <tr>\n",
       "      <th>3</th>\n",
       "      <td>АЛТАЙСКИЙ ФИЛИАЛ</td>\n",
       "      <td>NaN</td>\n",
       "      <td>NaN</td>\n",
       "      <td>NaN</td>\n",
       "      <td>NaN</td>\n",
       "      <td>NaN</td>\n",
       "      <td>NaN</td>\n",
       "      <td>NaN</td>\n",
       "      <td>NaN</td>\n",
       "      <td>NaN</td>\n",
       "      <td>...</td>\n",
       "      <td>NaN</td>\n",
       "      <td>NaN</td>\n",
       "      <td>NaN</td>\n",
       "      <td>NaN</td>\n",
       "      <td>NaN</td>\n",
       "      <td>NaN</td>\n",
       "      <td>NaN</td>\n",
       "      <td>NaN</td>\n",
       "      <td>NaN</td>\n",
       "      <td>NaN</td>\n",
       "    </tr>\n",
       "    <tr>\n",
       "      <th>4</th>\n",
       "      <td>БАКАЛАВРИАТ</td>\n",
       "      <td>NaN</td>\n",
       "      <td>NaN</td>\n",
       "      <td>NaN</td>\n",
       "      <td>NaN</td>\n",
       "      <td>NaN</td>\n",
       "      <td>NaN</td>\n",
       "      <td>NaN</td>\n",
       "      <td>NaN</td>\n",
       "      <td>NaN</td>\n",
       "      <td>...</td>\n",
       "      <td>NaN</td>\n",
       "      <td>NaN</td>\n",
       "      <td>NaN</td>\n",
       "      <td>NaN</td>\n",
       "      <td>NaN</td>\n",
       "      <td>NaN</td>\n",
       "      <td>NaN</td>\n",
       "      <td>NaN</td>\n",
       "      <td>NaN</td>\n",
       "      <td>NaN</td>\n",
       "    </tr>\n",
       "    <tr>\n",
       "      <th>5</th>\n",
       "      <td>37.03.01\\rПсихология</td>\n",
       "      <td>очная</td>\n",
       "      <td>Образовательная программа:\\rПсихология управления</td>\n",
       "      <td>на места в рамках\\rконтрольных цифр\\rприема\\r(...</td>\n",
       "      <td>1. Биология</td>\n",
       "      <td>ЕГЭ\\rВИ для отдельных категорий\\rпоступающих*\\...</td>\n",
       "      <td>1. Биология</td>\n",
       "      <td>ЕГЭ\\rВИ для отдельных\\rкатегорий поступающих*\\...</td>\n",
       "      <td>1. Биология</td>\n",
       "      <td>ЕГЭ\\rВИ для отдельных категорий\\rпоступающих*\\...</td>\n",
       "      <td>...</td>\n",
       "      <td>NaN</td>\n",
       "      <td>NaN</td>\n",
       "      <td>NaN</td>\n",
       "      <td>NaN</td>\n",
       "      <td>NaN</td>\n",
       "      <td>NaN</td>\n",
       "      <td>NaN</td>\n",
       "      <td>NaN</td>\n",
       "      <td>NaN</td>\n",
       "      <td>NaN</td>\n",
       "    </tr>\n",
       "    <tr>\n",
       "      <th>6</th>\n",
       "      <td>NaN</td>\n",
       "      <td>NaN</td>\n",
       "      <td>NaN</td>\n",
       "      <td>NaN</td>\n",
       "      <td>2. Математика (профильная)</td>\n",
       "      <td>2. Математика (профильная)</td>\n",
       "      <td>2. Математика (профильная)</td>\n",
       "      <td>27</td>\n",
       "      <td>NaN</td>\n",
       "      <td>NaN</td>\n",
       "      <td>...</td>\n",
       "      <td>NaN</td>\n",
       "      <td>NaN</td>\n",
       "      <td>NaN</td>\n",
       "      <td>NaN</td>\n",
       "      <td>NaN</td>\n",
       "      <td>NaN</td>\n",
       "      <td>NaN</td>\n",
       "      <td>NaN</td>\n",
       "      <td>NaN</td>\n",
       "      <td>NaN</td>\n",
       "    </tr>\n",
       "    <tr>\n",
       "      <th>7</th>\n",
       "      <td>NaN</td>\n",
       "      <td>NaN</td>\n",
       "      <td>NaN</td>\n",
       "      <td>NaN</td>\n",
       "      <td>3. Русский язык</td>\n",
       "      <td>3. Русский язык</td>\n",
       "      <td>3. Русский язык</td>\n",
       "      <td>36</td>\n",
       "      <td>NaN</td>\n",
       "      <td>NaN</td>\n",
       "      <td>...</td>\n",
       "      <td>NaN</td>\n",
       "      <td>NaN</td>\n",
       "      <td>NaN</td>\n",
       "      <td>NaN</td>\n",
       "      <td>NaN</td>\n",
       "      <td>NaN</td>\n",
       "      <td>NaN</td>\n",
       "      <td>NaN</td>\n",
       "      <td>NaN</td>\n",
       "      <td>NaN</td>\n",
       "    </tr>\n",
       "  </tbody>\n",
       "</table>\n",
       "<p>8 rows × 29 columns</p>\n",
       "</div>"
      ],
      "text/plain": [
       "                                                  0               1   \\\n",
       "0  Код и наименование\\rнаправления подготовки/\\rс...  Форма обучения   \n",
       "1                                                NaN             NaN   \n",
       "2                                                  1               2   \n",
       "3                                   АЛТАЙСКИЙ ФИЛИАЛ             NaN   \n",
       "4                                        БАКАЛАВРИАТ             NaN   \n",
       "5                               37.03.01\\rПсихология           очная   \n",
       "6                                                NaN             NaN   \n",
       "7                                                NaN             NaN   \n",
       "\n",
       "                                                  2   \\\n",
       "0  Направленность (профиль/специализация)\\rобразо...   \n",
       "1                                                NaN   \n",
       "2                                                  3   \n",
       "3                                                NaN   \n",
       "4                                                NaN   \n",
       "5  Образовательная программа:\\rПсихология управления   \n",
       "6                                                NaN   \n",
       "7                                                NaN   \n",
       "\n",
       "                                                  3   \\\n",
       "0                               Условия\\rпоступления   \n",
       "1                                                NaN   \n",
       "2                                                  4   \n",
       "3                                                NaN   \n",
       "4                                                NaN   \n",
       "5  на места в рамках\\rконтрольных цифр\\rприема\\r(...   \n",
       "6                                                NaN   \n",
       "7                                                NaN   \n",
       "\n",
       "                                                  4   \\\n",
       "0  для поступающих на базе\\rсреднего общего образ...   \n",
       "1            Наименование\\rвступительного\\rиспытания   \n",
       "2                                                  5   \n",
       "3                                                NaN   \n",
       "4                                                NaN   \n",
       "5                                        1. Биология   \n",
       "6                         2. Математика (профильная)   \n",
       "7                                    3. Русский язык   \n",
       "\n",
       "                                                  5   \\\n",
       "0  для поступающих на базе\\rсреднего профессионал...   \n",
       "1        Форма проведения\\rвступительного\\rиспытания   \n",
       "2                                                  6   \n",
       "3                                                NaN   \n",
       "4                                                NaN   \n",
       "5  ЕГЭ\\rВИ для отдельных категорий\\rпоступающих*\\...   \n",
       "6                         2. Математика (профильная)   \n",
       "7                                    3. Русский язык   \n",
       "\n",
       "                                             6   \\\n",
       "0  для поступающих на базе\\rвысшего образования   \n",
       "1       Наименование\\rвступительного\\rиспытания   \n",
       "2                                             7   \n",
       "3                                           NaN   \n",
       "4                                           NaN   \n",
       "5                                   1. Биология   \n",
       "6                    2. Математика (профильная)   \n",
       "7                               3. Русский язык   \n",
       "\n",
       "                                                  7   \\\n",
       "0                    Минимальное\\rколичество\\rбаллов   \n",
       "1        Форма проведения\\rвступительного\\rиспытания   \n",
       "2                                                  8   \n",
       "3                                                NaN   \n",
       "4                                                NaN   \n",
       "5  ЕГЭ\\rВИ для отдельных\\rкатегорий поступающих*\\...   \n",
       "6                                                 27   \n",
       "7                                                 36   \n",
       "\n",
       "                                                  8   \\\n",
       "0  Количество\\rмест\\rдля приема\\r(включая\\rособую...   \n",
       "1            Наименование\\rвступительного\\rиспытания   \n",
       "2                                                  9   \n",
       "3                                                NaN   \n",
       "4                                                NaN   \n",
       "5                                        1. Биология   \n",
       "6                                                NaN   \n",
       "7                                                NaN   \n",
       "\n",
       "                                                  9   ...   19  20   21  22  \\\n",
       "0                                                NaN  ...  NaN NaN  NaN NaN   \n",
       "1         Форма проведения\\rвступительного испытания  ...  NaN NaN  NaN NaN   \n",
       "2                                                 10  ...  NaN NaN  NaN NaN   \n",
       "3                                                NaN  ...  NaN NaN  NaN NaN   \n",
       "4                                                NaN  ...  NaN NaN  NaN NaN   \n",
       "5  ЕГЭ\\rВИ для отдельных категорий\\rпоступающих*\\...  ...  NaN NaN  NaN NaN   \n",
       "6                                                NaN  ...  NaN NaN  NaN NaN   \n",
       "7                                                NaN  ...  NaN NaN  NaN NaN   \n",
       "\n",
       "    23  24  25  26  27  28  \n",
       "0  NaN NaN NaN NaN NaN NaN  \n",
       "1  NaN NaN NaN NaN NaN NaN  \n",
       "2  NaN NaN NaN NaN NaN NaN  \n",
       "3  NaN NaN NaN NaN NaN NaN  \n",
       "4  NaN NaN NaN NaN NaN NaN  \n",
       "5  NaN NaN NaN NaN NaN NaN  \n",
       "6  NaN NaN NaN NaN NaN NaN  \n",
       "7  NaN NaN NaN NaN NaN NaN  \n",
       "\n",
       "[8 rows x 29 columns]"
      ]
     },
     "execution_count": 147,
     "metadata": {},
     "output_type": "execute_result"
    }
   ],
   "source": [
    "df2.head(8)"
   ]
  },
  {
   "cell_type": "code",
   "execution_count": null,
   "id": "4250610b",
   "metadata": {},
   "outputs": [],
   "source": []
  },
  {
   "cell_type": "markdown",
   "id": "20414c8c",
   "metadata": {},
   "source": [
    "## Агрегируем колонки\n",
    "\n",
    "Здесь все агрегируется по тому же принципу, что и в первом файле. Кроме подразделения."
   ]
  },
  {
   "cell_type": "code",
   "execution_count": 235,
   "id": "27927c3c",
   "metadata": {
    "ExecuteTime": {
     "end_time": "2021-12-16T21:49:06.828812Z",
     "start_time": "2021-12-16T21:49:06.817399Z"
    }
   },
   "outputs": [],
   "source": [
    "final_df2 = pd.DataFrame()"
   ]
  },
  {
   "cell_type": "code",
   "execution_count": 236,
   "id": "43b6e805",
   "metadata": {
    "ExecuteTime": {
     "end_time": "2021-12-16T21:49:07.014251Z",
     "start_time": "2021-12-16T21:49:06.996065Z"
    }
   },
   "outputs": [],
   "source": [
    "final_df2['Код'] = df2[df2[0].notna()][0].apply(lambda x: x[:8])"
   ]
  },
  {
   "cell_type": "code",
   "execution_count": 237,
   "id": "14a4d00c",
   "metadata": {
    "ExecuteTime": {
     "end_time": "2021-12-16T21:49:07.164131Z",
     "start_time": "2021-12-16T21:49:07.153166Z"
    }
   },
   "outputs": [],
   "source": [
    "final_df2['Код'] = final_df2['Код'].apply(lambda x: func(x))"
   ]
  },
  {
   "cell_type": "code",
   "execution_count": 238,
   "id": "7d5ccae9",
   "metadata": {
    "ExecuteTime": {
     "end_time": "2021-12-16T21:49:07.318736Z",
     "start_time": "2021-12-16T21:49:07.312321Z"
    }
   },
   "outputs": [],
   "source": [
    "final_df2 = final_df2[final_df2['Код'] != 0]"
   ]
  },
  {
   "cell_type": "code",
   "execution_count": 239,
   "id": "024b90ee",
   "metadata": {
    "ExecuteTime": {
     "end_time": "2021-12-16T21:49:07.505732Z",
     "start_time": "2021-12-16T21:49:07.494736Z"
    },
    "scrolled": true
   },
   "outputs": [],
   "source": [
    "final_df2['Направление'] = df2.loc[final_df2.index, 0]\n",
    "\n",
    "final_df2['Направление'] = final_df2['Направление'].apply(lambda x: ' '.join(x.split('\\r')[1:]))"
   ]
  },
  {
   "cell_type": "code",
   "execution_count": 240,
   "id": "93492159",
   "metadata": {
    "ExecuteTime": {
     "end_time": "2021-12-16T21:49:07.844369Z",
     "start_time": "2021-12-16T21:49:07.831318Z"
    }
   },
   "outputs": [],
   "source": [
    "final_df2['Образовательная программа'] = df2.loc[final_df2.index, 2].apply(lambda x: ' '.join(x.split('\\r')[1:]))"
   ]
  },
  {
   "cell_type": "markdown",
   "id": "4d7cc0a2",
   "metadata": {},
   "source": [
    "Чтобы задать подразделение под кажду программу необходимо пробежаться по всем названиям филиалов и вставить для каждой программы соответствующий филиал в зависимости от индекса."
   ]
  },
  {
   "cell_type": "code",
   "execution_count": 241,
   "id": "255ac1b1",
   "metadata": {
    "ExecuteTime": {
     "end_time": "2021-12-16T21:49:08.464097Z",
     "start_time": "2021-12-16T21:49:08.452710Z"
    }
   },
   "outputs": [],
   "source": [
    "final_df2['Подразделение'] = ''"
   ]
  },
  {
   "cell_type": "code",
   "execution_count": 242,
   "id": "e91b0286",
   "metadata": {
    "ExecuteTime": {
     "end_time": "2021-12-16T21:49:08.786472Z",
     "start_time": "2021-12-16T21:49:08.767760Z"
    },
    "scrolled": true
   },
   "outputs": [],
   "source": [
    "df_filials = df2[df2[0].notna()][df2[df2[0].notna()][0].str.contains('ФИЛИАЛ')][[0]]"
   ]
  },
  {
   "cell_type": "code",
   "execution_count": 243,
   "id": "f16ac3a7",
   "metadata": {
    "ExecuteTime": {
     "end_time": "2021-12-16T21:49:10.757859Z",
     "start_time": "2021-12-16T21:49:10.741151Z"
    }
   },
   "outputs": [
    {
     "data": {
      "text/html": [
       "<div>\n",
       "<style scoped>\n",
       "    .dataframe tbody tr th:only-of-type {\n",
       "        vertical-align: middle;\n",
       "    }\n",
       "\n",
       "    .dataframe tbody tr th {\n",
       "        vertical-align: top;\n",
       "    }\n",
       "\n",
       "    .dataframe thead th {\n",
       "        text-align: right;\n",
       "    }\n",
       "</style>\n",
       "<table border=\"1\" class=\"dataframe\">\n",
       "  <thead>\n",
       "    <tr style=\"text-align: right;\">\n",
       "      <th></th>\n",
       "      <th>0</th>\n",
       "    </tr>\n",
       "  </thead>\n",
       "  <tbody>\n",
       "    <tr>\n",
       "      <th>3</th>\n",
       "      <td>АЛТАЙСКИЙ ФИЛИАЛ</td>\n",
       "    </tr>\n",
       "    <tr>\n",
       "      <th>71</th>\n",
       "      <td>АСТРАХАНСКИЙ ФИЛИАЛ</td>\n",
       "    </tr>\n",
       "    <tr>\n",
       "      <th>103</th>\n",
       "      <td>БАЛАКОВСКИЙ ФИЛИАЛ</td>\n",
       "    </tr>\n",
       "    <tr>\n",
       "      <th>153</th>\n",
       "      <td>БРЯНСКИЙ ФИЛИАЛ</td>\n",
       "    </tr>\n",
       "    <tr>\n",
       "      <th>198</th>\n",
       "      <td>ВЛАДИМИРСКИЙ ФИЛИАЛ</td>\n",
       "    </tr>\n",
       "  </tbody>\n",
       "</table>\n",
       "</div>"
      ],
      "text/plain": [
       "                       0\n",
       "3       АЛТАЙСКИЙ ФИЛИАЛ\n",
       "71   АСТРАХАНСКИЙ ФИЛИАЛ\n",
       "103   БАЛАКОВСКИЙ ФИЛИАЛ\n",
       "153      БРЯНСКИЙ ФИЛИАЛ\n",
       "198  ВЛАДИМИРСКИЙ ФИЛИАЛ"
      ]
     },
     "execution_count": 243,
     "metadata": {},
     "output_type": "execute_result"
    }
   ],
   "source": [
    "df_filials.head()"
   ]
  },
  {
   "cell_type": "markdown",
   "id": "4ed702f1",
   "metadata": {},
   "source": [
    "Заполним все филиалы для каждого направления"
   ]
  },
  {
   "cell_type": "code",
   "execution_count": 244,
   "id": "867b872a",
   "metadata": {
    "ExecuteTime": {
     "end_time": "2021-12-16T21:49:11.528376Z",
     "start_time": "2021-12-16T21:49:11.487090Z"
    }
   },
   "outputs": [],
   "source": [
    "filial_1 = list(df_filials[0])[0]\n",
    "for filial in list(df_filials[0])[1:]:\n",
    "    start_index = (df_filials[df_filials[0] == filial_1]).index[0]\n",
    "    end_index = (df_filials[df_filials[0] == filial]).index[0]\n",
    "    \n",
    "    final_df2.loc[(final_df2.index > start_index)&(final_df2.index < end_index)\n",
    "                    ,'Подразделение'] = filial_1\n",
    "    \n",
    "    filial_1 = filial\n",
    "\n",
    "final_df2.loc[(final_df2.index > end_index),'Подразделение'] = filial_1"
   ]
  },
  {
   "cell_type": "code",
   "execution_count": 245,
   "id": "c30b4609",
   "metadata": {
    "ExecuteTime": {
     "end_time": "2021-12-16T21:49:11.986292Z",
     "start_time": "2021-12-16T21:49:11.968296Z"
    }
   },
   "outputs": [
    {
     "data": {
      "text/html": [
       "<div>\n",
       "<style scoped>\n",
       "    .dataframe tbody tr th:only-of-type {\n",
       "        vertical-align: middle;\n",
       "    }\n",
       "\n",
       "    .dataframe tbody tr th {\n",
       "        vertical-align: top;\n",
       "    }\n",
       "\n",
       "    .dataframe thead th {\n",
       "        text-align: right;\n",
       "    }\n",
       "</style>\n",
       "<table border=\"1\" class=\"dataframe\">\n",
       "  <thead>\n",
       "    <tr style=\"text-align: right;\">\n",
       "      <th></th>\n",
       "      <th>Код</th>\n",
       "      <th>Направление</th>\n",
       "      <th>Образовательная программа</th>\n",
       "      <th>Подразделение</th>\n",
       "    </tr>\n",
       "  </thead>\n",
       "  <tbody>\n",
       "    <tr>\n",
       "      <th>5</th>\n",
       "      <td>37.03.01</td>\n",
       "      <td>Психология</td>\n",
       "      <td>Психология управления</td>\n",
       "      <td>АЛТАЙСКИЙ ФИЛИАЛ</td>\n",
       "    </tr>\n",
       "    <tr>\n",
       "      <th>8</th>\n",
       "      <td>37.03.01</td>\n",
       "      <td>Психология</td>\n",
       "      <td>Психология управления</td>\n",
       "      <td>АЛТАЙСКИЙ ФИЛИАЛ</td>\n",
       "    </tr>\n",
       "    <tr>\n",
       "      <th>11</th>\n",
       "      <td>38.03.01</td>\n",
       "      <td>Экономика</td>\n",
       "      <td>1. Экономика и управление финансами 2. Налоги ...</td>\n",
       "      <td>АЛТАЙСКИЙ ФИЛИАЛ</td>\n",
       "    </tr>\n",
       "    <tr>\n",
       "      <th>14</th>\n",
       "      <td>38.03.01</td>\n",
       "      <td>Экономика</td>\n",
       "      <td>1. Экономика и управление финансами 2. Налоги ...</td>\n",
       "      <td>АЛТАЙСКИЙ ФИЛИАЛ</td>\n",
       "    </tr>\n",
       "    <tr>\n",
       "      <th>17</th>\n",
       "      <td>38.03.04</td>\n",
       "      <td>Государственное и муниципальное управление</td>\n",
       "      <td>Административное управление</td>\n",
       "      <td>АЛТАЙСКИЙ ФИЛИАЛ</td>\n",
       "    </tr>\n",
       "  </tbody>\n",
       "</table>\n",
       "</div>"
      ],
      "text/plain": [
       "         Код                                 Направление  \\\n",
       "5   37.03.01                                  Психология   \n",
       "8   37.03.01                                  Психология   \n",
       "11  38.03.01                                   Экономика   \n",
       "14  38.03.01                                   Экономика   \n",
       "17  38.03.04  Государственное и муниципальное управление   \n",
       "\n",
       "                            Образовательная программа     Подразделение  \n",
       "5                               Психология управления  АЛТАЙСКИЙ ФИЛИАЛ  \n",
       "8                               Психология управления  АЛТАЙСКИЙ ФИЛИАЛ  \n",
       "11  1. Экономика и управление финансами 2. Налоги ...  АЛТАЙСКИЙ ФИЛИАЛ  \n",
       "14  1. Экономика и управление финансами 2. Налоги ...  АЛТАЙСКИЙ ФИЛИАЛ  \n",
       "17                        Административное управление  АЛТАЙСКИЙ ФИЛИАЛ  "
      ]
     },
     "execution_count": 245,
     "metadata": {},
     "output_type": "execute_result"
    }
   ],
   "source": [
    "final_df2.head()"
   ]
  },
  {
   "cell_type": "markdown",
   "id": "d940116e",
   "metadata": {},
   "source": [
    "Приведем столбец `Образовательная программа` в нужный вид"
   ]
  },
  {
   "cell_type": "code",
   "execution_count": 246,
   "id": "76e15140",
   "metadata": {
    "ExecuteTime": {
     "end_time": "2021-12-16T21:49:25.458560Z",
     "start_time": "2021-12-16T21:49:25.447280Z"
    }
   },
   "outputs": [],
   "source": [
    "final_df2['Образовательная программа'] = final_df2['Образовательная программа'].apply(lambda x: x.split('.'))"
   ]
  },
  {
   "cell_type": "code",
   "execution_count": 247,
   "id": "22ff90ec",
   "metadata": {
    "ExecuteTime": {
     "end_time": "2021-12-16T21:49:25.828924Z",
     "start_time": "2021-12-16T21:49:25.814616Z"
    }
   },
   "outputs": [],
   "source": [
    "final_df2 = final_df2.explode('Образовательная программа')"
   ]
  },
  {
   "cell_type": "code",
   "execution_count": 248,
   "id": "cefe8d1d",
   "metadata": {
    "ExecuteTime": {
     "end_time": "2021-12-16T21:49:26.071214Z",
     "start_time": "2021-12-16T21:49:26.063063Z"
    }
   },
   "outputs": [],
   "source": [
    "final_df2 = final_df2[~final_df2['Образовательная программа'].apply(lambda x: x.isdigit())]"
   ]
  },
  {
   "cell_type": "code",
   "execution_count": 249,
   "id": "4a5371b9",
   "metadata": {
    "ExecuteTime": {
     "end_time": "2021-12-16T21:49:26.343728Z",
     "start_time": "2021-12-16T21:49:26.335861Z"
    }
   },
   "outputs": [],
   "source": [
    "final_df2['Образовательная программа'] = final_df2['Образовательная программа'].apply(lambda x: x.rstrip(' 1234567890'))"
   ]
  },
  {
   "cell_type": "code",
   "execution_count": 250,
   "id": "1b52b644",
   "metadata": {
    "ExecuteTime": {
     "end_time": "2021-12-16T21:49:27.279404Z",
     "start_time": "2021-12-16T21:49:27.257732Z"
    }
   },
   "outputs": [
    {
     "data": {
      "text/html": [
       "<div>\n",
       "<style scoped>\n",
       "    .dataframe tbody tr th:only-of-type {\n",
       "        vertical-align: middle;\n",
       "    }\n",
       "\n",
       "    .dataframe tbody tr th {\n",
       "        vertical-align: top;\n",
       "    }\n",
       "\n",
       "    .dataframe thead th {\n",
       "        text-align: right;\n",
       "    }\n",
       "</style>\n",
       "<table border=\"1\" class=\"dataframe\">\n",
       "  <thead>\n",
       "    <tr style=\"text-align: right;\">\n",
       "      <th></th>\n",
       "      <th>Код</th>\n",
       "      <th>Направление</th>\n",
       "      <th>Образовательная программа</th>\n",
       "      <th>Подразделение</th>\n",
       "    </tr>\n",
       "  </thead>\n",
       "  <tbody>\n",
       "    <tr>\n",
       "      <th>5</th>\n",
       "      <td>37.03.01</td>\n",
       "      <td>Психология</td>\n",
       "      <td>Психология управления</td>\n",
       "      <td>АЛТАЙСКИЙ ФИЛИАЛ</td>\n",
       "    </tr>\n",
       "    <tr>\n",
       "      <th>8</th>\n",
       "      <td>37.03.01</td>\n",
       "      <td>Психология</td>\n",
       "      <td>Психология управления</td>\n",
       "      <td>АЛТАЙСКИЙ ФИЛИАЛ</td>\n",
       "    </tr>\n",
       "    <tr>\n",
       "      <th>11</th>\n",
       "      <td>38.03.01</td>\n",
       "      <td>Экономика</td>\n",
       "      <td>Экономика и управление финансами</td>\n",
       "      <td>АЛТАЙСКИЙ ФИЛИАЛ</td>\n",
       "    </tr>\n",
       "    <tr>\n",
       "      <th>11</th>\n",
       "      <td>38.03.01</td>\n",
       "      <td>Экономика</td>\n",
       "      <td>Налоги и налогообложение</td>\n",
       "      <td>АЛТАЙСКИЙ ФИЛИАЛ</td>\n",
       "    </tr>\n",
       "    <tr>\n",
       "      <th>14</th>\n",
       "      <td>38.03.01</td>\n",
       "      <td>Экономика</td>\n",
       "      <td>Экономика и управление финансами</td>\n",
       "      <td>АЛТАЙСКИЙ ФИЛИАЛ</td>\n",
       "    </tr>\n",
       "    <tr>\n",
       "      <th>...</th>\n",
       "      <td>...</td>\n",
       "      <td>...</td>\n",
       "      <td>...</td>\n",
       "      <td>...</td>\n",
       "    </tr>\n",
       "    <tr>\n",
       "      <th>2873</th>\n",
       "      <td>40.05.01</td>\n",
       "      <td>Правовое обеспечение национальной безопасности</td>\n",
       "      <td>Государственно-правовая специализация</td>\n",
       "      <td>ЮЖНО-РОССИЙСКИЙ ИНСТИТУТ УПРАВЛЕНИЯ - ФИЛИАЛ</td>\n",
       "    </tr>\n",
       "    <tr>\n",
       "      <th>2879</th>\n",
       "      <td>38.05.01</td>\n",
       "      <td>Экономическая безопасность</td>\n",
       "      <td>Экономико-правовое обеспечение экономической б...</td>\n",
       "      <td>ЮЖНО-РОССИЙСКИЙ ИНСТИТУТ УПРАВЛЕНИЯ - ФИЛИАЛ</td>\n",
       "    </tr>\n",
       "    <tr>\n",
       "      <th>2885</th>\n",
       "      <td>40.05.01</td>\n",
       "      <td>Правовое обеспечение национальной безопасности</td>\n",
       "      <td>Гражданско-правовая специализация</td>\n",
       "      <td>ЮЖНО-РОССИЙСКИЙ ИНСТИТУТ УПРАВЛЕНИЯ - ФИЛИАЛ</td>\n",
       "    </tr>\n",
       "    <tr>\n",
       "      <th>2885</th>\n",
       "      <td>40.05.01</td>\n",
       "      <td>Правовое обеспечение национальной безопасности</td>\n",
       "      <td>Уголовно-правовая специализация</td>\n",
       "      <td>ЮЖНО-РОССИЙСКИЙ ИНСТИТУТ УПРАВЛЕНИЯ - ФИЛИАЛ</td>\n",
       "    </tr>\n",
       "    <tr>\n",
       "      <th>2885</th>\n",
       "      <td>40.05.01</td>\n",
       "      <td>Правовое обеспечение национальной безопасности</td>\n",
       "      <td>Государственно-правовая специализация</td>\n",
       "      <td>ЮЖНО-РОССИЙСКИЙ ИНСТИТУТ УПРАВЛЕНИЯ - ФИЛИАЛ</td>\n",
       "    </tr>\n",
       "  </tbody>\n",
       "</table>\n",
       "<p>775 rows × 4 columns</p>\n",
       "</div>"
      ],
      "text/plain": [
       "           Код                                     Направление  \\\n",
       "5     37.03.01                                      Психология   \n",
       "8     37.03.01                                      Психология   \n",
       "11    38.03.01                                       Экономика   \n",
       "11    38.03.01                                       Экономика   \n",
       "14    38.03.01                                       Экономика   \n",
       "...        ...                                             ...   \n",
       "2873  40.05.01  Правовое обеспечение национальной безопасности   \n",
       "2879  38.05.01                      Экономическая безопасность   \n",
       "2885  40.05.01  Правовое обеспечение национальной безопасности   \n",
       "2885  40.05.01  Правовое обеспечение национальной безопасности   \n",
       "2885  40.05.01  Правовое обеспечение национальной безопасности   \n",
       "\n",
       "                              Образовательная программа  \\\n",
       "5                                 Психология управления   \n",
       "8                                 Психология управления   \n",
       "11                     Экономика и управление финансами   \n",
       "11                             Налоги и налогообложение   \n",
       "14                     Экономика и управление финансами   \n",
       "...                                                 ...   \n",
       "2873              Государственно-правовая специализация   \n",
       "2879  Экономико-правовое обеспечение экономической б...   \n",
       "2885                  Гражданско-правовая специализация   \n",
       "2885                    Уголовно-правовая специализация   \n",
       "2885              Государственно-правовая специализация   \n",
       "\n",
       "                                     Подразделение  \n",
       "5                                 АЛТАЙСКИЙ ФИЛИАЛ  \n",
       "8                                 АЛТАЙСКИЙ ФИЛИАЛ  \n",
       "11                                АЛТАЙСКИЙ ФИЛИАЛ  \n",
       "11                                АЛТАЙСКИЙ ФИЛИАЛ  \n",
       "14                                АЛТАЙСКИЙ ФИЛИАЛ  \n",
       "...                                            ...  \n",
       "2873  ЮЖНО-РОССИЙСКИЙ ИНСТИТУТ УПРАВЛЕНИЯ - ФИЛИАЛ  \n",
       "2879  ЮЖНО-РОССИЙСКИЙ ИНСТИТУТ УПРАВЛЕНИЯ - ФИЛИАЛ  \n",
       "2885  ЮЖНО-РОССИЙСКИЙ ИНСТИТУТ УПРАВЛЕНИЯ - ФИЛИАЛ  \n",
       "2885  ЮЖНО-РОССИЙСКИЙ ИНСТИТУТ УПРАВЛЕНИЯ - ФИЛИАЛ  \n",
       "2885  ЮЖНО-РОССИЙСКИЙ ИНСТИТУТ УПРАВЛЕНИЯ - ФИЛИАЛ  \n",
       "\n",
       "[775 rows x 4 columns]"
      ]
     },
     "execution_count": 250,
     "metadata": {},
     "output_type": "execute_result"
    }
   ],
   "source": [
    "final_df2"
   ]
  },
  {
   "cell_type": "markdown",
   "id": "7a3a5107",
   "metadata": {},
   "source": [
    "# Объединим"
   ]
  },
  {
   "cell_type": "code",
   "execution_count": 251,
   "id": "8de72d5d",
   "metadata": {
    "ExecuteTime": {
     "end_time": "2021-12-16T21:49:30.914841Z",
     "start_time": "2021-12-16T21:49:30.902175Z"
    }
   },
   "outputs": [],
   "source": [
    "df_final = pd.concat([final_df, final_df2])"
   ]
  },
  {
   "cell_type": "code",
   "execution_count": 252,
   "id": "5e3ac8a6",
   "metadata": {
    "ExecuteTime": {
     "end_time": "2021-12-16T21:49:31.156918Z",
     "start_time": "2021-12-16T21:49:31.150361Z"
    }
   },
   "outputs": [
    {
     "data": {
      "text/plain": [
       "(945, 4)"
      ]
     },
     "execution_count": 252,
     "metadata": {},
     "output_type": "execute_result"
    }
   ],
   "source": [
    "df_final.shape"
   ]
  },
  {
   "cell_type": "code",
   "execution_count": 253,
   "id": "92693b6f",
   "metadata": {
    "ExecuteTime": {
     "end_time": "2021-12-16T21:49:34.407047Z",
     "start_time": "2021-12-16T21:49:34.389845Z"
    }
   },
   "outputs": [],
   "source": [
    "df_final = df_final.drop_duplicates()"
   ]
  },
  {
   "cell_type": "code",
   "execution_count": 256,
   "id": "d7e57518",
   "metadata": {
    "ExecuteTime": {
     "end_time": "2021-12-16T21:49:59.977601Z",
     "start_time": "2021-12-16T21:49:59.966639Z"
    }
   },
   "outputs": [],
   "source": [
    "df_final = df_final.reset_index(drop='index')"
   ]
  },
  {
   "cell_type": "markdown",
   "id": "ba2d6319",
   "metadata": {},
   "source": [
    "Заменим \"ё\" на \"е\" везде"
   ]
  },
  {
   "cell_type": "code",
   "execution_count": 259,
   "id": "206975ed",
   "metadata": {
    "ExecuteTime": {
     "end_time": "2021-12-16T21:52:11.138170Z",
     "start_time": "2021-12-16T21:52:11.124977Z"
    }
   },
   "outputs": [],
   "source": [
    "for col in df_final.columns:\n",
    "    df_final[col] = df_final[col].apply(lambda x: x.replace('ё', 'е'))"
   ]
  },
  {
   "cell_type": "code",
   "execution_count": 260,
   "id": "f77eb0ff",
   "metadata": {
    "ExecuteTime": {
     "end_time": "2021-12-16T21:52:12.098413Z",
     "start_time": "2021-12-16T21:52:12.087102Z"
    }
   },
   "outputs": [
    {
     "data": {
      "text/plain": [
       "(528, 4)"
      ]
     },
     "execution_count": 260,
     "metadata": {},
     "output_type": "execute_result"
    }
   ],
   "source": [
    "df_final.shape"
   ]
  },
  {
   "cell_type": "code",
   "execution_count": 261,
   "id": "057b259a",
   "metadata": {
    "ExecuteTime": {
     "end_time": "2021-12-16T21:52:13.488181Z",
     "start_time": "2021-12-16T21:52:13.466854Z"
    }
   },
   "outputs": [
    {
     "data": {
      "text/html": [
       "<div>\n",
       "<style scoped>\n",
       "    .dataframe tbody tr th:only-of-type {\n",
       "        vertical-align: middle;\n",
       "    }\n",
       "\n",
       "    .dataframe tbody tr th {\n",
       "        vertical-align: top;\n",
       "    }\n",
       "\n",
       "    .dataframe thead th {\n",
       "        text-align: right;\n",
       "    }\n",
       "</style>\n",
       "<table border=\"1\" class=\"dataframe\">\n",
       "  <thead>\n",
       "    <tr style=\"text-align: right;\">\n",
       "      <th></th>\n",
       "      <th>Код</th>\n",
       "      <th>Направление</th>\n",
       "      <th>Образовательная программа</th>\n",
       "      <th>Подразделение</th>\n",
       "    </tr>\n",
       "  </thead>\n",
       "  <tbody>\n",
       "    <tr>\n",
       "      <th>0</th>\n",
       "      <td>01.03.02</td>\n",
       "      <td>Прикладная математика и информатика</td>\n",
       "      <td>Прикладные цифровые технологии</td>\n",
       "      <td>Школа ИТ- менеджмента ЭМИТ</td>\n",
       "    </tr>\n",
       "    <tr>\n",
       "      <th>1</th>\n",
       "      <td>09.03.03</td>\n",
       "      <td>Прикладная информатика</td>\n",
       "      <td>Прикладная информатика в экономике</td>\n",
       "      <td>ФИТАД ЭМИТ</td>\n",
       "    </tr>\n",
       "    <tr>\n",
       "      <th>2</th>\n",
       "      <td>09.03.03</td>\n",
       "      <td>Прикладная информатика</td>\n",
       "      <td>Цифровые технологии</td>\n",
       "      <td>ФИТАД ЭМИТ</td>\n",
       "    </tr>\n",
       "    <tr>\n",
       "      <th>3</th>\n",
       "      <td>09.03.03</td>\n",
       "      <td>Прикладная информатика</td>\n",
       "      <td>Прикладная информатика в информационной безоп...</td>\n",
       "      <td>ФИТАД ЭМИТ</td>\n",
       "    </tr>\n",
       "    <tr>\n",
       "      <th>4</th>\n",
       "      <td>09.03.03</td>\n",
       "      <td>Прикладная информатика</td>\n",
       "      <td>Прикладная информатика в цифровой экономике</td>\n",
       "      <td>ФИТАД ЭМИТ</td>\n",
       "    </tr>\n",
       "    <tr>\n",
       "      <th>...</th>\n",
       "      <td>...</td>\n",
       "      <td>...</td>\n",
       "      <td>...</td>\n",
       "      <td>...</td>\n",
       "    </tr>\n",
       "    <tr>\n",
       "      <th>523</th>\n",
       "      <td>38.05.01</td>\n",
       "      <td>Экономическая безопасность</td>\n",
       "      <td>Финансовый учет и контроль в правоохранительн...</td>\n",
       "      <td>ЮЖНО-РОССИЙСКИЙ ИНСТИТУТ УПРАВЛЕНИЯ - ФИЛИАЛ</td>\n",
       "    </tr>\n",
       "    <tr>\n",
       "      <th>524</th>\n",
       "      <td>40.05.01</td>\n",
       "      <td>Правовое обеспечение национальной безопасности</td>\n",
       "      <td>Гражданско-правовая специализация</td>\n",
       "      <td>ЮЖНО-РОССИЙСКИЙ ИНСТИТУТ УПРАВЛЕНИЯ - ФИЛИАЛ</td>\n",
       "    </tr>\n",
       "    <tr>\n",
       "      <th>525</th>\n",
       "      <td>40.05.01</td>\n",
       "      <td>Правовое обеспечение национальной безопасности</td>\n",
       "      <td>Уголовно-правовая специализация</td>\n",
       "      <td>ЮЖНО-РОССИЙСКИЙ ИНСТИТУТ УПРАВЛЕНИЯ - ФИЛИАЛ</td>\n",
       "    </tr>\n",
       "    <tr>\n",
       "      <th>526</th>\n",
       "      <td>40.05.01</td>\n",
       "      <td>Правовое обеспечение национальной безопасности</td>\n",
       "      <td>Государственно-правовая специализация</td>\n",
       "      <td>ЮЖНО-РОССИЙСКИЙ ИНСТИТУТ УПРАВЛЕНИЯ - ФИЛИАЛ</td>\n",
       "    </tr>\n",
       "    <tr>\n",
       "      <th>527</th>\n",
       "      <td>38.05.01</td>\n",
       "      <td>Экономическая безопасность</td>\n",
       "      <td>Экономико-правовое обеспечение экономической б...</td>\n",
       "      <td>ЮЖНО-РОССИЙСКИЙ ИНСТИТУТ УПРАВЛЕНИЯ - ФИЛИАЛ</td>\n",
       "    </tr>\n",
       "  </tbody>\n",
       "</table>\n",
       "<p>528 rows × 4 columns</p>\n",
       "</div>"
      ],
      "text/plain": [
       "          Код                                     Направление  \\\n",
       "0    01.03.02             Прикладная математика и информатика   \n",
       "1    09.03.03                          Прикладная информатика   \n",
       "2    09.03.03                          Прикладная информатика   \n",
       "3    09.03.03                          Прикладная информатика   \n",
       "4    09.03.03                          Прикладная информатика   \n",
       "..        ...                                             ...   \n",
       "523  38.05.01                      Экономическая безопасность   \n",
       "524  40.05.01  Правовое обеспечение национальной безопасности   \n",
       "525  40.05.01  Правовое обеспечение национальной безопасности   \n",
       "526  40.05.01  Правовое обеспечение национальной безопасности   \n",
       "527  38.05.01                      Экономическая безопасность   \n",
       "\n",
       "                             Образовательная программа  \\\n",
       "0                       Прикладные цифровые технологии   \n",
       "1                   Прикладная информатика в экономике   \n",
       "2                                  Цифровые технологии   \n",
       "3     Прикладная информатика в информационной безоп...   \n",
       "4          Прикладная информатика в цифровой экономике   \n",
       "..                                                 ...   \n",
       "523   Финансовый учет и контроль в правоохранительн...   \n",
       "524                  Гражданско-правовая специализация   \n",
       "525                    Уголовно-правовая специализация   \n",
       "526              Государственно-правовая специализация   \n",
       "527  Экономико-правовое обеспечение экономической б...   \n",
       "\n",
       "                                    Подразделение  \n",
       "0                      Школа ИТ- менеджмента ЭМИТ  \n",
       "1                                      ФИТАД ЭМИТ  \n",
       "2                                      ФИТАД ЭМИТ  \n",
       "3                                      ФИТАД ЭМИТ  \n",
       "4                                      ФИТАД ЭМИТ  \n",
       "..                                            ...  \n",
       "523  ЮЖНО-РОССИЙСКИЙ ИНСТИТУТ УПРАВЛЕНИЯ - ФИЛИАЛ  \n",
       "524  ЮЖНО-РОССИЙСКИЙ ИНСТИТУТ УПРАВЛЕНИЯ - ФИЛИАЛ  \n",
       "525  ЮЖНО-РОССИЙСКИЙ ИНСТИТУТ УПРАВЛЕНИЯ - ФИЛИАЛ  \n",
       "526  ЮЖНО-РОССИЙСКИЙ ИНСТИТУТ УПРАВЛЕНИЯ - ФИЛИАЛ  \n",
       "527  ЮЖНО-РОССИЙСКИЙ ИНСТИТУТ УПРАВЛЕНИЯ - ФИЛИАЛ  \n",
       "\n",
       "[528 rows x 4 columns]"
      ]
     },
     "execution_count": 261,
     "metadata": {},
     "output_type": "execute_result"
    }
   ],
   "source": [
    "df_final"
   ]
  },
  {
   "cell_type": "code",
   "execution_count": null,
   "id": "341c0fa2",
   "metadata": {},
   "outputs": [],
   "source": []
  }
 ],
 "metadata": {
  "kernelspec": {
   "display_name": "Python 3 (ipykernel)",
   "language": "python",
   "name": "python3"
  },
  "language_info": {
   "codemirror_mode": {
    "name": "ipython",
    "version": 3
   },
   "file_extension": ".py",
   "mimetype": "text/x-python",
   "name": "python",
   "nbconvert_exporter": "python",
   "pygments_lexer": "ipython3",
   "version": "3.9.7"
  },
  "toc": {
   "base_numbering": 1,
   "nav_menu": {},
   "number_sections": true,
   "sideBar": true,
   "skip_h1_title": false,
   "title_cell": "Table of Contents",
   "title_sidebar": "Contents",
   "toc_cell": false,
   "toc_position": {},
   "toc_section_display": true,
   "toc_window_display": true
  }
 },
 "nbformat": 4,
 "nbformat_minor": 5
}
